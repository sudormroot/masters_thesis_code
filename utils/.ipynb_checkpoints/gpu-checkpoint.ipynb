{
 "cells": [
  {
   "cell_type": "code",
   "execution_count": null,
   "id": "027500f7-07aa-495f-8b75-dfca4ff85df4",
   "metadata": {},
   "outputs": [],
   "source": [
    "!echo y|pip3 uninstall pyopencl\n",
    "!echo y|pip3 uninstall plaidml\n",
    "!echo y|pip3 uninstall plaidml-keras\n",
    "!echo y|pip3 uninstall plaidbench"
   ]
  },
  {
   "cell_type": "code",
   "execution_count": 2,
   "id": "352a6371-9440-433e-a0db-5d3fe5e4c0f3",
   "metadata": {},
   "outputs": [
    {
     "name": "stdout",
     "output_type": "stream",
     "text": [
      "ERROR: unknown command \"reinstall\" - maybe you meant \"install\"\n"
     ]
    }
   ],
   "source": [
    "!echo y|pip3 uninstall \n",
    "!pip3 install plaidml-keras"
   ]
  },
  {
   "cell_type": "code",
   "execution_count": 15,
   "id": "4373ce29-7f22-4ea8-8822-5d7b5a6b6306",
   "metadata": {},
   "outputs": [
    {
     "name": "stdout",
     "output_type": "stream",
     "text": [
      "Requirement already satisfied: pyopencl in /usr/local/anaconda3/lib/python3.8/site-packages (2021.2.6)\n",
      "Requirement already satisfied: pytools>=2021.2.7 in /usr/local/anaconda3/lib/python3.8/site-packages (from pyopencl) (2021.2.7)\n",
      "Requirement already satisfied: appdirs>=1.4.0 in /usr/local/anaconda3/lib/python3.8/site-packages (from pyopencl) (1.4.4)\n",
      "Requirement already satisfied: numpy in /usr/local/anaconda3/lib/python3.8/site-packages (from pyopencl) (1.19.5)\n"
     ]
    }
   ],
   "source": [
    "!pip3 install pyopencl"
   ]
  },
  {
   "cell_type": "code",
   "execution_count": 2,
   "id": "77e46c92-6d0d-4e6a-863e-3855e377bcbc",
   "metadata": {},
   "outputs": [
    {
     "name": "stdout",
     "output_type": "stream",
     "text": [
      "Requirement already satisfied: plaidbench in /usr/local/anaconda3/lib/python3.8/site-packages (0.7.0)\n",
      "Requirement already satisfied: click>=6.0.0 in /usr/local/anaconda3/lib/python3.8/site-packages (from plaidbench) (7.1.2)\n",
      "Requirement already satisfied: h5py>=2.7.0 in /usr/local/anaconda3/lib/python3.8/site-packages (from plaidbench) (3.1.0)\n",
      "Requirement already satisfied: enum34>=1.1.6 in /usr/local/anaconda3/lib/python3.8/site-packages (from plaidbench) (1.1.10)\n",
      "Requirement already satisfied: six in /usr/local/anaconda3/lib/python3.8/site-packages (from plaidbench) (1.15.0)\n",
      "Requirement already satisfied: colorama in /usr/local/anaconda3/lib/python3.8/site-packages (from plaidbench) (0.4.4)\n",
      "Requirement already satisfied: plaidml in /usr/local/anaconda3/lib/python3.8/site-packages (from plaidbench) (0.7.0)\n",
      "Requirement already satisfied: numpy in /usr/local/anaconda3/lib/python3.8/site-packages (from plaidbench) (1.19.5)\n",
      "Requirement already satisfied: cffi in /usr/local/anaconda3/lib/python3.8/site-packages (from plaidml->plaidbench) (1.14.5)\n",
      "Requirement already satisfied: pycparser in /usr/local/anaconda3/lib/python3.8/site-packages (from cffi->plaidml->plaidbench) (2.20)\n"
     ]
    }
   ],
   "source": [
    "!pip3 install plaidbench\n"
   ]
  },
  {
   "cell_type": "code",
   "execution_count": 16,
   "id": "7eb12967-5631-4ee8-8bdc-fdb751afd34f",
   "metadata": {},
   "outputs": [
    {
     "name": "stdout",
     "output_type": "stream",
     "text": [
      "\n",
      "PlaidML Setup (0.7.0)\n",
      "\n",
      "Thanks for using PlaidML!\n",
      "\n",
      "The feedback we have received from our users indicates an ever-increasing need\n",
      "for performance, programmability, and portability. During the past few months,\n",
      "we have been restructuring PlaidML to address those needs.  To make all the\n",
      "changes we need to make while supporting our current user base, all development\n",
      "of PlaidML has moved to a branch — plaidml-v1. We will continue to maintain and\n",
      "support the master branch of PlaidML and the stable 0.7.0 release.\n",
      "\n",
      "Read more here: https://github.com/plaidml/plaidml \n",
      "\n",
      "Some Notes:\n",
      "  * Bugs and other issues: https://github.com/plaidml/plaidml/issues\n",
      "  * Questions: https://stackoverflow.com/questions/tagged/plaidml\n",
      "  * Say hello: https://groups.google.com/forum/#!forum/plaidml-dev\n",
      "  * PlaidML is licensed under the Apache License 2.0\n",
      " \n",
      "\n",
      "Default Config Devices:\n",
      "   llvm_cpu.0 : CPU (via LLVM)\n",
      "   metal_intel(r)_iris(tm)_plus_graphics_645.0 : Intel(R) Iris(TM) Plus Graphics 645 (Metal)\n",
      "\n",
      "Experimental Config Devices:\n",
      "   llvm_cpu.0 : CPU (via LLVM)\n",
      "   opencl_intel_iris(tm)_plus_graphics_645.0 : Intel Inc. Intel(R) Iris(TM) Plus Graphics 645 (OpenCL)\n",
      "   metal_intel(r)_iris(tm)_plus_graphics_645.0 : Intel(R) Iris(TM) Plus Graphics 645 (Metal)\n",
      "\n",
      "Using experimental devices can cause poor performance, crashes, and other nastiness.\n",
      "\n",
      "Enable experimental device support? (y,n)[n]:\n",
      "Multiple devices detected (You can override by setting PLAIDML_DEVICE_IDS).\n",
      "Please choose a default device:\n",
      "\n",
      "   1 : llvm_cpu.0\n",
      "   2 : opencl_intel_iris(tm)_plus_graphics_645.0\n",
      "   3 : metal_intel(r)_iris(tm)_plus_graphics_645.0\n",
      "\n",
      "Default device? (1,2,3)[1]:\n",
      "Selected device:\n",
      "    opencl_intel_iris(tm)_plus_graphics_645.0\n",
      "\n",
      "Almost done. Multiplying some matrices...\n",
      "Tile code:\n",
      "  function (B[X,Z], C[Z,Y]) -> (A) { A[x,y : X,Y] = +(B[x,z] * C[z,y]); }\n",
      "Whew. That worked.\n",
      "\n",
      "Save settings to /Users/jiaolin/.plaidml? (y,n)[y]:Success!\n",
      "\n"
     ]
    }
   ],
   "source": [
    "!echo \"y\\n2\\ny\" | plaidml-setup"
   ]
  },
  {
   "cell_type": "code",
   "execution_count": 1,
   "id": "877e8bbd-eafa-4e94-ac48-2fc1312608ec",
   "metadata": {},
   "outputs": [
    {
     "ename": "AttributeError",
     "evalue": "module 'keras.utils.generic_utils' has no attribute 'populate_dict_with_module_objects'",
     "output_type": "error",
     "traceback": [
      "\u001b[0;31m---------------------------------------------------------------------------\u001b[0m",
      "\u001b[0;31mAttributeError\u001b[0m                            Traceback (most recent call last)",
      "\u001b[0;32m<ipython-input-1-9ebd783acb03>\u001b[0m in \u001b[0;36m<module>\u001b[0;34m\u001b[0m\n\u001b[1;32m      2\u001b[0m \u001b[0;34m\u001b[0m\u001b[0m\n\u001b[1;32m      3\u001b[0m \u001b[0;32mimport\u001b[0m \u001b[0mplaidml\u001b[0m\u001b[0;34m.\u001b[0m\u001b[0mkeras\u001b[0m\u001b[0;34m\u001b[0m\u001b[0;34m\u001b[0m\u001b[0m\n\u001b[0;32m----> 4\u001b[0;31m \u001b[0mplaidml\u001b[0m\u001b[0;34m.\u001b[0m\u001b[0mkeras\u001b[0m\u001b[0;34m.\u001b[0m\u001b[0minstall_backend\u001b[0m\u001b[0;34m(\u001b[0m\u001b[0;34m)\u001b[0m\u001b[0;34m\u001b[0m\u001b[0;34m\u001b[0m\u001b[0m\n\u001b[0m\u001b[1;32m      5\u001b[0m \u001b[0;34m\u001b[0m\u001b[0m\n\u001b[1;32m      6\u001b[0m \u001b[0;31m# IMPORTANT: PATH MIGHT BE DIFFERENT. SEE STEP 6\u001b[0m\u001b[0;34m\u001b[0m\u001b[0;34m\u001b[0m\u001b[0;34m\u001b[0m\u001b[0m\n",
      "\u001b[0;32m/usr/local/anaconda3/lib/python3.8/site-packages/plaidml/keras/__init__.py\u001b[0m in \u001b[0;36minstall_backend\u001b[0;34m(import_path, backend, trace_file)\u001b[0m\n\u001b[1;32m     66\u001b[0m \u001b[0;34m\u001b[0m\u001b[0m\n\u001b[1;32m     67\u001b[0m     \u001b[0;31m# Hack around Keras expecting everything not Tensorflow to be Theano.\u001b[0m\u001b[0;34m\u001b[0m\u001b[0;34m\u001b[0m\u001b[0;34m\u001b[0m\u001b[0m\n\u001b[0;32m---> 68\u001b[0;31m     \u001b[0;32mfrom\u001b[0m \u001b[0mkeras\u001b[0m\u001b[0;34m.\u001b[0m\u001b[0mutils\u001b[0m \u001b[0;32mimport\u001b[0m \u001b[0mconv_utils\u001b[0m\u001b[0;34m\u001b[0m\u001b[0;34m\u001b[0m\u001b[0m\n\u001b[0m\u001b[1;32m     69\u001b[0m     \u001b[0mconv_utils\u001b[0m\u001b[0;34m.\u001b[0m\u001b[0mconvert_kernel\u001b[0m \u001b[0;34m=\u001b[0m \u001b[0;32mlambda\u001b[0m \u001b[0mx\u001b[0m\u001b[0;34m:\u001b[0m \u001b[0mx\u001b[0m\u001b[0;34m\u001b[0m\u001b[0;34m\u001b[0m\u001b[0m\n\u001b[1;32m     70\u001b[0m \u001b[0;34m\u001b[0m\u001b[0m\n",
      "\u001b[0;32m/usr/local/anaconda3/lib/python3.8/site-packages/keras/__init__.py\u001b[0m in \u001b[0;36m<module>\u001b[0;34m\u001b[0m\n\u001b[1;32m      1\u001b[0m \u001b[0;32mfrom\u001b[0m \u001b[0m__future__\u001b[0m \u001b[0;32mimport\u001b[0m \u001b[0mabsolute_import\u001b[0m\u001b[0;34m\u001b[0m\u001b[0;34m\u001b[0m\u001b[0m\n\u001b[1;32m      2\u001b[0m \u001b[0;34m\u001b[0m\u001b[0m\n\u001b[0;32m----> 3\u001b[0;31m \u001b[0;32mfrom\u001b[0m \u001b[0;34m.\u001b[0m \u001b[0;32mimport\u001b[0m \u001b[0mutils\u001b[0m\u001b[0;34m\u001b[0m\u001b[0;34m\u001b[0m\u001b[0m\n\u001b[0m\u001b[1;32m      4\u001b[0m \u001b[0;32mfrom\u001b[0m \u001b[0;34m.\u001b[0m \u001b[0;32mimport\u001b[0m \u001b[0mactivations\u001b[0m\u001b[0;34m\u001b[0m\u001b[0;34m\u001b[0m\u001b[0m\n\u001b[1;32m      5\u001b[0m \u001b[0;32mfrom\u001b[0m \u001b[0;34m.\u001b[0m \u001b[0;32mimport\u001b[0m \u001b[0mapplications\u001b[0m\u001b[0;34m\u001b[0m\u001b[0;34m\u001b[0m\u001b[0m\n",
      "\u001b[0;32m/usr/local/anaconda3/lib/python3.8/site-packages/keras/utils/__init__.py\u001b[0m in \u001b[0;36m<module>\u001b[0;34m\u001b[0m\n\u001b[1;32m     25\u001b[0m \u001b[0;32mfrom\u001b[0m \u001b[0;34m.\u001b[0m\u001b[0mnp_utils\u001b[0m \u001b[0;32mimport\u001b[0m \u001b[0mto_categorical\u001b[0m\u001b[0;34m\u001b[0m\u001b[0;34m\u001b[0m\u001b[0m\n\u001b[1;32m     26\u001b[0m \u001b[0;32mfrom\u001b[0m \u001b[0;34m.\u001b[0m\u001b[0mnp_utils\u001b[0m \u001b[0;32mimport\u001b[0m \u001b[0mnormalize\u001b[0m\u001b[0;34m\u001b[0m\u001b[0;34m\u001b[0m\u001b[0m\n\u001b[0;32m---> 27\u001b[0;31m \u001b[0;32mfrom\u001b[0m \u001b[0;34m.\u001b[0m\u001b[0mmulti_gpu_utils\u001b[0m \u001b[0;32mimport\u001b[0m \u001b[0mmulti_gpu_model\u001b[0m\u001b[0;34m\u001b[0m\u001b[0;34m\u001b[0m\u001b[0m\n\u001b[0m",
      "\u001b[0;32m/usr/local/anaconda3/lib/python3.8/site-packages/keras/utils/multi_gpu_utils.py\u001b[0m in \u001b[0;36m<module>\u001b[0;34m\u001b[0m\n\u001b[1;32m      5\u001b[0m \u001b[0;32mfrom\u001b[0m \u001b[0m__future__\u001b[0m \u001b[0;32mimport\u001b[0m \u001b[0mprint_function\u001b[0m\u001b[0;34m\u001b[0m\u001b[0;34m\u001b[0m\u001b[0m\n\u001b[1;32m      6\u001b[0m \u001b[0;34m\u001b[0m\u001b[0m\n\u001b[0;32m----> 7\u001b[0;31m \u001b[0;32mfrom\u001b[0m \u001b[0;34m.\u001b[0m\u001b[0;34m.\u001b[0m\u001b[0mlayers\u001b[0m\u001b[0;34m.\u001b[0m\u001b[0mmerge\u001b[0m \u001b[0;32mimport\u001b[0m \u001b[0mconcatenate\u001b[0m\u001b[0;34m\u001b[0m\u001b[0;34m\u001b[0m\u001b[0m\n\u001b[0m\u001b[1;32m      8\u001b[0m \u001b[0;32mfrom\u001b[0m \u001b[0;34m.\u001b[0m\u001b[0;34m.\u001b[0m \u001b[0;32mimport\u001b[0m \u001b[0mbackend\u001b[0m \u001b[0;32mas\u001b[0m \u001b[0mK\u001b[0m\u001b[0;34m\u001b[0m\u001b[0;34m\u001b[0m\u001b[0m\n\u001b[1;32m      9\u001b[0m \u001b[0;32mfrom\u001b[0m \u001b[0;34m.\u001b[0m\u001b[0;34m.\u001b[0m\u001b[0mlayers\u001b[0m\u001b[0;34m.\u001b[0m\u001b[0mcore\u001b[0m \u001b[0;32mimport\u001b[0m \u001b[0mLambda\u001b[0m\u001b[0;34m\u001b[0m\u001b[0;34m\u001b[0m\u001b[0m\n",
      "\u001b[0;32m/usr/local/anaconda3/lib/python3.8/site-packages/keras/layers/__init__.py\u001b[0m in \u001b[0;36m<module>\u001b[0;34m\u001b[0m\n\u001b[1;32m      2\u001b[0m \u001b[0;34m\u001b[0m\u001b[0m\n\u001b[1;32m      3\u001b[0m \u001b[0;32mfrom\u001b[0m \u001b[0;34m.\u001b[0m\u001b[0;34m.\u001b[0m\u001b[0mutils\u001b[0m\u001b[0;34m.\u001b[0m\u001b[0mgeneric_utils\u001b[0m \u001b[0;32mimport\u001b[0m \u001b[0mdeserialize_keras_object\u001b[0m\u001b[0;34m\u001b[0m\u001b[0;34m\u001b[0m\u001b[0m\n\u001b[0;32m----> 4\u001b[0;31m \u001b[0;32mfrom\u001b[0m \u001b[0;34m.\u001b[0m\u001b[0;34m.\u001b[0m\u001b[0mengine\u001b[0m\u001b[0;34m.\u001b[0m\u001b[0mbase_layer\u001b[0m \u001b[0;32mimport\u001b[0m \u001b[0mLayer\u001b[0m\u001b[0;34m\u001b[0m\u001b[0;34m\u001b[0m\u001b[0m\n\u001b[0m\u001b[1;32m      5\u001b[0m \u001b[0;32mfrom\u001b[0m \u001b[0;34m.\u001b[0m\u001b[0;34m.\u001b[0m\u001b[0mengine\u001b[0m \u001b[0;32mimport\u001b[0m \u001b[0mInput\u001b[0m\u001b[0;34m\u001b[0m\u001b[0;34m\u001b[0m\u001b[0m\n\u001b[1;32m      6\u001b[0m \u001b[0;32mfrom\u001b[0m \u001b[0;34m.\u001b[0m\u001b[0;34m.\u001b[0m\u001b[0mengine\u001b[0m \u001b[0;32mimport\u001b[0m \u001b[0mInputLayer\u001b[0m\u001b[0;34m\u001b[0m\u001b[0;34m\u001b[0m\u001b[0m\n",
      "\u001b[0;32m/usr/local/anaconda3/lib/python3.8/site-packages/keras/engine/__init__.py\u001b[0m in \u001b[0;36m<module>\u001b[0;34m\u001b[0m\n\u001b[1;32m      1\u001b[0m \u001b[0;31m# note: `Node` is an internal class,\u001b[0m\u001b[0;34m\u001b[0m\u001b[0;34m\u001b[0m\u001b[0;34m\u001b[0m\u001b[0m\n\u001b[1;32m      2\u001b[0m \u001b[0;31m# it isn't meant to be used by Keras users.\u001b[0m\u001b[0;34m\u001b[0m\u001b[0;34m\u001b[0m\u001b[0;34m\u001b[0m\u001b[0m\n\u001b[0;32m----> 3\u001b[0;31m \u001b[0;32mfrom\u001b[0m \u001b[0;34m.\u001b[0m\u001b[0minput_layer\u001b[0m \u001b[0;32mimport\u001b[0m \u001b[0mInput\u001b[0m\u001b[0;34m\u001b[0m\u001b[0;34m\u001b[0m\u001b[0m\n\u001b[0m\u001b[1;32m      4\u001b[0m \u001b[0;32mfrom\u001b[0m \u001b[0;34m.\u001b[0m\u001b[0minput_layer\u001b[0m \u001b[0;32mimport\u001b[0m \u001b[0mInputLayer\u001b[0m\u001b[0;34m\u001b[0m\u001b[0;34m\u001b[0m\u001b[0m\n\u001b[1;32m      5\u001b[0m \u001b[0;32mfrom\u001b[0m \u001b[0;34m.\u001b[0m\u001b[0mbase_layer\u001b[0m \u001b[0;32mimport\u001b[0m \u001b[0mInputSpec\u001b[0m\u001b[0;34m\u001b[0m\u001b[0;34m\u001b[0m\u001b[0m\n",
      "\u001b[0;32m/usr/local/anaconda3/lib/python3.8/site-packages/keras/engine/input_layer.py\u001b[0m in \u001b[0;36m<module>\u001b[0;34m\u001b[0m\n\u001b[1;32m      5\u001b[0m \u001b[0;32mfrom\u001b[0m \u001b[0m__future__\u001b[0m \u001b[0;32mimport\u001b[0m \u001b[0mdivision\u001b[0m\u001b[0;34m\u001b[0m\u001b[0;34m\u001b[0m\u001b[0m\n\u001b[1;32m      6\u001b[0m \u001b[0;34m\u001b[0m\u001b[0m\n\u001b[0;32m----> 7\u001b[0;31m \u001b[0;32mfrom\u001b[0m \u001b[0;34m.\u001b[0m\u001b[0mbase_layer\u001b[0m \u001b[0;32mimport\u001b[0m \u001b[0mLayer\u001b[0m\u001b[0;34m\u001b[0m\u001b[0;34m\u001b[0m\u001b[0m\n\u001b[0m\u001b[1;32m      8\u001b[0m \u001b[0;32mfrom\u001b[0m \u001b[0;34m.\u001b[0m\u001b[0mbase_layer\u001b[0m \u001b[0;32mimport\u001b[0m \u001b[0mNode\u001b[0m\u001b[0;34m\u001b[0m\u001b[0;34m\u001b[0m\u001b[0m\n\u001b[1;32m      9\u001b[0m \u001b[0;32mfrom\u001b[0m \u001b[0;34m.\u001b[0m\u001b[0;34m.\u001b[0m \u001b[0;32mimport\u001b[0m \u001b[0mbackend\u001b[0m \u001b[0;32mas\u001b[0m \u001b[0mK\u001b[0m\u001b[0;34m\u001b[0m\u001b[0;34m\u001b[0m\u001b[0m\n",
      "\u001b[0;32m/usr/local/anaconda3/lib/python3.8/site-packages/keras/engine/base_layer.py\u001b[0m in \u001b[0;36m<module>\u001b[0;34m\u001b[0m\n\u001b[1;32m     10\u001b[0m \u001b[0;34m\u001b[0m\u001b[0m\n\u001b[1;32m     11\u001b[0m \u001b[0;32mfrom\u001b[0m \u001b[0;34m.\u001b[0m\u001b[0;34m.\u001b[0m \u001b[0;32mimport\u001b[0m \u001b[0mbackend\u001b[0m \u001b[0;32mas\u001b[0m \u001b[0mK\u001b[0m\u001b[0;34m\u001b[0m\u001b[0;34m\u001b[0m\u001b[0m\n\u001b[0;32m---> 12\u001b[0;31m \u001b[0;32mfrom\u001b[0m \u001b[0;34m.\u001b[0m\u001b[0;34m.\u001b[0m \u001b[0;32mimport\u001b[0m \u001b[0minitializers\u001b[0m\u001b[0;34m\u001b[0m\u001b[0;34m\u001b[0m\u001b[0m\n\u001b[0m\u001b[1;32m     13\u001b[0m \u001b[0;32mfrom\u001b[0m \u001b[0;34m.\u001b[0m\u001b[0;34m.\u001b[0m\u001b[0mutils\u001b[0m\u001b[0;34m.\u001b[0m\u001b[0mlayer_utils\u001b[0m \u001b[0;32mimport\u001b[0m \u001b[0mcount_params\u001b[0m\u001b[0;34m\u001b[0m\u001b[0;34m\u001b[0m\u001b[0m\n\u001b[1;32m     14\u001b[0m \u001b[0;32mfrom\u001b[0m \u001b[0;34m.\u001b[0m\u001b[0;34m.\u001b[0m\u001b[0mutils\u001b[0m\u001b[0;34m.\u001b[0m\u001b[0mgeneric_utils\u001b[0m \u001b[0;32mimport\u001b[0m \u001b[0mhas_arg\u001b[0m\u001b[0;34m\u001b[0m\u001b[0;34m\u001b[0m\u001b[0m\n",
      "\u001b[0;32m/usr/local/anaconda3/lib/python3.8/site-packages/keras/initializers/__init__.py\u001b[0m in \u001b[0;36m<module>\u001b[0;34m\u001b[0m\n\u001b[1;32m    122\u001b[0m \u001b[0;31m# from ALL_OBJECTS. We make no guarantees as to whether these objects will\u001b[0m\u001b[0;34m\u001b[0m\u001b[0;34m\u001b[0m\u001b[0;34m\u001b[0m\u001b[0m\n\u001b[1;32m    123\u001b[0m \u001b[0;31m# using their correct version.\u001b[0m\u001b[0;34m\u001b[0m\u001b[0;34m\u001b[0m\u001b[0;34m\u001b[0m\u001b[0m\n\u001b[0;32m--> 124\u001b[0;31m \u001b[0mpopulate_deserializable_objects\u001b[0m\u001b[0;34m(\u001b[0m\u001b[0;34m)\u001b[0m\u001b[0;34m\u001b[0m\u001b[0;34m\u001b[0m\u001b[0m\n\u001b[0m\u001b[1;32m    125\u001b[0m \u001b[0mglobals\u001b[0m\u001b[0;34m(\u001b[0m\u001b[0;34m)\u001b[0m\u001b[0;34m.\u001b[0m\u001b[0mupdate\u001b[0m\u001b[0;34m(\u001b[0m\u001b[0mLOCAL\u001b[0m\u001b[0;34m.\u001b[0m\u001b[0mALL_OBJECTS\u001b[0m\u001b[0;34m)\u001b[0m\u001b[0;34m\u001b[0m\u001b[0;34m\u001b[0m\u001b[0m\n\u001b[1;32m    126\u001b[0m \u001b[0;34m\u001b[0m\u001b[0m\n",
      "\u001b[0;32m/usr/local/anaconda3/lib/python3.8/site-packages/keras/initializers/__init__.py\u001b[0m in \u001b[0;36mpopulate_deserializable_objects\u001b[0;34m()\u001b[0m\n\u001b[1;32m     80\u001b[0m     \u001b[0mv2_objs\u001b[0m \u001b[0;34m=\u001b[0m \u001b[0;34m{\u001b[0m\u001b[0;34m}\u001b[0m\u001b[0;34m\u001b[0m\u001b[0;34m\u001b[0m\u001b[0m\n\u001b[1;32m     81\u001b[0m     \u001b[0mbase_cls\u001b[0m \u001b[0;34m=\u001b[0m \u001b[0minitializers_v2\u001b[0m\u001b[0;34m.\u001b[0m\u001b[0mInitializer\u001b[0m\u001b[0;34m\u001b[0m\u001b[0;34m\u001b[0m\u001b[0m\n\u001b[0;32m---> 82\u001b[0;31m     generic_utils.populate_dict_with_module_objects(\n\u001b[0m\u001b[1;32m     83\u001b[0m         \u001b[0mv2_objs\u001b[0m\u001b[0;34m,\u001b[0m\u001b[0;34m\u001b[0m\u001b[0;34m\u001b[0m\u001b[0m\n\u001b[1;32m     84\u001b[0m         \u001b[0;34m[\u001b[0m\u001b[0minitializers_v2\u001b[0m\u001b[0;34m]\u001b[0m\u001b[0;34m,\u001b[0m\u001b[0;34m\u001b[0m\u001b[0;34m\u001b[0m\u001b[0m\n",
      "\u001b[0;31mAttributeError\u001b[0m: module 'keras.utils.generic_utils' has no attribute 'populate_dict_with_module_objects'"
     ]
    }
   ],
   "source": [
    "import os\n",
    "\n",
    "import plaidml.keras \n",
    "plaidml.keras.install_backend()\n",
    "\n",
    "# IMPORTANT: PATH MIGHT BE DIFFERENT. SEE STEP 6\n",
    "os.environ[\"KERAS_BACKEND\"] = \"plaidml.keras.backend\"\n",
    "#os.environ[\"RUNFILES_DIR\"] = \"/usr/local/anaconda3/share/plaidml\"\n",
    "#os.environ[\"PLAIDML_NATIVE_PATH\"] = \"/usr/local/anaconda3/lib/libplaidml.dylib\"\n",
    "\n",
    "\n",
    "\n",
    "#import keras"
   ]
  },
  {
   "cell_type": "code",
   "execution_count": 12,
   "id": "89971bae-0a83-46f0-8538-2211f4b48a75",
   "metadata": {},
   "outputs": [
    {
     "name": "stdout",
     "output_type": "stream",
     "text": [
      "Traceback (most recent call last):\n",
      "  File \"/usr/local/anaconda3/bin/plaidbench\", line 8, in <module>\n",
      "    sys.exit(plaidbench())\n",
      "  File \"/usr/local/anaconda3/lib/python3.8/site-packages/click/core.py\", line 829, in __call__\n",
      "    return self.main(*args, **kwargs)\n",
      "  File \"/usr/local/anaconda3/lib/python3.8/site-packages/click/core.py\", line 782, in main\n",
      "    rv = self.invoke(ctx)\n",
      "  File \"/usr/local/anaconda3/lib/python3.8/site-packages/click/core.py\", line 1259, in invoke\n",
      "    return _process_result(sub_ctx.command.invoke(sub_ctx))\n",
      "  File \"/usr/local/anaconda3/lib/python3.8/site-packages/click/core.py\", line 1066, in invoke\n",
      "    return ctx.invoke(self.callback, **ctx.params)\n",
      "  File \"/usr/local/anaconda3/lib/python3.8/site-packages/click/core.py\", line 610, in invoke\n",
      "    return callback(*args, **kwargs)\n",
      "  File \"/usr/local/anaconda3/lib/python3.8/site-packages/click/decorators.py\", line 21, in new_func\n",
      "    return f(get_current_context(), *args, **kwargs)\n",
      "  File \"/usr/local/anaconda3/lib/python3.8/site-packages/plaidbench/frontend_keras.py\", line 411, in cli\n",
      "    frontend = Frontend(backend, fp16, train)\n",
      "  File \"/usr/local/anaconda3/lib/python3.8/site-packages/plaidbench/frontend_keras.py\", line 319, in __init__\n",
      "    importlib.import_module('plaidml.keras').install_backend()\n",
      "  File \"/usr/local/anaconda3/lib/python3.8/site-packages/plaidml/keras/__init__.py\", line 68, in install_backend\n",
      "    from keras.utils import conv_utils\n",
      "  File \"/usr/local/anaconda3/lib/python3.8/site-packages/keras/__init__.py\", line 3, in <module>\n",
      "    from . import utils\n",
      "  File \"/usr/local/anaconda3/lib/python3.8/site-packages/keras/utils/__init__.py\", line 27, in <module>\n",
      "    from .multi_gpu_utils import multi_gpu_model\n",
      "  File \"/usr/local/anaconda3/lib/python3.8/site-packages/keras/utils/multi_gpu_utils.py\", line 7, in <module>\n",
      "    from ..layers.merge import concatenate\n",
      "  File \"/usr/local/anaconda3/lib/python3.8/site-packages/keras/layers/__init__.py\", line 4, in <module>\n",
      "    from ..engine.base_layer import Layer\n",
      "  File \"/usr/local/anaconda3/lib/python3.8/site-packages/keras/engine/__init__.py\", line 3, in <module>\n",
      "    from .input_layer import Input\n",
      "  File \"/usr/local/anaconda3/lib/python3.8/site-packages/keras/engine/input_layer.py\", line 7, in <module>\n",
      "    from .base_layer import Layer\n",
      "  File \"/usr/local/anaconda3/lib/python3.8/site-packages/keras/engine/base_layer.py\", line 12, in <module>\n",
      "    from .. import initializers\n",
      "  File \"/usr/local/anaconda3/lib/python3.8/site-packages/keras/initializers/__init__.py\", line 124, in <module>\n",
      "    populate_deserializable_objects()\n",
      "  File \"/usr/local/anaconda3/lib/python3.8/site-packages/keras/initializers/__init__.py\", line 82, in populate_deserializable_objects\n",
      "    generic_utils.populate_dict_with_module_objects(\n",
      "AttributeError: module 'keras.utils.generic_utils' has no attribute 'populate_dict_with_module_objects'\n"
     ]
    }
   ],
   "source": [
    "!plaidbench --batch-size 16 keras --train mobilenet"
   ]
  },
  {
   "cell_type": "code",
   "execution_count": 10,
   "id": "a561b9b9-069d-4a77-ab15-b2c812b5cdba",
   "metadata": {},
   "outputs": [
    {
     "name": "stdout",
     "output_type": "stream",
     "text": [
      "Requirement already satisfied: plaidml in /usr/local/anaconda3/lib/python3.8/site-packages (0.7.0)\n",
      "Requirement already satisfied: six in /usr/local/anaconda3/lib/python3.8/site-packages (from plaidml) (1.15.0)\n",
      "Requirement already satisfied: enum34>=1.1.6 in /usr/local/anaconda3/lib/python3.8/site-packages (from plaidml) (1.1.10)\n",
      "Requirement already satisfied: numpy in /usr/local/anaconda3/lib/python3.8/site-packages (from plaidml) (1.19.5)\n",
      "Requirement already satisfied: cffi in /usr/local/anaconda3/lib/python3.8/site-packages (from plaidml) (1.14.5)\n",
      "Requirement already satisfied: pycparser in /usr/local/anaconda3/lib/python3.8/site-packages (from cffi->plaidml) (2.20)\n"
     ]
    }
   ],
   "source": [
    "!pip3 install plaidml"
   ]
  },
  {
   "cell_type": "code",
   "execution_count": null,
   "id": "b3087f85-80c7-4ca3-838c-5efe03cdbd1e",
   "metadata": {},
   "outputs": [],
   "source": []
  }
 ],
 "metadata": {
  "kernelspec": {
   "display_name": "Python 3",
   "language": "python",
   "name": "python3"
  },
  "language_info": {
   "codemirror_mode": {
    "name": "ipython",
    "version": 3
   },
   "file_extension": ".py",
   "mimetype": "text/x-python",
   "name": "python",
   "nbconvert_exporter": "python",
   "pygments_lexer": "ipython3",
   "version": "3.8.8"
  }
 },
 "nbformat": 4,
 "nbformat_minor": 5
}
