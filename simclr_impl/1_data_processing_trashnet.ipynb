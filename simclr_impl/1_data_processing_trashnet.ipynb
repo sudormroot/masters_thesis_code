{
 "cells": [
  {
   "cell_type": "code",
   "execution_count": 1,
   "metadata": {},
   "outputs": [],
   "source": [
    "import cv2 as cv\n",
    "import pandas as pd\n",
    "import os\n",
    "import pickle"
   ]
  },
  {
   "cell_type": "markdown",
   "metadata": {},
   "source": [
    "# Process Data"
   ]
  },
  {
   "cell_type": "code",
   "execution_count": 2,
   "metadata": {},
   "outputs": [],
   "source": [
    "dirname = 'data/raw/'"
   ]
  },
  {
   "cell_type": "code",
   "execution_count": 3,
   "metadata": {},
   "outputs": [],
   "source": [
    "def getListOfFiles(dirName):\n",
    "    # adapted from https://thispointer.com/python-how-to-get-list-of-files-in-directory-and-sub-directories/\n",
    "    # create a list of file and sub directories names in the given directory  \n",
    "    listOfFile = os.listdir(dirName)\n",
    "    allFiles = list()\n",
    "    # Iterate over all the entries\n",
    "    for entry in listOfFile:\n",
    "        # Create full path\n",
    "        fullPath = os.path.join(dirName, entry)\n",
    "        # If entry is a directory then get the list of files in this directory \n",
    "        if os.path.isdir(fullPath):\n",
    "            allFiles = allFiles + getListOfFiles(fullPath)\n",
    "        else:\n",
    "            allFiles.append(fullPath)\n",
    "                \n",
    "    return allFiles"
   ]
  },
  {
   "cell_type": "code",
   "execution_count": 4,
   "metadata": {},
   "outputs": [],
   "source": [
    "allFiles = getListOfFiles(dirname)"
   ]
  },
  {
   "cell_type": "code",
   "execution_count": 5,
   "metadata": {},
   "outputs": [],
   "source": [
    "new_dim = (80,80)\n",
    "\n",
    "for filename in allFiles:\n",
    "    # Reading BGR\n",
    "    img = cv.imread(filename)\n",
    "    # Resizing\n",
    "    img = img[:,64:448,:]\n",
    "    img = cv.resize(img, new_dim, interpolation = cv.INTER_AREA)\n",
    "    # Writing BGR\n",
    "    cv.imwrite(filename.replace(\"raw\",\"processed\"), img)"
   ]
  },
  {
   "cell_type": "markdown",
   "metadata": {},
   "source": [
    "# Dataframe construction from folder structure"
   ]
  },
  {
   "cell_type": "code",
   "execution_count": 6,
   "metadata": {},
   "outputs": [],
   "source": [
    "class_one_hot = {\n",
    "    \"cardboard\":[1,0,0,0,0],\n",
    "    \"glass\":[0,1,0,0,0],    \n",
    "    \"metal\":[0,0,1,0,0],    \n",
    "    \"paper\":[0,0,0,1,0],\n",
    "    \"plastic\": [0,0,0,0,1]\n",
    "}"
   ]
  },
  {
   "cell_type": "code",
   "execution_count": 7,
   "metadata": {},
   "outputs": [],
   "source": [
    "columns = [\"filename\",\"class_label\",\"class_one_hot\"]\n",
    "df = pd.DataFrame(columns=columns)\n",
    "\n",
    "class_path_folder = \"data/processed/\"\n",
    "directory = os.listdir(class_path_folder)\n",
    "i=0\n",
    "# Iterate over all the entries\n",
    "for class_label in directory:\n",
    "    # Create full path\n",
    "    fullPath_class = os.path.join(class_path_folder, class_label)\n",
    "    if os.path.isdir(fullPath_class):\n",
    "        for img in os.listdir(fullPath_class):\n",
    "            filename = os.path.join(fullPath_class, img)\n",
    "            if os.path.isfile(filename):\n",
    "                df.loc[i] = [filename, class_label, class_one_hot[class_label]]\n",
    "                i+=1 "
   ]
  },
  {
   "cell_type": "code",
   "execution_count": 8,
   "metadata": {},
   "outputs": [
    {
     "data": {
      "text/html": [
       "<div>\n",
       "<style scoped>\n",
       "    .dataframe tbody tr th:only-of-type {\n",
       "        vertical-align: middle;\n",
       "    }\n",
       "\n",
       "    .dataframe tbody tr th {\n",
       "        vertical-align: top;\n",
       "    }\n",
       "\n",
       "    .dataframe thead th {\n",
       "        text-align: right;\n",
       "    }\n",
       "</style>\n",
       "<table border=\"1\" class=\"dataframe\">\n",
       "  <thead>\n",
       "    <tr style=\"text-align: right;\">\n",
       "      <th></th>\n",
       "      <th>filename</th>\n",
       "      <th>class_label</th>\n",
       "      <th>class_one_hot</th>\n",
       "    </tr>\n",
       "  </thead>\n",
       "  <tbody>\n",
       "    <tr>\n",
       "      <th>0</th>\n",
       "      <td>data/processed/plastic/plastic80.jpg</td>\n",
       "      <td>plastic</td>\n",
       "      <td>[0, 0, 0, 0, 1]</td>\n",
       "    </tr>\n",
       "    <tr>\n",
       "      <th>1</th>\n",
       "      <td>data/processed/plastic/plastic381.jpg</td>\n",
       "      <td>plastic</td>\n",
       "      <td>[0, 0, 0, 0, 1]</td>\n",
       "    </tr>\n",
       "    <tr>\n",
       "      <th>2</th>\n",
       "      <td>data/processed/plastic/plastic169.jpg</td>\n",
       "      <td>plastic</td>\n",
       "      <td>[0, 0, 0, 0, 1]</td>\n",
       "    </tr>\n",
       "    <tr>\n",
       "      <th>3</th>\n",
       "      <td>data/processed/plastic/plastic354.jpg</td>\n",
       "      <td>plastic</td>\n",
       "      <td>[0, 0, 0, 0, 1]</td>\n",
       "    </tr>\n",
       "    <tr>\n",
       "      <th>4</th>\n",
       "      <td>data/processed/plastic/plastic185.jpg</td>\n",
       "      <td>plastic</td>\n",
       "      <td>[0, 0, 0, 0, 1]</td>\n",
       "    </tr>\n",
       "  </tbody>\n",
       "</table>\n",
       "</div>"
      ],
      "text/plain": [
       "                                filename class_label    class_one_hot\n",
       "0   data/processed/plastic/plastic80.jpg     plastic  [0, 0, 0, 0, 1]\n",
       "1  data/processed/plastic/plastic381.jpg     plastic  [0, 0, 0, 0, 1]\n",
       "2  data/processed/plastic/plastic169.jpg     plastic  [0, 0, 0, 0, 1]\n",
       "3  data/processed/plastic/plastic354.jpg     plastic  [0, 0, 0, 0, 1]\n",
       "4  data/processed/plastic/plastic185.jpg     plastic  [0, 0, 0, 0, 1]"
      ]
     },
     "execution_count": 8,
     "metadata": {},
     "output_type": "execute_result"
    }
   ],
   "source": [
    "df.head()"
   ]
  },
  {
   "cell_type": "code",
   "execution_count": 9,
   "metadata": {},
   "outputs": [],
   "source": [
    "save_dataframe = 1\n",
    "if save_dataframe:\n",
    "    df.to_pickle(\"/mmdetection/notebooks/Trashnet/repo/data/df.pickle\")"
   ]
  },
  {
   "cell_type": "code",
   "execution_count": null,
   "metadata": {},
   "outputs": [],
   "source": []
  }
 ],
 "metadata": {
  "kernelspec": {
   "display_name": "Python 3",
   "language": "python",
   "name": "python3"
  },
  "language_info": {
   "codemirror_mode": {
    "name": "ipython",
    "version": 3
   },
   "file_extension": ".py",
   "mimetype": "text/x-python",
   "name": "python",
   "nbconvert_exporter": "python",
   "pygments_lexer": "ipython3",
   "version": "3.6.9"
  }
 },
 "nbformat": 4,
 "nbformat_minor": 4
}
