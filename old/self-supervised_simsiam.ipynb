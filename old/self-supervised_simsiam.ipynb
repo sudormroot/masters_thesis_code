{
 "cells": [
  {
   "cell_type": "code",
   "execution_count": 1,
   "id": "1cc9537d-530d-4c41-9f42-0a0e880899c0",
   "metadata": {},
   "outputs": [],
   "source": [
    "# https://keras.io/examples/vision/simsiam/"
   ]
  },
  {
   "cell_type": "code",
   "execution_count": null,
   "id": "715799a3-5da0-43b7-aea8-91c80de06dda",
   "metadata": {},
   "outputs": [],
   "source": []
  }
 ],
 "metadata": {
  "kernelspec": {
   "display_name": "Python 3",
   "language": "python",
   "name": "python3"
  },
  "language_info": {
   "codemirror_mode": {
    "name": "ipython",
    "version": 3
   },
   "file_extension": ".py",
   "mimetype": "text/x-python",
   "name": "python",
   "nbconvert_exporter": "python",
   "pygments_lexer": "ipython3",
   "version": "3.8.8"
  }
 },
 "nbformat": 4,
 "nbformat_minor": 5
}
