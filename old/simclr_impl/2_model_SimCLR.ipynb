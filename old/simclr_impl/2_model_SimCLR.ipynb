{
 "cells": [
  {
   "cell_type": "code",
   "execution_count": 1,
   "metadata": {
    "colab": {
     "base_uri": "https://localhost:8080/",
     "height": 146
    },
    "colab_type": "code",
    "id": "XBz7fllpMlz8",
    "outputId": "6ba36070-1b10-47af-b0be-556c16c299b7"
   },
   "outputs": [
    {
     "name": "stdout",
     "output_type": "stream",
     "text": [
      "Cloning into 'SimCLRv1-keras-tensorflow'...\n",
      "remote: Enumerating objects: 4916, done.\u001b[K\n",
      "remote: Counting objects: 100% (4916/4916), done.\u001b[K\n",
      "remote: Compressing objects: 100% (4878/4878), done.\u001b[K\n",
      "remote: Total 4916 (delta 70), reused 4877 (delta 35), pack-reused 0\u001b[K\n",
      "Receiving objects: 100% (4916/4916), 46.18 MiB | 17.84 MiB/s, done.\n",
      "Resolving deltas: 100% (70/70), done.\n"
     ]
    }
   ],
   "source": [
    "%rm -rf /SimCLRv1-keras-tensorflow\n",
    "\n",
    "!git clone https://github.com/mwdhont/SimCLRv1-keras-tensorflow.git"
   ]
  },
  {
   "cell_type": "code",
   "execution_count": 2,
   "metadata": {
    "colab": {
     "base_uri": "https://localhost:8080/",
     "height": 1000
    },
    "colab_type": "code",
    "id": "hsi65mRTMl0G",
    "outputId": "c07daed3-b76b-4e26-d773-22c02cfe5068",
    "tags": []
   },
   "outputs": [
    {
     "name": "stdout",
     "output_type": "stream",
     "text": [
      "\u001b[0m\u001b[01;34msample_data\u001b[0m/  \u001b[01;34mSimCLRv1-keras-tensorflow\u001b[0m/\n",
      "/content/SimCLRv1-keras-tensorflow\n",
      "Collecting jupyterlab==2.0.1\n",
      "\u001b[?25l  Downloading https://files.pythonhosted.org/packages/36/d6/9e6a8a04f4fc337fbc05065d1ba4ba3460a09ee41355410bcd6d8be8841a/jupyterlab-2.0.1-py3-none-any.whl (7.7MB)\n",
      "\u001b[K     |████████████████████████████████| 7.7MB 6.5MB/s \n",
      "\u001b[?25hRequirement already satisfied: Keras==2.3.1 in /usr/local/lib/python3.6/dist-packages (from -r requirements.txt (line 2)) (2.3.1)\n",
      "Collecting tensorflow==2.1\n",
      "\u001b[?25l  Downloading https://files.pythonhosted.org/packages/85/d4/c0cd1057b331bc38b65478302114194bd8e1b9c2bbc06e300935c0e93d90/tensorflow-2.1.0-cp36-cp36m-manylinux2010_x86_64.whl (421.8MB)\n",
      "\u001b[K     |████████████████████████████████| 421.8MB 25kB/s \n",
      "\u001b[?25hCollecting pandas==0.22.0\n",
      "\u001b[?25l  Downloading https://files.pythonhosted.org/packages/da/c6/0936bc5814b429fddb5d6252566fe73a3e40372e6ceaf87de3dec1326f28/pandas-0.22.0-cp36-cp36m-manylinux1_x86_64.whl (26.2MB)\n",
      "\u001b[K     |████████████████████████████████| 26.3MB 116kB/s \n",
      "\u001b[?25hCollecting opencv-python==4.2.0.32\n",
      "\u001b[?25l  Downloading https://files.pythonhosted.org/packages/68/c5/09a1b82f940805c2cee30c3c42786651edcfd0710a0283eb09c6bc959340/opencv_python-4.2.0.32-cp36-cp36m-manylinux1_x86_64.whl (28.2MB)\n",
      "\u001b[K     |████████████████████████████████| 28.2MB 112kB/s \n",
      "\u001b[?25hCollecting scikit-learn==0.23.1\n",
      "\u001b[?25l  Downloading https://files.pythonhosted.org/packages/d9/3a/eb8d7bbe28f4787d140bb9df685b7d5bf6115c0e2a969def4027144e98b6/scikit_learn-0.23.1-cp36-cp36m-manylinux1_x86_64.whl (6.8MB)\n",
      "\u001b[K     |████████████████████████████████| 6.9MB 46.6MB/s \n",
      "\u001b[?25hRequirement already satisfied: scipy==1.4.1 in /usr/local/lib/python3.6/dist-packages (from -r requirements.txt (line 7)) (1.4.1)\n",
      "Collecting numpy==1.18.1\n",
      "\u001b[?25l  Downloading https://files.pythonhosted.org/packages/62/20/4d43e141b5bc426ba38274933ef8e76e85c7adea2c321ecf9ebf7421cedf/numpy-1.18.1-cp36-cp36m-manylinux1_x86_64.whl (20.1MB)\n",
      "\u001b[K     |████████████████████████████████| 20.2MB 1.3MB/s \n",
      "\u001b[?25hCollecting DateTime==4.3\n",
      "\u001b[?25l  Downloading https://files.pythonhosted.org/packages/73/22/a5297f3a1f92468cc737f8ce7ba6e5f245fcfafeae810ba37bd1039ea01c/DateTime-4.3-py2.py3-none-any.whl (60kB)\n",
      "\u001b[K     |████████████████████████████████| 61kB 9.4MB/s \n",
      "\u001b[?25hRequirement already satisfied: jinja2>=2.10 in /usr/local/lib/python3.6/dist-packages (from jupyterlab==2.0.1->-r requirements.txt (line 1)) (2.11.2)\n",
      "Requirement already satisfied: notebook>=4.3.1 in /usr/local/lib/python3.6/dist-packages (from jupyterlab==2.0.1->-r requirements.txt (line 1)) (5.3.1)\n",
      "Requirement already satisfied: tornado!=6.0.0,!=6.0.1,!=6.0.2 in /usr/local/lib/python3.6/dist-packages (from jupyterlab==2.0.1->-r requirements.txt (line 1)) (5.1.1)\n",
      "Collecting jupyterlab-server~=1.0.0\n",
      "  Downloading https://files.pythonhosted.org/packages/6e/d7/5d276c85b434633791236b9614883cc829f1a152730814b1f9fb3669898d/jupyterlab_server-1.0.9-py3-none-any.whl\n",
      "Requirement already satisfied: keras-applications>=1.0.6 in /usr/local/lib/python3.6/dist-packages (from Keras==2.3.1->-r requirements.txt (line 2)) (1.0.8)\n",
      "Requirement already satisfied: pyyaml in /usr/local/lib/python3.6/dist-packages (from Keras==2.3.1->-r requirements.txt (line 2)) (3.13)\n",
      "Requirement already satisfied: keras-preprocessing>=1.0.5 in /usr/local/lib/python3.6/dist-packages (from Keras==2.3.1->-r requirements.txt (line 2)) (1.1.2)\n",
      "Requirement already satisfied: six>=1.9.0 in /usr/local/lib/python3.6/dist-packages (from Keras==2.3.1->-r requirements.txt (line 2)) (1.15.0)\n",
      "Requirement already satisfied: h5py in /usr/local/lib/python3.6/dist-packages (from Keras==2.3.1->-r requirements.txt (line 2)) (2.10.0)\n",
      "Requirement already satisfied: termcolor>=1.1.0 in /usr/local/lib/python3.6/dist-packages (from tensorflow==2.1->-r requirements.txt (line 3)) (1.1.0)\n",
      "Collecting tensorflow-estimator<2.2.0,>=2.1.0rc0\n",
      "\u001b[?25l  Downloading https://files.pythonhosted.org/packages/18/90/b77c328a1304437ab1310b463e533fa7689f4bfc41549593056d812fab8e/tensorflow_estimator-2.1.0-py2.py3-none-any.whl (448kB)\n",
      "\u001b[K     |████████████████████████████████| 450kB 58.2MB/s \n",
      "\u001b[?25hRequirement already satisfied: astor>=0.6.0 in /usr/local/lib/python3.6/dist-packages (from tensorflow==2.1->-r requirements.txt (line 3)) (0.8.1)\n",
      "Requirement already satisfied: google-pasta>=0.1.6 in /usr/local/lib/python3.6/dist-packages (from tensorflow==2.1->-r requirements.txt (line 3)) (0.2.0)\n",
      "Requirement already satisfied: grpcio>=1.8.6 in /usr/local/lib/python3.6/dist-packages (from tensorflow==2.1->-r requirements.txt (line 3)) (1.30.0)\n",
      "Requirement already satisfied: opt-einsum>=2.3.2 in /usr/local/lib/python3.6/dist-packages (from tensorflow==2.1->-r requirements.txt (line 3)) (3.3.0)\n",
      "Collecting tensorboard<2.2.0,>=2.1.0\n",
      "\u001b[?25l  Downloading https://files.pythonhosted.org/packages/d9/41/bbf49b61370e4f4d245d4c6051dfb6db80cec672605c91b1652ac8cc3d38/tensorboard-2.1.1-py3-none-any.whl (3.8MB)\n",
      "\u001b[K     |████████████████████████████████| 3.9MB 52.6MB/s \n",
      "\u001b[?25hRequirement already satisfied: wheel>=0.26; python_version >= \"3\" in /usr/local/lib/python3.6/dist-packages (from tensorflow==2.1->-r requirements.txt (line 3)) (0.34.2)\n",
      "Requirement already satisfied: protobuf>=3.8.0 in /usr/local/lib/python3.6/dist-packages (from tensorflow==2.1->-r requirements.txt (line 3)) (3.12.2)\n",
      "Collecting gast==0.2.2\n",
      "  Downloading https://files.pythonhosted.org/packages/4e/35/11749bf99b2d4e3cceb4d55ca22590b0d7c2c62b9de38ac4a4a7f4687421/gast-0.2.2.tar.gz\n",
      "Requirement already satisfied: wrapt>=1.11.1 in /usr/local/lib/python3.6/dist-packages (from tensorflow==2.1->-r requirements.txt (line 3)) (1.12.1)\n",
      "Requirement already satisfied: absl-py>=0.7.0 in /usr/local/lib/python3.6/dist-packages (from tensorflow==2.1->-r requirements.txt (line 3)) (0.9.0)\n",
      "Requirement already satisfied: pytz>=2011k in /usr/local/lib/python3.6/dist-packages (from pandas==0.22.0->-r requirements.txt (line 4)) (2018.9)\n",
      "Requirement already satisfied: python-dateutil>=2 in /usr/local/lib/python3.6/dist-packages (from pandas==0.22.0->-r requirements.txt (line 4)) (2.8.1)\n",
      "Requirement already satisfied: joblib>=0.11 in /usr/local/lib/python3.6/dist-packages (from scikit-learn==0.23.1->-r requirements.txt (line 6)) (0.16.0)\n",
      "Collecting threadpoolctl>=2.0.0\n",
      "  Downloading https://files.pythonhosted.org/packages/f7/12/ec3f2e203afa394a149911729357aa48affc59c20e2c1c8297a60f33f133/threadpoolctl-2.1.0-py3-none-any.whl\n",
      "Collecting zope.interface\n",
      "\u001b[?25l  Downloading https://files.pythonhosted.org/packages/57/33/565274c28a11af60b7cfc0519d46bde4125fcd7d32ebc0a81b480d0e8da6/zope.interface-5.1.0-cp36-cp36m-manylinux2010_x86_64.whl (234kB)\n",
      "\u001b[K     |████████████████████████████████| 235kB 61.8MB/s \n",
      "\u001b[?25hRequirement already satisfied: MarkupSafe>=0.23 in /usr/local/lib/python3.6/dist-packages (from jinja2>=2.10->jupyterlab==2.0.1->-r requirements.txt (line 1)) (1.1.1)\n",
      "Requirement already satisfied: ipython-genutils in /usr/local/lib/python3.6/dist-packages (from notebook>=4.3.1->jupyterlab==2.0.1->-r requirements.txt (line 1)) (0.2.0)\n",
      "Requirement already satisfied: Send2Trash in /usr/local/lib/python3.6/dist-packages (from notebook>=4.3.1->jupyterlab==2.0.1->-r requirements.txt (line 1)) (1.5.0)\n",
      "Requirement already satisfied: nbformat in /usr/local/lib/python3.6/dist-packages (from notebook>=4.3.1->jupyterlab==2.0.1->-r requirements.txt (line 1)) (5.0.7)\n",
      "Requirement already satisfied: traitlets>=4.2.1 in /usr/local/lib/python3.6/dist-packages (from notebook>=4.3.1->jupyterlab==2.0.1->-r requirements.txt (line 1)) (4.3.3)\n",
      "Requirement already satisfied: jupyter-client>=5.2.0 in /usr/local/lib/python3.6/dist-packages (from notebook>=4.3.1->jupyterlab==2.0.1->-r requirements.txt (line 1)) (5.3.5)\n",
      "Requirement already satisfied: nbconvert in /usr/local/lib/python3.6/dist-packages (from notebook>=4.3.1->jupyterlab==2.0.1->-r requirements.txt (line 1)) (5.6.1)\n",
      "Requirement already satisfied: terminado>=0.8.1 in /usr/local/lib/python3.6/dist-packages (from notebook>=4.3.1->jupyterlab==2.0.1->-r requirements.txt (line 1)) (0.8.3)\n",
      "Requirement already satisfied: ipykernel in /usr/local/lib/python3.6/dist-packages (from notebook>=4.3.1->jupyterlab==2.0.1->-r requirements.txt (line 1)) (4.10.1)\n",
      "Requirement already satisfied: jupyter-core>=4.4.0 in /usr/local/lib/python3.6/dist-packages (from notebook>=4.3.1->jupyterlab==2.0.1->-r requirements.txt (line 1)) (4.6.3)\n",
      "Collecting json5\n",
      "  Downloading https://files.pythonhosted.org/packages/2b/81/22bf51a5bc60dde18bb6164fd597f18ee683de8670e141364d9c432dd3cf/json5-0.9.5-py2.py3-none-any.whl\n",
      "Collecting jsonschema>=3.0.1\n",
      "\u001b[?25l  Downloading https://files.pythonhosted.org/packages/c5/8f/51e89ce52a085483359217bc72cdbf6e75ee595d5b1d4b5ade40c7e018b8/jsonschema-3.2.0-py2.py3-none-any.whl (56kB)\n",
      "\u001b[K     |████████████████████████████████| 61kB 9.8MB/s \n",
      "\u001b[?25hRequirement already satisfied: google-auth-oauthlib<0.5,>=0.4.1 in /usr/local/lib/python3.6/dist-packages (from tensorboard<2.2.0,>=2.1.0->tensorflow==2.1->-r requirements.txt (line 3)) (0.4.1)\n",
      "Requirement already satisfied: setuptools>=41.0.0 in /usr/local/lib/python3.6/dist-packages (from tensorboard<2.2.0,>=2.1.0->tensorflow==2.1->-r requirements.txt (line 3)) (49.1.0)\n",
      "Requirement already satisfied: requests<3,>=2.21.0 in /usr/local/lib/python3.6/dist-packages (from tensorboard<2.2.0,>=2.1.0->tensorflow==2.1->-r requirements.txt (line 3)) (2.23.0)\n",
      "Requirement already satisfied: markdown>=2.6.8 in /usr/local/lib/python3.6/dist-packages (from tensorboard<2.2.0,>=2.1.0->tensorflow==2.1->-r requirements.txt (line 3)) (3.2.2)\n",
      "Requirement already satisfied: google-auth<2,>=1.6.3 in /usr/local/lib/python3.6/dist-packages (from tensorboard<2.2.0,>=2.1.0->tensorflow==2.1->-r requirements.txt (line 3)) (1.17.2)\n",
      "Requirement already satisfied: werkzeug>=0.11.15 in /usr/local/lib/python3.6/dist-packages (from tensorboard<2.2.0,>=2.1.0->tensorflow==2.1->-r requirements.txt (line 3)) (1.0.1)\n",
      "Requirement already satisfied: decorator in /usr/local/lib/python3.6/dist-packages (from traitlets>=4.2.1->notebook>=4.3.1->jupyterlab==2.0.1->-r requirements.txt (line 1)) (4.4.2)\n",
      "Requirement already satisfied: pyzmq>=13 in /usr/local/lib/python3.6/dist-packages (from jupyter-client>=5.2.0->notebook>=4.3.1->jupyterlab==2.0.1->-r requirements.txt (line 1)) (19.0.1)\n",
      "Requirement already satisfied: pygments in /usr/local/lib/python3.6/dist-packages (from nbconvert->notebook>=4.3.1->jupyterlab==2.0.1->-r requirements.txt (line 1)) (2.1.3)\n",
      "Requirement already satisfied: testpath in /usr/local/lib/python3.6/dist-packages (from nbconvert->notebook>=4.3.1->jupyterlab==2.0.1->-r requirements.txt (line 1)) (0.4.4)\n",
      "Requirement already satisfied: entrypoints>=0.2.2 in /usr/local/lib/python3.6/dist-packages (from nbconvert->notebook>=4.3.1->jupyterlab==2.0.1->-r requirements.txt (line 1)) (0.3)\n",
      "Requirement already satisfied: bleach in /usr/local/lib/python3.6/dist-packages (from nbconvert->notebook>=4.3.1->jupyterlab==2.0.1->-r requirements.txt (line 1)) (3.1.5)\n",
      "Requirement already satisfied: defusedxml in /usr/local/lib/python3.6/dist-packages (from nbconvert->notebook>=4.3.1->jupyterlab==2.0.1->-r requirements.txt (line 1)) (0.6.0)\n",
      "Requirement already satisfied: mistune<2,>=0.8.1 in /usr/local/lib/python3.6/dist-packages (from nbconvert->notebook>=4.3.1->jupyterlab==2.0.1->-r requirements.txt (line 1)) (0.8.4)\n",
      "Requirement already satisfied: pandocfilters>=1.4.1 in /usr/local/lib/python3.6/dist-packages (from nbconvert->notebook>=4.3.1->jupyterlab==2.0.1->-r requirements.txt (line 1)) (1.4.2)\n",
      "Requirement already satisfied: ptyprocess; os_name != \"nt\" in /usr/local/lib/python3.6/dist-packages (from terminado>=0.8.1->notebook>=4.3.1->jupyterlab==2.0.1->-r requirements.txt (line 1)) (0.6.0)\n",
      "Requirement already satisfied: ipython>=4.0.0 in /usr/local/lib/python3.6/dist-packages (from ipykernel->notebook>=4.3.1->jupyterlab==2.0.1->-r requirements.txt (line 1)) (5.5.0)\n",
      "Requirement already satisfied: attrs>=17.4.0 in /usr/local/lib/python3.6/dist-packages (from jsonschema>=3.0.1->jupyterlab-server~=1.0.0->jupyterlab==2.0.1->-r requirements.txt (line 1)) (19.3.0)\n",
      "Requirement already satisfied: pyrsistent>=0.14.0 in /usr/local/lib/python3.6/dist-packages (from jsonschema>=3.0.1->jupyterlab-server~=1.0.0->jupyterlab==2.0.1->-r requirements.txt (line 1)) (0.16.0)\n",
      "Requirement already satisfied: importlib-metadata; python_version < \"3.8\" in /usr/local/lib/python3.6/dist-packages (from jsonschema>=3.0.1->jupyterlab-server~=1.0.0->jupyterlab==2.0.1->-r requirements.txt (line 1)) (1.7.0)\n",
      "Requirement already satisfied: requests-oauthlib>=0.7.0 in /usr/local/lib/python3.6/dist-packages (from google-auth-oauthlib<0.5,>=0.4.1->tensorboard<2.2.0,>=2.1.0->tensorflow==2.1->-r requirements.txt (line 3)) (1.3.0)\n",
      "Requirement already satisfied: chardet<4,>=3.0.2 in /usr/local/lib/python3.6/dist-packages (from requests<3,>=2.21.0->tensorboard<2.2.0,>=2.1.0->tensorflow==2.1->-r requirements.txt (line 3)) (3.0.4)\n",
      "Requirement already satisfied: certifi>=2017.4.17 in /usr/local/lib/python3.6/dist-packages (from requests<3,>=2.21.0->tensorboard<2.2.0,>=2.1.0->tensorflow==2.1->-r requirements.txt (line 3)) (2020.6.20)\n",
      "Requirement already satisfied: urllib3!=1.25.0,!=1.25.1,<1.26,>=1.21.1 in /usr/local/lib/python3.6/dist-packages (from requests<3,>=2.21.0->tensorboard<2.2.0,>=2.1.0->tensorflow==2.1->-r requirements.txt (line 3)) (1.24.3)\n",
      "Requirement already satisfied: idna<3,>=2.5 in /usr/local/lib/python3.6/dist-packages (from requests<3,>=2.21.0->tensorboard<2.2.0,>=2.1.0->tensorflow==2.1->-r requirements.txt (line 3)) (2.10)\n",
      "Requirement already satisfied: rsa<5,>=3.1.4; python_version >= \"3\" in /usr/local/lib/python3.6/dist-packages (from google-auth<2,>=1.6.3->tensorboard<2.2.0,>=2.1.0->tensorflow==2.1->-r requirements.txt (line 3)) (4.6)\n",
      "Requirement already satisfied: pyasn1-modules>=0.2.1 in /usr/local/lib/python3.6/dist-packages (from google-auth<2,>=1.6.3->tensorboard<2.2.0,>=2.1.0->tensorflow==2.1->-r requirements.txt (line 3)) (0.2.8)\n",
      "Requirement already satisfied: cachetools<5.0,>=2.0.0 in /usr/local/lib/python3.6/dist-packages (from google-auth<2,>=1.6.3->tensorboard<2.2.0,>=2.1.0->tensorflow==2.1->-r requirements.txt (line 3)) (4.1.1)\n",
      "Requirement already satisfied: webencodings in /usr/local/lib/python3.6/dist-packages (from bleach->nbconvert->notebook>=4.3.1->jupyterlab==2.0.1->-r requirements.txt (line 1)) (0.5.1)\n",
      "Requirement already satisfied: packaging in /usr/local/lib/python3.6/dist-packages (from bleach->nbconvert->notebook>=4.3.1->jupyterlab==2.0.1->-r requirements.txt (line 1)) (20.4)\n",
      "Requirement already satisfied: pexpect; sys_platform != \"win32\" in /usr/local/lib/python3.6/dist-packages (from ipython>=4.0.0->ipykernel->notebook>=4.3.1->jupyterlab==2.0.1->-r requirements.txt (line 1)) (4.8.0)\n",
      "Requirement already satisfied: pickleshare in /usr/local/lib/python3.6/dist-packages (from ipython>=4.0.0->ipykernel->notebook>=4.3.1->jupyterlab==2.0.1->-r requirements.txt (line 1)) (0.7.5)\n",
      "Requirement already satisfied: simplegeneric>0.8 in /usr/local/lib/python3.6/dist-packages (from ipython>=4.0.0->ipykernel->notebook>=4.3.1->jupyterlab==2.0.1->-r requirements.txt (line 1)) (0.8.1)\n",
      "Requirement already satisfied: prompt-toolkit<2.0.0,>=1.0.4 in /usr/local/lib/python3.6/dist-packages (from ipython>=4.0.0->ipykernel->notebook>=4.3.1->jupyterlab==2.0.1->-r requirements.txt (line 1)) (1.0.18)\n",
      "Requirement already satisfied: zipp>=0.5 in /usr/local/lib/python3.6/dist-packages (from importlib-metadata; python_version < \"3.8\"->jsonschema>=3.0.1->jupyterlab-server~=1.0.0->jupyterlab==2.0.1->-r requirements.txt (line 1)) (3.1.0)\n",
      "Requirement already satisfied: oauthlib>=3.0.0 in /usr/local/lib/python3.6/dist-packages (from requests-oauthlib>=0.7.0->google-auth-oauthlib<0.5,>=0.4.1->tensorboard<2.2.0,>=2.1.0->tensorflow==2.1->-r requirements.txt (line 3)) (3.1.0)\n",
      "Requirement already satisfied: pyasn1>=0.1.3 in /usr/local/lib/python3.6/dist-packages (from rsa<5,>=3.1.4; python_version >= \"3\"->google-auth<2,>=1.6.3->tensorboard<2.2.0,>=2.1.0->tensorflow==2.1->-r requirements.txt (line 3)) (0.4.8)\n",
      "Requirement already satisfied: pyparsing>=2.0.2 in /usr/local/lib/python3.6/dist-packages (from packaging->bleach->nbconvert->notebook>=4.3.1->jupyterlab==2.0.1->-r requirements.txt (line 1)) (2.4.7)\n",
      "Requirement already satisfied: wcwidth in /usr/local/lib/python3.6/dist-packages (from prompt-toolkit<2.0.0,>=1.0.4->ipython>=4.0.0->ipykernel->notebook>=4.3.1->jupyterlab==2.0.1->-r requirements.txt (line 1)) (0.2.5)\n",
      "Building wheels for collected packages: gast\n",
      "  Building wheel for gast (setup.py) ... \u001b[?25l\u001b[?25hdone\n",
      "  Created wheel for gast: filename=gast-0.2.2-cp36-none-any.whl size=7540 sha256=772e0a9f8cbee7a1f32ccc7d4d08c7283febfe758aadb21cc8dd693aea587220\n",
      "  Stored in directory: /root/.cache/pip/wheels/5c/2e/7e/a1d4d4fcebe6c381f378ce7743a3ced3699feb89bcfbdadadd\n",
      "Successfully built gast\n",
      "\u001b[31mERROR: xarray 0.15.1 has requirement pandas>=0.25, but you'll have pandas 0.22.0 which is incompatible.\u001b[0m\n",
      "\u001b[31mERROR: tensorflow-probability 0.10.0 has requirement gast>=0.3.2, but you'll have gast 0.2.2 which is incompatible.\u001b[0m\n",
      "\u001b[31mERROR: plotnine 0.6.0 has requirement pandas>=0.25.0, but you'll have pandas 0.22.0 which is incompatible.\u001b[0m\n",
      "\u001b[31mERROR: mizani 0.6.0 has requirement pandas>=0.25.0, but you'll have pandas 0.22.0 which is incompatible.\u001b[0m\n",
      "\u001b[31mERROR: google-colab 1.0.0 has requirement pandas~=1.0.0; python_version >= \"3.0\", but you'll have pandas 0.22.0 which is incompatible.\u001b[0m\n",
      "\u001b[31mERROR: featuretools 0.4.1 has requirement pandas>=0.23.0, but you'll have pandas 0.22.0 which is incompatible.\u001b[0m\n",
      "\u001b[31mERROR: fbprophet 0.6 has requirement pandas>=0.23.4, but you'll have pandas 0.22.0 which is incompatible.\u001b[0m\n",
      "\u001b[31mERROR: datascience 0.10.6 has requirement folium==0.2.1, but you'll have folium 0.8.3 which is incompatible.\u001b[0m\n",
      "\u001b[31mERROR: albumentations 0.1.12 has requirement imgaug<0.2.7,>=0.2.5, but you'll have imgaug 0.2.9 which is incompatible.\u001b[0m\n",
      "Installing collected packages: json5, jsonschema, jupyterlab-server, jupyterlab, tensorflow-estimator, numpy, tensorboard, gast, tensorflow, pandas, opencv-python, threadpoolctl, scikit-learn, zope.interface, DateTime\n",
      "  Found existing installation: jsonschema 2.6.0\n",
      "    Uninstalling jsonschema-2.6.0:\n",
      "      Successfully uninstalled jsonschema-2.6.0\n",
      "  Found existing installation: tensorflow-estimator 2.2.0\n",
      "    Uninstalling tensorflow-estimator-2.2.0:\n",
      "      Successfully uninstalled tensorflow-estimator-2.2.0\n",
      "  Found existing installation: numpy 1.18.5\n",
      "    Uninstalling numpy-1.18.5:\n",
      "      Successfully uninstalled numpy-1.18.5\n",
      "  Found existing installation: tensorboard 2.2.2\n",
      "    Uninstalling tensorboard-2.2.2:\n",
      "      Successfully uninstalled tensorboard-2.2.2\n",
      "  Found existing installation: gast 0.3.3\n",
      "    Uninstalling gast-0.3.3:\n",
      "      Successfully uninstalled gast-0.3.3\n",
      "  Found existing installation: tensorflow 2.2.0\n",
      "    Uninstalling tensorflow-2.2.0:\n",
      "      Successfully uninstalled tensorflow-2.2.0\n",
      "  Found existing installation: pandas 1.0.5\n",
      "    Uninstalling pandas-1.0.5:\n",
      "      Successfully uninstalled pandas-1.0.5\n",
      "  Found existing installation: opencv-python 4.1.2.30\n",
      "    Uninstalling opencv-python-4.1.2.30:\n",
      "      Successfully uninstalled opencv-python-4.1.2.30\n",
      "  Found existing installation: scikit-learn 0.22.2.post1\n",
      "    Uninstalling scikit-learn-0.22.2.post1:\n",
      "      Successfully uninstalled scikit-learn-0.22.2.post1\n",
      "Successfully installed DateTime-4.3 gast-0.2.2 json5-0.9.5 jsonschema-3.2.0 jupyterlab-2.0.1 jupyterlab-server-1.0.9 numpy-1.18.1 opencv-python-4.2.0.32 pandas-0.22.0 scikit-learn-0.23.1 tensorboard-2.1.1 tensorflow-2.1.0 tensorflow-estimator-2.1.0 threadpoolctl-2.1.0 zope.interface-5.1.0\n"
     ]
    },
    {
     "data": {
      "application/vnd.colab-display-data+json": {
       "pip_warning": {
        "packages": [
         "numpy",
         "pandas"
        ]
       }
      }
     },
     "metadata": {
      "tags": []
     },
     "output_type": "display_data"
    }
   ],
   "source": [
    "%ls\n",
    "%cd SimCLRv1-keras-tensorflow/\n",
    "!pip install -r requirements.txt"
   ]
  },
  {
   "cell_type": "code",
   "execution_count": 2,
   "metadata": {
    "colab": {},
    "colab_type": "code",
    "id": "YqzIOfEZMl0R"
   },
   "outputs": [],
   "source": [
    "import numpy as np\n",
    "import pickle\n",
    "import pandas as pd\n",
    "\n",
    "from sklearn.model_selection import train_test_split\n",
    "from tensorflow.keras.applications.vgg16 import VGG16 \n",
    "\n",
    "from evaluate_features import get_features, linear_classifier, tSNE_vis"
   ]
  },
  {
   "cell_type": "markdown",
   "metadata": {
    "colab_type": "text",
    "id": "HbpMmt6uMl0Z"
   },
   "source": [
    "# Load Dataframe"
   ]
  },
  {
   "cell_type": "code",
   "execution_count": 3,
   "metadata": {
    "colab": {
     "base_uri": "https://localhost:8080/",
     "height": 508
    },
    "colab_type": "code",
    "id": "fRGSbHANMl0a",
    "outputId": "65304e25-aeaf-4f7c-fdef-8fdb2914c84e"
   },
   "outputs": [
    {
     "data": {
      "text/html": [
       "<div>\n",
       "<style scoped>\n",
       "    .dataframe tbody tr th:only-of-type {\n",
       "        vertical-align: middle;\n",
       "    }\n",
       "\n",
       "    .dataframe tbody tr th {\n",
       "        vertical-align: top;\n",
       "    }\n",
       "\n",
       "    .dataframe thead th {\n",
       "        text-align: right;\n",
       "    }\n",
       "</style>\n",
       "<table border=\"1\" class=\"dataframe\">\n",
       "  <thead>\n",
       "    <tr style=\"text-align: right;\">\n",
       "      <th></th>\n",
       "      <th>filename</th>\n",
       "      <th>class_label</th>\n",
       "      <th>class_one_hot</th>\n",
       "    </tr>\n",
       "  </thead>\n",
       "  <tbody>\n",
       "    <tr>\n",
       "      <th>0</th>\n",
       "      <td>data/processed/plastic/plastic80.jpg</td>\n",
       "      <td>plastic</td>\n",
       "      <td>[0, 0, 0, 0, 1]</td>\n",
       "    </tr>\n",
       "    <tr>\n",
       "      <th>1</th>\n",
       "      <td>data/processed/plastic/plastic381.jpg</td>\n",
       "      <td>plastic</td>\n",
       "      <td>[0, 0, 0, 0, 1]</td>\n",
       "    </tr>\n",
       "    <tr>\n",
       "      <th>2</th>\n",
       "      <td>data/processed/plastic/plastic169.jpg</td>\n",
       "      <td>plastic</td>\n",
       "      <td>[0, 0, 0, 0, 1]</td>\n",
       "    </tr>\n",
       "    <tr>\n",
       "      <th>3</th>\n",
       "      <td>data/processed/plastic/plastic354.jpg</td>\n",
       "      <td>plastic</td>\n",
       "      <td>[0, 0, 0, 0, 1]</td>\n",
       "    </tr>\n",
       "    <tr>\n",
       "      <th>4</th>\n",
       "      <td>data/processed/plastic/plastic185.jpg</td>\n",
       "      <td>plastic</td>\n",
       "      <td>[0, 0, 0, 0, 1]</td>\n",
       "    </tr>\n",
       "  </tbody>\n",
       "</table>\n",
       "</div>"
      ],
      "text/plain": [
       "                                filename class_label    class_one_hot\n",
       "0   data/processed/plastic/plastic80.jpg     plastic  [0, 0, 0, 0, 1]\n",
       "1  data/processed/plastic/plastic381.jpg     plastic  [0, 0, 0, 0, 1]\n",
       "2  data/processed/plastic/plastic169.jpg     plastic  [0, 0, 0, 0, 1]\n",
       "3  data/processed/plastic/plastic354.jpg     plastic  [0, 0, 0, 0, 1]\n",
       "4  data/processed/plastic/plastic185.jpg     plastic  [0, 0, 0, 0, 1]"
      ]
     },
     "execution_count": 3,
     "metadata": {},
     "output_type": "execute_result"
    }
   ],
   "source": [
    "df = pd.read_pickle(\"data/df.pickle\")\n",
    "df.head()"
   ]
  },
  {
   "cell_type": "code",
   "execution_count": 4,
   "metadata": {
    "colab": {
     "base_uri": "https://localhost:8080/",
     "height": 146
    },
    "colab_type": "code",
    "id": "c-YZpNjEMl0g",
    "outputId": "653a5e48-2f30-46b7-8707-e06abb55b2a6"
   },
   "outputs": [
    {
     "name": "stdout",
     "output_type": "stream",
     "text": [
      "# of training instances: 2390 \n",
      "\n",
      "# of 'cardboard' training instances: 403\n",
      "# of 'glass' training instances: 501\n",
      "# of 'metal' training instances: 410\n",
      "# of 'paper' training instances: 594\n",
      "# of 'plastic' training instances: 482\n"
     ]
    }
   ],
   "source": [
    "class_labels = [\"cardboard\", \"glass\", \"metal\", \"paper\", \"plastic\"]\n",
    "num_classes = len(df['class_one_hot'][0])\n",
    "\n",
    "print(\"# of training instances:\", len(df.index), \"\\n\")\n",
    "for label in class_labels:\n",
    "    print(f\"# of '{label}' training instances: {(df.class_label == label).sum()}\")"
   ]
  },
  {
   "cell_type": "code",
   "execution_count": 5,
   "metadata": {
    "colab": {
     "base_uri": "https://localhost:8080/",
     "height": 439
    },
    "colab_type": "code",
    "id": "d2qU1NriMl0n",
    "outputId": "80b90c16-ac49-4cbf-e6de-735c47d89186"
   },
   "outputs": [
    {
     "name": "stdout",
     "output_type": "stream",
     "text": [
      "# of training instances: 1673 \n",
      "\n",
      "# of 'cardboard' training instances: 299\n",
      "# of 'glass' training instances: 358\n",
      "# of 'metal' training instances: 286\n",
      "# of 'paper' training instances: 405\n",
      "# of 'plastic' training instances: 325\n",
      "\n",
      "# of validation instances: 358 \n",
      "\n",
      "# of 'cardboard' training instances: 47\n",
      "# of 'glass' training instances: 84\n",
      "# of 'metal' training instances: 51\n",
      "# of 'paper' training instances: 100\n",
      "# of 'plastic' training instances: 76\n",
      "\n",
      "# of test instances: 359 \n",
      "\n",
      "# of 'cardboard' training instances: 57\n",
      "# of 'glass' training instances: 59\n",
      "# of 'metal' training instances: 73\n",
      "# of 'paper' training instances: 89\n",
      "# of 'plastic' training instances: 81\n"
     ]
    }
   ],
   "source": [
    "df_train, df_val_test = train_test_split(df, test_size=0.30, random_state=42, shuffle=True)\n",
    "df_val, df_test = train_test_split(df_val_test, test_size=0.50, random_state=42, shuffle=True)\n",
    "\n",
    "print(\"# of training instances:\", len(df_train.index), \"\\n\")\n",
    "for label in class_labels:\n",
    "    print(f\"# of '{label}' training instances: {(df_train.class_label == label).sum()}\")\n",
    "    \n",
    "print()\n",
    "print(\"# of validation instances:\", len(df_val.index), \"\\n\")\n",
    "for label in class_labels:\n",
    "    print(f\"# of '{label}' training instances: {(df_val.class_label == label).sum()}\")\n",
    "\n",
    "print()\n",
    "print(\"# of test instances:\", len(df_test.index), \"\\n\")\n",
    "for label in class_labels:\n",
    "    print(f\"# of '{label}' training instances: {(df_test.class_label == label).sum()}\")\n",
    "    \n",
    "dfs = {\n",
    "    \"train\": df_train,\n",
    "    \"val\": df_val,\n",
    "    \"test\": df_test\n",
    "}"
   ]
  },
  {
   "cell_type": "code",
   "execution_count": 6,
   "metadata": {
    "colab": {},
    "colab_type": "code",
    "id": "N9GgCItGMl0u"
   },
   "outputs": [],
   "source": [
    "# Img size\n",
    "size = 80\n",
    "height_img = size\n",
    "width_img = size\n",
    "\n",
    "input_shape = (height_img, width_img, 3)"
   ]
  },
  {
   "cell_type": "markdown",
   "metadata": {
    "colab_type": "text",
    "id": "yYrLvS3iMl0y"
   },
   "source": [
    "# Load pretrained VGG16 & Feature evaluation"
   ]
  },
  {
   "cell_type": "code",
   "execution_count": 7,
   "metadata": {
    "colab": {
     "base_uri": "https://localhost:8080/",
     "height": 899
    },
    "colab_type": "code",
    "id": "4z587NS5Ml00",
    "outputId": "720ba019-44f3-4c05-bbb6-94b09f8a80d6"
   },
   "outputs": [
    {
     "name": "stdout",
     "output_type": "stream",
     "text": [
      "Model: \"vgg16\"\n",
      "_________________________________________________________________\n",
      "Layer (type)                 Output Shape              Param #   \n",
      "=================================================================\n",
      "input_1 (InputLayer)         [(None, 80, 80, 3)]       0         \n",
      "_________________________________________________________________\n",
      "block1_conv1 (Conv2D)        (None, 80, 80, 64)        1792      \n",
      "_________________________________________________________________\n",
      "block1_conv2 (Conv2D)        (None, 80, 80, 64)        36928     \n",
      "_________________________________________________________________\n",
      "block1_pool (MaxPooling2D)   (None, 40, 40, 64)        0         \n",
      "_________________________________________________________________\n",
      "block2_conv1 (Conv2D)        (None, 40, 40, 128)       73856     \n",
      "_________________________________________________________________\n",
      "block2_conv2 (Conv2D)        (None, 40, 40, 128)       147584    \n",
      "_________________________________________________________________\n",
      "block2_pool (MaxPooling2D)   (None, 20, 20, 128)       0         \n",
      "_________________________________________________________________\n",
      "block3_conv1 (Conv2D)        (None, 20, 20, 256)       295168    \n",
      "_________________________________________________________________\n",
      "block3_conv2 (Conv2D)        (None, 20, 20, 256)       590080    \n",
      "_________________________________________________________________\n",
      "block3_conv3 (Conv2D)        (None, 20, 20, 256)       590080    \n",
      "_________________________________________________________________\n",
      "block3_pool (MaxPooling2D)   (None, 10, 10, 256)       0         \n",
      "_________________________________________________________________\n",
      "block4_conv1 (Conv2D)        (None, 10, 10, 512)       1180160   \n",
      "_________________________________________________________________\n",
      "block4_conv2 (Conv2D)        (None, 10, 10, 512)       2359808   \n",
      "_________________________________________________________________\n",
      "block4_conv3 (Conv2D)        (None, 10, 10, 512)       2359808   \n",
      "_________________________________________________________________\n",
      "block4_pool (MaxPooling2D)   (None, 5, 5, 512)         0         \n",
      "_________________________________________________________________\n",
      "block5_conv1 (Conv2D)        (None, 5, 5, 512)         2359808   \n",
      "_________________________________________________________________\n",
      "block5_conv2 (Conv2D)        (None, 5, 5, 512)         2359808   \n",
      "_________________________________________________________________\n",
      "block5_conv3 (Conv2D)        (None, 5, 5, 512)         2359808   \n",
      "_________________________________________________________________\n",
      "block5_pool (MaxPooling2D)   (None, 2, 2, 512)         0         \n",
      "=================================================================\n",
      "Total params: 14,714,688\n",
      "Trainable params: 14,714,688\n",
      "Non-trainable params: 0\n",
      "_________________________________________________________________\n"
     ]
    }
   ],
   "source": [
    "params_vgg16 = {'weights': \"imagenet\", \n",
    "                'include_top': False, \n",
    "                'input_shape': input_shape, \n",
    "                'pooling': None}\n",
    "\n",
    "# Design model\n",
    "base_model = VGG16(**params_vgg16)\n",
    "base_model.summary()"
   ]
  },
  {
   "cell_type": "code",
   "execution_count": 12,
   "metadata": {
    "colab": {},
    "colab_type": "code",
    "id": "XcdE2JU5Ml04"
   },
   "outputs": [],
   "source": [
    "feat_dim = 2 * 2 * 512"
   ]
  },
  {
   "cell_type": "markdown",
   "metadata": {
    "colab_type": "text",
    "id": "75j95YbIMl09"
   },
   "source": [
    "# Build SimCLR-Model"
   ]
  },
  {
   "cell_type": "code",
   "execution_count": 48,
   "metadata": {
    "colab": {
     "base_uri": "https://localhost:8080/",
     "height": 35
    },
    "colab_type": "code",
    "id": "pNq93i59Ml0-",
    "outputId": "d2743731-5ebc-4c08-a1ee-d94ddd26787b"
   },
   "outputs": [],
   "source": [
    "import sys\n",
    "\n",
    "if \"DataGeneratorSimCLR\" in sys.modules:\n",
    "    del sys.modules[\"DataGeneratorSimCLR\"]\n",
    "    \n",
    "if \"SimCLR\" in sys.modules:\n",
    "    del sys.modules[\"SimCLR\"]\n",
    "    \n",
    "from DataGeneratorSimCLR import DataGeneratorSimCLR as DataGenerator\n",
    "from SimCLR import SimCLR"
   ]
  },
  {
   "cell_type": "markdown",
   "metadata": {
    "colab_type": "text",
    "id": "b0_nz95NMl1D"
   },
   "source": [
    "### Properties"
   ]
  },
  {
   "cell_type": "code",
   "execution_count": 49,
   "metadata": {
    "colab": {},
    "colab_type": "code",
    "id": "EqkkdfRPMl1E"
   },
   "outputs": [],
   "source": [
    "batch_size = 32\n",
    "# Projection_head\n",
    "num_layers_ph = 2\n",
    "feat_dims_ph = [2048, 128]\n",
    "num_of_unfrozen_layers = 1 #Note: with 1, all weights of the base_model are still frozen (last layer is max_pool)\n",
    "save_path = 'models/trashnet'"
   ]
  },
  {
   "cell_type": "code",
   "execution_count": 50,
   "metadata": {
    "colab": {},
    "colab_type": "code",
    "id": "X1dGZztKMl1K"
   },
   "outputs": [],
   "source": [
    "SimCLR = SimCLR(\n",
    "        base_model = base_model,\n",
    "        input_shape = input_shape,\n",
    "        batch_size = batch_size,\n",
    "        feat_dim = feat_dim,\n",
    "        feat_dims_ph = feat_dims_ph,\n",
    "        num_of_unfrozen_layers = num_of_unfrozen_layers,\n",
    "        save_path = save_path\n",
    "    )"
   ]
  },
  {
   "cell_type": "code",
   "execution_count": 51,
   "metadata": {
    "colab": {},
    "colab_type": "code",
    "id": "bvdVxJTiMl1W"
   },
   "outputs": [],
   "source": [
    "params_generator = {'batch_size': batch_size,\n",
    "                    'shuffle' : True,\n",
    "                    'width':width_img,\n",
    "                    'height': height_img,\n",
    "                    'VGG': True\n",
    "                   }\n",
    "\n",
    "# Generators\n",
    "data_train = DataGenerator(df_train.reset_index(drop=True), **params_generator)\n",
    "data_val = DataGenerator(df_val.reset_index(drop=True), subset = \"val\", **params_generator) #val keeps the unity values on the same random places ~42\n",
    "data_test = DataGenerator(df_test.reset_index(drop=True), subset = \"test\", **params_generator) #test keeps the unity values on the diagonal"
   ]
  },
  {
   "cell_type": "code",
   "execution_count": 52,
   "metadata": {},
   "outputs": [],
   "source": [
    "X0 = next(iter(data_train))"
   ]
  },
  {
   "cell_type": "code",
   "execution_count": 53,
   "metadata": {
    "colab": {},
    "colab_type": "code",
    "id": "-ipobvp7Ml1a"
   },
   "outputs": [],
   "source": [
    "#y_predict_test_before = SimCLR.predict(data_test)"
   ]
  },
  {
   "cell_type": "markdown",
   "metadata": {
    "colab_type": "text",
    "id": "3XrbFJGsMl1g"
   },
   "source": [
    "# SimCLR - Round 1: Only Projection head"
   ]
  },
  {
   "cell_type": "markdown",
   "metadata": {
    "colab_type": "text",
    "id": "pssY8CS6Ml1g"
   },
   "source": [
    "## Training SimCLR"
   ]
  },
  {
   "cell_type": "code",
   "execution_count": 54,
   "metadata": {
    "colab": {
     "base_uri": "https://localhost:8080/",
     "height": 439
    },
    "colab_type": "code",
    "id": "JLMsqpJcMl1h",
    "outputId": "4df6a650-cdfd-4f02-bd88-978690701b1c"
   },
   "outputs": [
    {
     "ename": "AttributeError",
     "evalue": "'NoneType' object has no attribute 'shape'",
     "output_type": "error",
     "traceback": [
      "\u001b[0;31m---------------------------------------------------------------------------\u001b[0m",
      "\u001b[0;31mAttributeError\u001b[0m                            Traceback (most recent call last)",
      "\u001b[0;32m<ipython-input-54-a8939ef783cb>\u001b[0m in \u001b[0;36m<module>\u001b[0;34m\u001b[0m\n\u001b[0;32m----> 1\u001b[0;31m \u001b[0mSimCLR\u001b[0m\u001b[0;34m.\u001b[0m\u001b[0mtrain\u001b[0m\u001b[0;34m(\u001b[0m\u001b[0mdata_train\u001b[0m\u001b[0;34m,\u001b[0m \u001b[0mdata_val\u001b[0m\u001b[0;34m,\u001b[0m \u001b[0mepochs\u001b[0m \u001b[0;34m=\u001b[0m \u001b[0;36m5\u001b[0m\u001b[0;34m)\u001b[0m\u001b[0;34m\u001b[0m\u001b[0;34m\u001b[0m\u001b[0m\n\u001b[0m",
      "\u001b[0;32m~/Documents/NUIG-CSAI/Final_Project/Code/masters_thesis_code/simclr_impl/SimCLR.py\u001b[0m in \u001b[0;36mtrain\u001b[0;34m(self, data_train, data_val, epochs, pr)\u001b[0m\n\u001b[1;32m    130\u001b[0m         \u001b[0;31m# Fit\u001b[0m\u001b[0;34m\u001b[0m\u001b[0;34m\u001b[0m\u001b[0;34m\u001b[0m\u001b[0m\n\u001b[1;32m    131\u001b[0m         \u001b[0mSimCLR_model\u001b[0m \u001b[0;34m=\u001b[0m \u001b[0mself\u001b[0m\u001b[0;34m.\u001b[0m\u001b[0mSimCLR_model\u001b[0m\u001b[0;34m\u001b[0m\u001b[0;34m\u001b[0m\u001b[0m\n\u001b[0;32m--> 132\u001b[0;31m         SimCLR_model.fit(\n\u001b[0m\u001b[1;32m    133\u001b[0m             \u001b[0mdata_train\u001b[0m\u001b[0;34m,\u001b[0m\u001b[0;34m\u001b[0m\u001b[0;34m\u001b[0m\u001b[0m\n\u001b[1;32m    134\u001b[0m             \u001b[0mepochs\u001b[0m\u001b[0;34m=\u001b[0m\u001b[0mepochs\u001b[0m\u001b[0;34m,\u001b[0m\u001b[0;34m\u001b[0m\u001b[0;34m\u001b[0m\u001b[0m\n",
      "\u001b[0;32m/usr/local/anaconda3/lib/python3.8/site-packages/tensorflow/python/keras/engine/training.py\u001b[0m in \u001b[0;36mfit\u001b[0;34m(self, x, y, batch_size, epochs, verbose, callbacks, validation_split, validation_data, shuffle, class_weight, sample_weight, initial_epoch, steps_per_epoch, validation_steps, validation_batch_size, validation_freq, max_queue_size, workers, use_multiprocessing)\u001b[0m\n\u001b[1;32m   1131\u001b[0m          \u001b[0mtraining_utils\u001b[0m\u001b[0;34m.\u001b[0m\u001b[0mRespectCompiledTrainableState\u001b[0m\u001b[0;34m(\u001b[0m\u001b[0mself\u001b[0m\u001b[0;34m)\u001b[0m\u001b[0;34m:\u001b[0m\u001b[0;34m\u001b[0m\u001b[0;34m\u001b[0m\u001b[0m\n\u001b[1;32m   1132\u001b[0m       \u001b[0;31m# Creates a `tf.data.Dataset` and handles batch and epoch iteration.\u001b[0m\u001b[0;34m\u001b[0m\u001b[0;34m\u001b[0m\u001b[0;34m\u001b[0m\u001b[0m\n\u001b[0;32m-> 1133\u001b[0;31m       data_handler = data_adapter.get_data_handler(\n\u001b[0m\u001b[1;32m   1134\u001b[0m           \u001b[0mx\u001b[0m\u001b[0;34m=\u001b[0m\u001b[0mx\u001b[0m\u001b[0;34m,\u001b[0m\u001b[0;34m\u001b[0m\u001b[0;34m\u001b[0m\u001b[0m\n\u001b[1;32m   1135\u001b[0m           \u001b[0my\u001b[0m\u001b[0;34m=\u001b[0m\u001b[0my\u001b[0m\u001b[0;34m,\u001b[0m\u001b[0;34m\u001b[0m\u001b[0;34m\u001b[0m\u001b[0m\n",
      "\u001b[0;32m/usr/local/anaconda3/lib/python3.8/site-packages/tensorflow/python/keras/engine/data_adapter.py\u001b[0m in \u001b[0;36mget_data_handler\u001b[0;34m(*args, **kwargs)\u001b[0m\n\u001b[1;32m   1362\u001b[0m   \u001b[0;32mif\u001b[0m \u001b[0mgetattr\u001b[0m\u001b[0;34m(\u001b[0m\u001b[0mkwargs\u001b[0m\u001b[0;34m[\u001b[0m\u001b[0;34m\"model\"\u001b[0m\u001b[0;34m]\u001b[0m\u001b[0;34m,\u001b[0m \u001b[0;34m\"_cluster_coordinator\"\u001b[0m\u001b[0;34m,\u001b[0m \u001b[0;32mNone\u001b[0m\u001b[0;34m)\u001b[0m\u001b[0;34m:\u001b[0m\u001b[0;34m\u001b[0m\u001b[0;34m\u001b[0m\u001b[0m\n\u001b[1;32m   1363\u001b[0m     \u001b[0;32mreturn\u001b[0m \u001b[0m_ClusterCoordinatorDataHandler\u001b[0m\u001b[0;34m(\u001b[0m\u001b[0;34m*\u001b[0m\u001b[0margs\u001b[0m\u001b[0;34m,\u001b[0m \u001b[0;34m**\u001b[0m\u001b[0mkwargs\u001b[0m\u001b[0;34m)\u001b[0m\u001b[0;34m\u001b[0m\u001b[0;34m\u001b[0m\u001b[0m\n\u001b[0;32m-> 1364\u001b[0;31m   \u001b[0;32mreturn\u001b[0m \u001b[0mDataHandler\u001b[0m\u001b[0;34m(\u001b[0m\u001b[0;34m*\u001b[0m\u001b[0margs\u001b[0m\u001b[0;34m,\u001b[0m \u001b[0;34m**\u001b[0m\u001b[0mkwargs\u001b[0m\u001b[0;34m)\u001b[0m\u001b[0;34m\u001b[0m\u001b[0;34m\u001b[0m\u001b[0m\n\u001b[0m\u001b[1;32m   1365\u001b[0m \u001b[0;34m\u001b[0m\u001b[0m\n\u001b[1;32m   1366\u001b[0m \u001b[0;34m\u001b[0m\u001b[0m\n",
      "\u001b[0;32m/usr/local/anaconda3/lib/python3.8/site-packages/tensorflow/python/keras/engine/data_adapter.py\u001b[0m in \u001b[0;36m__init__\u001b[0;34m(self, x, y, sample_weight, batch_size, steps_per_epoch, initial_epoch, epochs, shuffle, class_weight, max_queue_size, workers, use_multiprocessing, model, steps_per_execution, distribute)\u001b[0m\n\u001b[1;32m   1152\u001b[0m     \u001b[0madapter_cls\u001b[0m \u001b[0;34m=\u001b[0m \u001b[0mselect_data_adapter\u001b[0m\u001b[0;34m(\u001b[0m\u001b[0mx\u001b[0m\u001b[0;34m,\u001b[0m \u001b[0my\u001b[0m\u001b[0;34m)\u001b[0m\u001b[0;34m\u001b[0m\u001b[0;34m\u001b[0m\u001b[0m\n\u001b[1;32m   1153\u001b[0m     \u001b[0mself\u001b[0m\u001b[0;34m.\u001b[0m\u001b[0m_verify_data_adapter_compatibility\u001b[0m\u001b[0;34m(\u001b[0m\u001b[0madapter_cls\u001b[0m\u001b[0;34m)\u001b[0m\u001b[0;34m\u001b[0m\u001b[0;34m\u001b[0m\u001b[0m\n\u001b[0;32m-> 1154\u001b[0;31m     self._adapter = adapter_cls(\n\u001b[0m\u001b[1;32m   1155\u001b[0m         \u001b[0mx\u001b[0m\u001b[0;34m,\u001b[0m\u001b[0;34m\u001b[0m\u001b[0;34m\u001b[0m\u001b[0m\n\u001b[1;32m   1156\u001b[0m         \u001b[0my\u001b[0m\u001b[0;34m,\u001b[0m\u001b[0;34m\u001b[0m\u001b[0;34m\u001b[0m\u001b[0m\n",
      "\u001b[0;32m/usr/local/anaconda3/lib/python3.8/site-packages/tensorflow/python/keras/engine/data_adapter.py\u001b[0m in \u001b[0;36m__init__\u001b[0;34m(self, x, y, sample_weights, shuffle, workers, use_multiprocessing, max_queue_size, model, **kwargs)\u001b[0m\n\u001b[1;32m    930\u001b[0m     \u001b[0mself\u001b[0m\u001b[0;34m.\u001b[0m\u001b[0m_keras_sequence\u001b[0m \u001b[0;34m=\u001b[0m \u001b[0mx\u001b[0m\u001b[0;34m\u001b[0m\u001b[0;34m\u001b[0m\u001b[0m\n\u001b[1;32m    931\u001b[0m     \u001b[0mself\u001b[0m\u001b[0;34m.\u001b[0m\u001b[0m_enqueuer\u001b[0m \u001b[0;34m=\u001b[0m \u001b[0;32mNone\u001b[0m\u001b[0;34m\u001b[0m\u001b[0;34m\u001b[0m\u001b[0m\n\u001b[0;32m--> 932\u001b[0;31m     super(KerasSequenceAdapter, self).__init__(\n\u001b[0m\u001b[1;32m    933\u001b[0m         \u001b[0mx\u001b[0m\u001b[0;34m,\u001b[0m\u001b[0;34m\u001b[0m\u001b[0;34m\u001b[0m\u001b[0m\n\u001b[1;32m    934\u001b[0m         \u001b[0mshuffle\u001b[0m\u001b[0;34m=\u001b[0m\u001b[0;32mFalse\u001b[0m\u001b[0;34m,\u001b[0m  \u001b[0;31m# Shuffle is handed in the _make_callable override.\u001b[0m\u001b[0;34m\u001b[0m\u001b[0;34m\u001b[0m\u001b[0m\n",
      "\u001b[0;32m/usr/local/anaconda3/lib/python3.8/site-packages/tensorflow/python/keras/engine/data_adapter.py\u001b[0m in \u001b[0;36m__init__\u001b[0;34m(self, x, y, sample_weights, workers, use_multiprocessing, max_queue_size, model, **kwargs)\u001b[0m\n\u001b[1;32m    826\u001b[0m       \u001b[0;32mreturn\u001b[0m \u001b[0mtensor_shape\u001b[0m\u001b[0;34m.\u001b[0m\u001b[0mTensorShape\u001b[0m\u001b[0;34m(\u001b[0m\u001b[0;34m[\u001b[0m\u001b[0;32mNone\u001b[0m \u001b[0;32mfor\u001b[0m \u001b[0m_\u001b[0m \u001b[0;32min\u001b[0m \u001b[0mshape\u001b[0m\u001b[0;34m.\u001b[0m\u001b[0mas_list\u001b[0m\u001b[0;34m(\u001b[0m\u001b[0;34m)\u001b[0m\u001b[0;34m]\u001b[0m\u001b[0;34m)\u001b[0m\u001b[0;34m\u001b[0m\u001b[0;34m\u001b[0m\u001b[0m\n\u001b[1;32m    827\u001b[0m \u001b[0;34m\u001b[0m\u001b[0m\n\u001b[0;32m--> 828\u001b[0;31m     \u001b[0moutput_shapes\u001b[0m \u001b[0;34m=\u001b[0m \u001b[0mnest\u001b[0m\u001b[0;34m.\u001b[0m\u001b[0mmap_structure\u001b[0m\u001b[0;34m(\u001b[0m\u001b[0m_get_dynamic_shape\u001b[0m\u001b[0;34m,\u001b[0m \u001b[0mpeek\u001b[0m\u001b[0;34m)\u001b[0m\u001b[0;34m\u001b[0m\u001b[0;34m\u001b[0m\u001b[0m\n\u001b[0m\u001b[1;32m    829\u001b[0m     \u001b[0moutput_types\u001b[0m \u001b[0;34m=\u001b[0m \u001b[0mnest\u001b[0m\u001b[0;34m.\u001b[0m\u001b[0mmap_structure\u001b[0m\u001b[0;34m(\u001b[0m\u001b[0;32mlambda\u001b[0m \u001b[0mt\u001b[0m\u001b[0;34m:\u001b[0m \u001b[0mt\u001b[0m\u001b[0;34m.\u001b[0m\u001b[0mdtype\u001b[0m\u001b[0;34m,\u001b[0m \u001b[0mpeek\u001b[0m\u001b[0;34m)\u001b[0m\u001b[0;34m\u001b[0m\u001b[0;34m\u001b[0m\u001b[0m\n\u001b[1;32m    830\u001b[0m \u001b[0;34m\u001b[0m\u001b[0m\n",
      "\u001b[0;32m/usr/local/anaconda3/lib/python3.8/site-packages/tensorflow/python/util/nest.py\u001b[0m in \u001b[0;36mmap_structure\u001b[0;34m(func, *structure, **kwargs)\u001b[0m\n\u001b[1;32m    865\u001b[0m \u001b[0;34m\u001b[0m\u001b[0m\n\u001b[1;32m    866\u001b[0m   return pack_sequence_as(\n\u001b[0;32m--> 867\u001b[0;31m       \u001b[0mstructure\u001b[0m\u001b[0;34m[\u001b[0m\u001b[0;36m0\u001b[0m\u001b[0;34m]\u001b[0m\u001b[0;34m,\u001b[0m \u001b[0;34m[\u001b[0m\u001b[0mfunc\u001b[0m\u001b[0;34m(\u001b[0m\u001b[0;34m*\u001b[0m\u001b[0mx\u001b[0m\u001b[0;34m)\u001b[0m \u001b[0;32mfor\u001b[0m \u001b[0mx\u001b[0m \u001b[0;32min\u001b[0m \u001b[0mentries\u001b[0m\u001b[0;34m]\u001b[0m\u001b[0;34m,\u001b[0m\u001b[0;34m\u001b[0m\u001b[0;34m\u001b[0m\u001b[0m\n\u001b[0m\u001b[1;32m    868\u001b[0m       expand_composites=expand_composites)\n\u001b[1;32m    869\u001b[0m \u001b[0;34m\u001b[0m\u001b[0m\n",
      "\u001b[0;32m/usr/local/anaconda3/lib/python3.8/site-packages/tensorflow/python/util/nest.py\u001b[0m in \u001b[0;36m<listcomp>\u001b[0;34m(.0)\u001b[0m\n\u001b[1;32m    865\u001b[0m \u001b[0;34m\u001b[0m\u001b[0m\n\u001b[1;32m    866\u001b[0m   return pack_sequence_as(\n\u001b[0;32m--> 867\u001b[0;31m       \u001b[0mstructure\u001b[0m\u001b[0;34m[\u001b[0m\u001b[0;36m0\u001b[0m\u001b[0;34m]\u001b[0m\u001b[0;34m,\u001b[0m \u001b[0;34m[\u001b[0m\u001b[0mfunc\u001b[0m\u001b[0;34m(\u001b[0m\u001b[0;34m*\u001b[0m\u001b[0mx\u001b[0m\u001b[0;34m)\u001b[0m \u001b[0;32mfor\u001b[0m \u001b[0mx\u001b[0m \u001b[0;32min\u001b[0m \u001b[0mentries\u001b[0m\u001b[0;34m]\u001b[0m\u001b[0;34m,\u001b[0m\u001b[0;34m\u001b[0m\u001b[0;34m\u001b[0m\u001b[0m\n\u001b[0m\u001b[1;32m    868\u001b[0m       expand_composites=expand_composites)\n\u001b[1;32m    869\u001b[0m \u001b[0;34m\u001b[0m\u001b[0m\n",
      "\u001b[0;32m/usr/local/anaconda3/lib/python3.8/site-packages/tensorflow/python/keras/engine/data_adapter.py\u001b[0m in \u001b[0;36m_get_dynamic_shape\u001b[0;34m(t)\u001b[0m\n\u001b[1;32m    820\u001b[0m \u001b[0;34m\u001b[0m\u001b[0m\n\u001b[1;32m    821\u001b[0m     \u001b[0;32mdef\u001b[0m \u001b[0m_get_dynamic_shape\u001b[0m\u001b[0;34m(\u001b[0m\u001b[0mt\u001b[0m\u001b[0;34m)\u001b[0m\u001b[0;34m:\u001b[0m\u001b[0;34m\u001b[0m\u001b[0;34m\u001b[0m\u001b[0m\n\u001b[0;32m--> 822\u001b[0;31m       \u001b[0mshape\u001b[0m \u001b[0;34m=\u001b[0m \u001b[0mt\u001b[0m\u001b[0;34m.\u001b[0m\u001b[0mshape\u001b[0m\u001b[0;34m\u001b[0m\u001b[0;34m\u001b[0m\u001b[0m\n\u001b[0m\u001b[1;32m    823\u001b[0m       \u001b[0;31m# Unknown number of dimensions, `as_list` cannot be called.\u001b[0m\u001b[0;34m\u001b[0m\u001b[0;34m\u001b[0m\u001b[0;34m\u001b[0m\u001b[0m\n\u001b[1;32m    824\u001b[0m       \u001b[0;32mif\u001b[0m \u001b[0mshape\u001b[0m\u001b[0;34m.\u001b[0m\u001b[0mrank\u001b[0m \u001b[0;32mis\u001b[0m \u001b[0;32mNone\u001b[0m\u001b[0;34m:\u001b[0m\u001b[0;34m\u001b[0m\u001b[0;34m\u001b[0m\u001b[0m\n",
      "\u001b[0;31mAttributeError\u001b[0m: 'NoneType' object has no attribute 'shape'"
     ]
    }
   ],
   "source": [
    "SimCLR.train(data_train, data_val, epochs = 5)"
   ]
  },
  {
   "cell_type": "code",
   "execution_count": 16,
   "metadata": {
    "colab": {},
    "colab_type": "code",
    "id": "YfWiM4gfMl1n"
   },
   "outputs": [],
   "source": [
    "y_predict_test_after = SimCLR.predict(data_test)"
   ]
  },
  {
   "cell_type": "markdown",
   "metadata": {
    "colab_type": "text",
    "id": "MITBpHs6Ml1r"
   },
   "source": [
    "## SimCLR-output check"
   ]
  },
  {
   "cell_type": "code",
   "execution_count": 17,
   "metadata": {
    "colab": {
     "base_uri": "https://localhost:8080/",
     "height": 72
    },
    "colab_type": "code",
    "id": "M92VNCQHMl1s",
    "outputId": "b635b3f2-6307-4ffb-f9fd-6b28fca009c6"
   },
   "outputs": [
    {
     "name": "stdout",
     "output_type": "stream",
     "text": [
      "Random guess accuracy: 0.0156\n",
      "accuracy - test - before: 0.6\n",
      "accuracy - test - after: 0.93\n"
     ]
    }
   ],
   "source": [
    "print(f\"Random guess accuracy: {round(1/(2*batch_size),4)}\")\n",
    "\n",
    "print(f\"accuracy - test - before: {np.round(np.sum(data_test[0][1] * y_predict_test_before[:batch_size])/(2*batch_size),2)}\")\n",
    "print(f\"accuracy - test - after: {np.round(np.sum(data_test[0][1] * y_predict_test_after[:batch_size])/(2*batch_size),2)}\")"
   ]
  },
  {
   "cell_type": "code",
   "execution_count": 18,
   "metadata": {
    "colab": {
     "base_uri": "https://localhost:8080/",
     "height": 182
    },
    "colab_type": "code",
    "id": "K7NxSEoyMl1w",
    "outputId": "b65bf69f-62e8-447b-95b2-398d513cbf90"
   },
   "outputs": [
    {
     "name": "stdout",
     "output_type": "stream",
     "text": [
      "y_predict_test_before\n",
      "0.85 | 0.52 | 0.51 | 0.23 | 0.81 | 0.78 | 0.81 | 0.73 | 0.56 | 0.58 | 0.62 | 0.81 | 0.36 | 0.88 | 0.74 | \n",
      "\n",
      "y_predict_test_after\n",
      "0.99 | 0.99 | 0.97 | 0.99 | 0.99 | 0.99 | 0.99 | 0.93 | 0.99 | 0.99 | 0.97 | 0.95 | 0.05 | 0.66 | 0.98 | \n",
      "\n",
      "y_predict_test_after - Second diagonal\n",
      "0.97 | 0.99 | 0.98 | 0.95 | 0.98 | 0.99 | 0.96 | 0.72 | 0.98 | 0.96 | 0.74 | 0.99 | 0.98 | 0.92 | 0.89 | \n",
      "\n"
     ]
    }
   ],
   "source": [
    "print(\"y_predict_test_before\")\n",
    "for i in range(min(batch_size, 15)):\n",
    "    print(np.round(y_predict_test_before[i][i],2), end=\" | \")\n",
    "print(\"\\n\")    \n",
    "print(\"y_predict_test_after\")\n",
    "for i in range(min(batch_size, 15)):\n",
    "    print(np.round(y_predict_test_after[i][i],2), end=\" | \")\n",
    "print(\"\\n\") \n",
    "print(\"y_predict_test_after - Second diagonal\")\n",
    "for i in range(min(batch_size, 15)):\n",
    "    print(np.round(y_predict_test_after[i + 2 * batch_size][i],2), end=\" | \")\n",
    "print(\"\\n\")    "
   ]
  },
  {
   "cell_type": "markdown",
   "metadata": {
    "colab_type": "text",
    "id": "K_k39St9Ml1z"
   },
   "source": [
    "## Feature Evaluation\n",
    "\n",
    "Note that this evaluation corresponds with the unaltered pretrained weights"
   ]
  },
  {
   "cell_type": "code",
   "execution_count": 19,
   "metadata": {
    "colab": {},
    "colab_type": "code",
    "id": "IOXEi_YVMl10"
   },
   "outputs": [],
   "source": [
    "fractions = [1.0, 0.2, 0.05]"
   ]
  },
  {
   "cell_type": "markdown",
   "metadata": {
    "colab_type": "text",
    "id": "_36LmVuuMl15"
   },
   "source": [
    "### Logistic regression evaluation"
   ]
  },
  {
   "cell_type": "code",
   "execution_count": 20,
   "metadata": {
    "colab": {
     "base_uri": "https://localhost:8080/",
     "height": 35
    },
    "colab_type": "code",
    "id": "yDgFplaQMl16",
    "outputId": "9e966b44-c588-42e5-d856-8b51f519fe94"
   },
   "outputs": [
    {
     "data": {
      "text/plain": [
       "280"
      ]
     },
     "execution_count": 20,
     "metadata": {
      "tags": []
     },
     "output_type": "execute_result"
    }
   ],
   "source": [
    "features_train, y_train, feats = get_features(base_model, df_train, class_labels)\n",
    "features_test, y_test, feats = get_features(base_model, df_test, class_labels)\n",
    "np.count_nonzero(features_train[0])"
   ]
  },
  {
   "cell_type": "code",
   "execution_count": 21,
   "metadata": {
    "colab": {
     "base_uri": "https://localhost:8080/",
     "height": 899
    },
    "colab_type": "code",
    "id": "lRR_M3xGMl1-",
    "outputId": "93eeecf8-46f8-4b5f-f83f-2da71483f583"
   },
   "outputs": [
    {
     "name": "stdout",
     "output_type": "stream",
     "text": [
      "    ==== 100.0% of the training data used ==== \n",
      "\n",
      "Accuracy on test: 0.79 \n",
      "\n",
      "              precision    recall  f1-score   support\n",
      "\n",
      "   cardboard       0.87      0.84      0.86        57\n",
      "       glass       0.64      0.78      0.70        59\n",
      "       metal       0.83      0.71      0.76        73\n",
      "       paper       0.80      0.89      0.84        89\n",
      "     plastic       0.81      0.70      0.75        81\n",
      "\n",
      "    accuracy                           0.79       359\n",
      "   macro avg       0.79      0.79      0.78       359\n",
      "weighted avg       0.79      0.79      0.79       359\n",
      "\n",
      "    ==== 20.0% of the training data used ==== \n",
      "\n",
      "Accuracy on test: 0.7 \n",
      "\n",
      "              precision    recall  f1-score   support\n",
      "\n",
      "   cardboard       0.90      0.79      0.84        57\n",
      "       glass       0.55      0.69      0.61        59\n",
      "       metal       0.69      0.47      0.56        73\n",
      "       paper       0.70      0.83      0.76        89\n",
      "     plastic       0.71      0.69      0.70        81\n",
      "\n",
      "    accuracy                           0.70       359\n",
      "   macro avg       0.71      0.69      0.69       359\n",
      "weighted avg       0.71      0.70      0.69       359\n",
      "\n",
      "    ==== 5.0% of the training data used ==== \n",
      "\n",
      "Accuracy on test: 0.63 \n",
      "\n",
      "              precision    recall  f1-score   support\n",
      "\n",
      "   cardboard       0.93      0.75      0.83        57\n",
      "       glass       0.47      0.63      0.54        59\n",
      "       metal       0.53      0.45      0.49        73\n",
      "       paper       0.72      0.71      0.71        89\n",
      "     plastic       0.60      0.63      0.61        81\n",
      "\n",
      "    accuracy                           0.63       359\n",
      "   macro avg       0.65      0.63      0.64       359\n",
      "weighted avg       0.65      0.63      0.64       359\n",
      "\n"
     ]
    }
   ],
   "source": [
    "# Training logistic regression classifier on 3 fractions of the data\n",
    "# Optimal regularization is determined from a 5-fold cross-validation\n",
    "for fraction in fractions:\n",
    "    print(f\"    ==== {fraction * 100}% of the training data used ==== \\n\")\n",
    "    linear_classifier(features_train, y_train, features_test, y_test, class_labels, fraction = fraction)"
   ]
  },
  {
   "cell_type": "markdown",
   "metadata": {
    "colab_type": "text",
    "id": "3BT4MD5bMl2G"
   },
   "source": [
    "### Fine tuned model"
   ]
  },
  {
   "cell_type": "code",
   "execution_count": 22,
   "metadata": {
    "colab": {},
    "colab_type": "code",
    "id": "bWJlfGi5Ml2G"
   },
   "outputs": [],
   "source": [
    "batch_size_classifier = 32\n",
    "params_generator_classifier = {'max_width':width_img,\n",
    "                            'max_height': height_img,\n",
    "                            'num_classes': num_classes,\n",
    "                            'VGG': True\n",
    "                            }\n",
    "params_training_classifier = {'1.0':{\n",
    "                                \"reg_dense\" : 0.005,\n",
    "                                \"reg_out\" : 0.005,\n",
    "                                \"nums_of_unfrozen_layers\" : [5, 5, 6, 7],\n",
    "                                \"lrs\" : [1e-3, 1e-4, 5e-5, 5e-5],\n",
    "                                \"epochs\" : [5, 5, 15, 10]\n",
    "                                },\n",
    "                              '0.2':{\n",
    "                                \"reg_dense\" : 0.075,\n",
    "                                \"reg_out\" : 0.01,\n",
    "                                \"nums_of_unfrozen_layers\" : [5, 5, 6, 7],\n",
    "                                \"lrs\" : [1e-3, 1e-4, 5e-5, 5e-5],\n",
    "                                \"epochs\" : [5, 5, 20, 15]\n",
    "                              },\n",
    "                              '0.05':{\n",
    "                                \"reg_dense\" : 0.01,\n",
    "                                \"reg_out\" : 0.02,\n",
    "                                \"nums_of_unfrozen_layers\" : [5, 5, 6, 7],\n",
    "                                \"lrs\" : [1e-3, 1e-4, 5e-5, 1e-5],\n",
    "                                \"epochs\" : [5, 5, 20, 15]\n",
    "                              }                              \n",
    "                            }"
   ]
  },
  {
   "cell_type": "code",
   "execution_count": 23,
   "metadata": {
    "colab": {
     "base_uri": "https://localhost:8080/",
     "height": 844
    },
    "colab_type": "code",
    "id": "Z_IONDPzMl2J",
    "outputId": "a780e8a7-6a13-496f-9525-22f351d04a10"
   },
   "outputs": [
    {
     "name": "stdout",
     "output_type": "stream",
     "text": [
      "    ==== 100.0% of the training data used ==== \n",
      "\n",
      "Best result from attempt 5\n",
      "              precision    recall  f1-score   support\n",
      "\n",
      "   cardboard       0.94      0.89      0.92        57\n",
      "       glass       0.84      0.81      0.83        59\n",
      "       metal       0.82      0.85      0.83        73\n",
      "       paper       0.86      0.93      0.89        89\n",
      "     plastic       0.81      0.75      0.78        81\n",
      "\n",
      "    accuracy                           0.85       359\n",
      "   macro avg       0.85      0.85      0.85       359\n",
      "weighted avg       0.85      0.85      0.85       359\n",
      "\n",
      "    ==== 20.0% of the training data used ==== \n",
      "\n",
      "Best result from attempt 1\n",
      "              precision    recall  f1-score   support\n",
      "\n",
      "   cardboard       0.93      0.88      0.90        57\n",
      "       glass       0.81      0.73      0.77        59\n",
      "       metal       0.81      0.85      0.83        73\n",
      "       paper       0.83      0.97      0.89        89\n",
      "     plastic       0.85      0.74      0.79        81\n",
      "\n",
      "    accuracy                           0.84       359\n",
      "   macro avg       0.84      0.83      0.84       359\n",
      "weighted avg       0.84      0.84      0.84       359\n",
      "\n",
      "    ==== 5.0% of the training data used ==== \n",
      "\n",
      "Best result from attempt 5\n",
      "              precision    recall  f1-score   support\n",
      "\n",
      "   cardboard       0.74      0.96      0.84        57\n",
      "       glass       0.72      0.71      0.72        59\n",
      "       metal       0.72      0.79      0.75        73\n",
      "       paper       0.82      0.84      0.83        89\n",
      "     plastic       0.87      0.59      0.71        81\n",
      "\n",
      "    accuracy                           0.77       359\n",
      "   macro avg       0.78      0.78      0.77       359\n",
      "weighted avg       0.78      0.77      0.77       359\n",
      "\n"
     ]
    }
   ],
   "source": [
    "for fraction in fractions:\n",
    "    print(f\"    ==== {fraction * 100}% of the training data used ==== \\n\")\n",
    "    SimCLR.train_NL_and_evaluate(dfs = dfs,\n",
    "                                batch_size = batch_size_classifier,\n",
    "                                params_generator = params_generator_classifier,\n",
    "                                fraction = fraction,\n",
    "                                class_labels = class_labels,\n",
    "                                reg_dense = params_training_classifier[str(fraction)][\"reg_dense\"],\n",
    "                                reg_out = params_training_classifier[str(fraction)][\"reg_out\"],\n",
    "                                nums_of_unfrozen_layers = params_training_classifier[str(fraction)][\"nums_of_unfrozen_layers\"],\n",
    "                                lrs = params_training_classifier[str(fraction)][\"lrs\"],\n",
    "                                epochs = params_training_classifier[str(fraction)][\"epochs\"],\n",
    "                                verbose_epoch = 0,\n",
    "                                verbose_cycle = 0\n",
    "                                )"
   ]
  },
  {
   "cell_type": "code",
   "execution_count": 24,
   "metadata": {
    "colab": {
     "base_uri": "https://localhost:8080/",
     "height": 380
    },
    "colab_type": "code",
    "id": "YOD7ahLaMl2Q",
    "outputId": "b12a3413-f9d1-4df3-95e4-67713c07ff77"
   },
   "outputs": [
    {
     "data": {
      "image/png": "[encoded data removed]",
      "text/plain": [
       "<Figure size 432x432 with 1 Axes>"
      ]
     },
     "metadata": {
      "needs_background": "light",
      "tags": []
     },
     "output_type": "display_data"
    }
   ],
   "source": [
    "tSNE_vis(df_train, features_train, class_labels)"
   ]
  },
  {
   "cell_type": "markdown",
   "metadata": {
    "colab_type": "text",
    "id": "7uyPJiScMl2U"
   },
   "source": [
    "# SimCLR - Round 2: Unfreeze last convolutional layer"
   ]
  },
  {
   "cell_type": "markdown",
   "metadata": {
    "colab_type": "text",
    "id": "CNKDhiABMl2V"
   },
   "source": [
    "## Training SimCLR"
   ]
  },
  {
   "cell_type": "code",
   "execution_count": 25,
   "metadata": {
    "colab": {
     "base_uri": "https://localhost:8080/",
     "height": 476
    },
    "colab_type": "code",
    "id": "r54NABsoMl2V",
    "outputId": "5c23a0ae-275e-4232-ccb5-8a51341308d3"
   },
   "outputs": [
    {
     "name": "stdout",
     "output_type": "stream",
     "text": [
      "trainable parameters: 6.82 M.\n",
      "non-trainable parameters: 12.35 M.\n",
      "Train for 53 steps, validate for 12 steps\n",
      "Epoch 1/5\n",
      "52/53 [============================>.] - ETA: 1s - loss: 72.2229\n",
      "Epoch 00001: val_loss improved from inf to 69.59197, saving model to models/trashnet/SimCLR/SimCLR_07_25_09h_45.h5\n",
      "53/53 [==============================] - 79s 1s/step - loss: 72.1778 - val_loss: 69.5920\n",
      "Epoch 2/5\n",
      "52/53 [============================>.] - ETA: 0s - loss: 68.1055\n",
      "Epoch 00002: val_loss improved from 69.59197 to 66.40417, saving model to models/trashnet/SimCLR/SimCLR_07_25_09h_45.h5\n",
      "53/53 [==============================] - 54s 1s/step - loss: 68.0773 - val_loss: 66.4042\n",
      "Epoch 3/5\n",
      "52/53 [============================>.] - ETA: 0s - loss: 65.0160\n",
      "Epoch 00003: val_loss improved from 66.40417 to 63.39869, saving model to models/trashnet/SimCLR/SimCLR_07_25_09h_45.h5\n",
      "53/53 [==============================] - 53s 1s/step - loss: 64.9913 - val_loss: 63.3987\n",
      "Epoch 4/5\n",
      "52/53 [============================>.] - ETA: 0s - loss: 62.1053\n",
      "Epoch 00004: val_loss improved from 63.39869 to 60.56424, saving model to models/trashnet/SimCLR/SimCLR_07_25_09h_45.h5\n",
      "53/53 [==============================] - 53s 1s/step - loss: 62.0783 - val_loss: 60.5642\n",
      "Epoch 5/5\n",
      "52/53 [============================>.] - ETA: 0s - loss: 59.2845\n",
      "Epoch 00005: val_loss improved from 60.56424 to 57.78752, saving model to models/trashnet/SimCLR/SimCLR_07_25_09h_45.h5\n",
      "53/53 [==============================] - 53s 1s/step - loss: 59.2588 - val_loss: 57.7875\n",
      "trainable parameters: 6.82 M.\n",
      "non-trainable parameters: 12.35 M.\n"
     ]
    }
   ],
   "source": [
    "#Unfreeze\n",
    "SimCLR.unfreeze_and_train(data_train, data_val, num_of_unfrozen_layers = 2, r = 2, lr = 1e-5, epochs = 5)   "
   ]
  },
  {
   "cell_type": "markdown",
   "metadata": {
    "colab_type": "text",
    "id": "W0ZSWi5EMl2Y"
   },
   "source": [
    "## Feature Evaluation"
   ]
  },
  {
   "cell_type": "markdown",
   "metadata": {
    "colab_type": "text",
    "id": "1OXphSXTMl2Y"
   },
   "source": [
    "### Logisitic regression"
   ]
  },
  {
   "cell_type": "code",
   "execution_count": 26,
   "metadata": {
    "colab": {},
    "colab_type": "code",
    "id": "CtO5h6u2Ml2Z"
   },
   "outputs": [],
   "source": [
    "base_model = SimCLR.base_model\n",
    "fractions = [1.0, 0.2, 0.05]"
   ]
  },
  {
   "cell_type": "code",
   "execution_count": 27,
   "metadata": {
    "colab": {
     "base_uri": "https://localhost:8080/",
     "height": 35
    },
    "colab_type": "code",
    "id": "48mY8eOgMl2c",
    "outputId": "25ae3683-be04-4276-9078-ef696d8f8a08"
   },
   "outputs": [
    {
     "data": {
      "text/plain": [
       "785"
      ]
     },
     "execution_count": 27,
     "metadata": {
      "tags": []
     },
     "output_type": "execute_result"
    }
   ],
   "source": [
    "features_train, y_train, feats = get_features(base_model, df_train, class_labels)\n",
    "features_test, y_test, feats = get_features(base_model, df_test, class_labels)\n",
    "np.count_nonzero(features_train[0])"
   ]
  },
  {
   "cell_type": "code",
   "execution_count": 28,
   "metadata": {
    "colab": {
     "base_uri": "https://localhost:8080/",
     "height": 899
    },
    "colab_type": "code",
    "id": "0UnlErH6Ml2f",
    "outputId": "7499b6c9-c515-4918-d035-f0bcda30d928"
   },
   "outputs": [
    {
     "name": "stdout",
     "output_type": "stream",
     "text": [
      "    ==== 100.0% of the training data used ==== \n",
      "\n",
      "Accuracy on test: 0.84 \n",
      "\n",
      "              precision    recall  f1-score   support\n",
      "\n",
      "   cardboard       0.84      0.93      0.88        57\n",
      "       glass       0.75      0.80      0.77        59\n",
      "       metal       0.85      0.82      0.83        73\n",
      "       paper       0.90      0.91      0.91        89\n",
      "     plastic       0.85      0.75      0.80        81\n",
      "\n",
      "    accuracy                           0.84       359\n",
      "   macro avg       0.84      0.84      0.84       359\n",
      "weighted avg       0.84      0.84      0.84       359\n",
      "\n",
      "    ==== 20.0% of the training data used ==== \n",
      "\n",
      "Accuracy on test: 0.81 \n",
      "\n",
      "              precision    recall  f1-score   support\n",
      "\n",
      "   cardboard       0.84      0.95      0.89        57\n",
      "       glass       0.69      0.76      0.73        59\n",
      "       metal       0.82      0.75      0.79        73\n",
      "       paper       0.84      0.92      0.88        89\n",
      "     plastic       0.86      0.69      0.77        81\n",
      "\n",
      "    accuracy                           0.81       359\n",
      "   macro avg       0.81      0.82      0.81       359\n",
      "weighted avg       0.82      0.81      0.81       359\n",
      "\n",
      "    ==== 5.0% of the training data used ==== \n",
      "\n",
      "Accuracy on test: 0.81 \n",
      "\n",
      "              precision    recall  f1-score   support\n",
      "\n",
      "   cardboard       0.84      0.95      0.89        57\n",
      "       glass       0.66      0.73      0.69        59\n",
      "       metal       0.80      0.81      0.80        73\n",
      "       paper       0.87      0.92      0.90        89\n",
      "     plastic       0.85      0.65      0.74        81\n",
      "\n",
      "    accuracy                           0.81       359\n",
      "   macro avg       0.81      0.81      0.81       359\n",
      "weighted avg       0.81      0.81      0.81       359\n",
      "\n"
     ]
    }
   ],
   "source": [
    "# Training logistic regression classifier on 3 fractions of the data\n",
    "# Optimal regularization is determined from a 5-fold cross-validation\n",
    "for fraction in fractions:\n",
    "    print(f\"    ==== {fraction * 100}% of the training data used ==== \\n\")\n",
    "    linear_classifier(features_train, y_train, features_test, y_test, class_labels, fraction = fraction)"
   ]
  },
  {
   "cell_type": "markdown",
   "metadata": {
    "colab_type": "text",
    "id": "AMwQBHz1Ml2k"
   },
   "source": [
    "### Fine tuned model"
   ]
  },
  {
   "cell_type": "code",
   "execution_count": 29,
   "metadata": {
    "colab": {},
    "colab_type": "code",
    "id": "pyxa7SJZMl2k"
   },
   "outputs": [],
   "source": [
    "batch_size_classifier = 32\n",
    "params_generator_classifier = {'max_width':width_img,\n",
    "                            'max_height': height_img,\n",
    "                            'num_classes': num_classes,\n",
    "                            'VGG': True\n",
    "                            }\n",
    "params_training_classifier = {'1.0':{\n",
    "                                \"reg_dense\" : 0.005,\n",
    "                                \"reg_out\" : 0.005,\n",
    "                                \"nums_of_unfrozen_layers\" : [5, 5, 6, 7],\n",
    "                                \"lrs\" : [1e-3, 1e-4, 5e-5, 5e-5],\n",
    "                                \"epochs\" : [5, 5, 15, 10]\n",
    "                                },\n",
    "                              '0.2':{\n",
    "                                \"reg_dense\" : 0.075,\n",
    "                                \"reg_out\" : 0.01,\n",
    "                                \"nums_of_unfrozen_layers\" : [5, 5, 6, 7],\n",
    "                                \"lrs\" : [1e-3, 1e-4, 5e-5, 5e-5],\n",
    "                                \"epochs\" : [5, 5, 20, 15]\n",
    "                              },\n",
    "                              '0.05':{\n",
    "                                \"reg_dense\" : 0.01,\n",
    "                                \"reg_out\" : 0.02,\n",
    "                                \"nums_of_unfrozen_layers\" : [5, 5, 6, 7],\n",
    "                                \"lrs\" : [1e-3, 1e-4, 5e-5, 1e-5],\n",
    "                                \"epochs\" : [5, 5, 20, 15]\n",
    "                              }                              \n",
    "                            }"
   ]
  },
  {
   "cell_type": "code",
   "execution_count": 30,
   "metadata": {
    "colab": {
     "base_uri": "https://localhost:8080/",
     "height": 880
    },
    "colab_type": "code",
    "id": "de23l-B6Ml2m",
    "outputId": "5a43d726-92e5-427d-a5e0-bd843b2586a3"
   },
   "outputs": [
    {
     "name": "stdout",
     "output_type": "stream",
     "text": [
      "    ==== 100.0% of the training data used ==== \n",
      "\n",
      "Learning diverged, stopped.\n",
      "Best result from attempt 4\n",
      "              precision    recall  f1-score   support\n",
      "\n",
      "   cardboard       0.96      0.91      0.94        57\n",
      "       glass       0.82      0.80      0.81        59\n",
      "       metal       0.81      0.90      0.86        73\n",
      "       paper       0.85      0.93      0.89        89\n",
      "     plastic       0.86      0.73      0.79        81\n",
      "\n",
      "    accuracy                           0.86       359\n",
      "   macro avg       0.86      0.85      0.86       359\n",
      "weighted avg       0.86      0.86      0.85       359\n",
      "\n",
      "    ==== 20.0% of the training data used ==== \n",
      "\n",
      "Learning diverged, stopped.\n",
      "Best result from attempt 1\n",
      "              precision    recall  f1-score   support\n",
      "\n",
      "   cardboard       0.93      0.91      0.92        57\n",
      "       glass       0.83      0.76      0.80        59\n",
      "       metal       0.82      0.93      0.87        73\n",
      "       paper       0.87      0.93      0.90        89\n",
      "     plastic       0.85      0.74      0.79        81\n",
      "\n",
      "    accuracy                           0.86       359\n",
      "   macro avg       0.86      0.86      0.86       359\n",
      "weighted avg       0.86      0.86      0.86       359\n",
      "\n",
      "    ==== 5.0% of the training data used ==== \n",
      "\n",
      "Best result from attempt 4\n",
      "              precision    recall  f1-score   support\n",
      "\n",
      "   cardboard       0.76      0.95      0.84        57\n",
      "       glass       0.79      0.76      0.78        59\n",
      "       metal       0.78      0.85      0.81        73\n",
      "       paper       0.95      0.80      0.87        89\n",
      "     plastic       0.88      0.83      0.85        81\n",
      "\n",
      "    accuracy                           0.83       359\n",
      "   macro avg       0.83      0.84      0.83       359\n",
      "weighted avg       0.84      0.83      0.83       359\n",
      "\n"
     ]
    }
   ],
   "source": [
    "for fraction in fractions:    \n",
    "    print(f\"    ==== {fraction * 100}% of the training data used ==== \\n\")\n",
    "    SimCLR.train_NL_and_evaluate(dfs = dfs,\n",
    "                                batch_size = batch_size_classifier,\n",
    "                                params_generator = params_generator_classifier,\n",
    "                                fraction = fraction,\n",
    "                                class_labels = class_labels,\n",
    "                                reg_dense = params_training_classifier[str(fraction)][\"reg_dense\"],\n",
    "                                reg_out = params_training_classifier[str(fraction)][\"reg_out\"],\n",
    "                                nums_of_unfrozen_layers = params_training_classifier[str(fraction)][\"nums_of_unfrozen_layers\"],\n",
    "                                lrs = params_training_classifier[str(fraction)][\"lrs\"],\n",
    "                                epochs = params_training_classifier[str(fraction)][\"epochs\"],\n",
    "                                verbose_epoch = 0,\n",
    "                                verbose_cycle = 0\n",
    "                                )"
   ]
  },
  {
   "cell_type": "code",
   "execution_count": 31,
   "metadata": {
    "colab": {
     "base_uri": "https://localhost:8080/",
     "height": 380
    },
    "colab_type": "code",
    "id": "Z9VQvF9yMl2s",
    "outputId": "ac1aef8c-3c54-40af-85e6-f8ad28328018"
   },
   "outputs": [
    {
     "data": {
      "image/png": "[encoded data removed]",
      "text/plain": [
       "<Figure size 432x432 with 1 Axes>"
      ]
     },
     "metadata": {
      "needs_background": "light",
      "tags": []
     },
     "output_type": "display_data"
    }
   ],
   "source": [
    "tSNE_vis(df_train, features_train, class_labels)"
   ]
  },
  {
   "cell_type": "markdown",
   "metadata": {
    "colab_type": "text",
    "id": "_Bkh50_zMl2v"
   },
   "source": [
    "# SimCLR - Round 3: Unfreeze 2 last convolutional layer"
   ]
  },
  {
   "cell_type": "markdown",
   "metadata": {
    "colab_type": "text",
    "id": "KgjG_EyBMl2w"
   },
   "source": [
    "## Training SimCLR"
   ]
  },
  {
   "cell_type": "code",
   "execution_count": 32,
   "metadata": {
    "colab": {
     "base_uri": "https://localhost:8080/",
     "height": 476
    },
    "colab_type": "code",
    "id": "8srBtciWMl2y",
    "outputId": "60eddb36-d9e2-4f2a-9cbb-c94eb1a6e14a"
   },
   "outputs": [
    {
     "name": "stdout",
     "output_type": "stream",
     "text": [
      "trainable parameters: 9.18 M.\n",
      "non-trainable parameters: 10.0 M.\n",
      "Train for 53 steps, validate for 12 steps\n",
      "Epoch 1/5\n",
      "52/53 [============================>.] - ETA: 1s - loss: 58.1905\n",
      "Epoch 00001: val_loss improved from inf to 56.99666, saving model to models/trashnet/SimCLR/SimCLR_07_25_10h_04.h5\n",
      "53/53 [==============================] - 86s 2s/step - loss: 58.1696 - val_loss: 56.9967\n",
      "Epoch 2/5\n",
      "52/53 [============================>.] - ETA: 0s - loss: 56.4327\n",
      "Epoch 00002: val_loss improved from 56.99666 to 55.72707, saving model to models/trashnet/SimCLR/SimCLR_07_25_10h_04.h5\n",
      "53/53 [==============================] - 59s 1s/step - loss: 56.4221 - val_loss: 55.7271\n",
      "Epoch 3/5\n",
      "52/53 [============================>.] - ETA: 0s - loss: 55.2348\n",
      "Epoch 00003: val_loss improved from 55.72707 to 54.56079, saving model to models/trashnet/SimCLR/SimCLR_07_25_10h_04.h5\n",
      "53/53 [==============================] - 59s 1s/step - loss: 55.2233 - val_loss: 54.5608\n",
      "Epoch 4/5\n",
      "52/53 [============================>.] - ETA: 0s - loss: 54.1045\n",
      "Epoch 00004: val_loss improved from 54.56079 to 53.51651, saving model to models/trashnet/SimCLR/SimCLR_07_25_10h_04.h5\n",
      "53/53 [==============================] - 59s 1s/step - loss: 54.0967 - val_loss: 53.5165\n",
      "Epoch 5/5\n",
      "52/53 [============================>.] - ETA: 0s - loss: 53.0667\n",
      "Epoch 00005: val_loss improved from 53.51651 to 52.43897, saving model to models/trashnet/SimCLR/SimCLR_07_25_10h_04.h5\n",
      "53/53 [==============================] - 58s 1s/step - loss: 53.0585 - val_loss: 52.4390\n",
      "trainable parameters: 9.18 M.\n",
      "non-trainable parameters: 10.0 M.\n"
     ]
    }
   ],
   "source": [
    "#Unfreeze\n",
    "SimCLR.unfreeze_and_train(data_train, data_val, num_of_unfrozen_layers = 3, r = 3, lr = 5e-6, epochs = 5)   "
   ]
  },
  {
   "cell_type": "code",
   "execution_count": 33,
   "metadata": {
    "colab": {},
    "colab_type": "code",
    "id": "TIvT7J9lMl21"
   },
   "outputs": [],
   "source": [
    "y_predict_test_after = SimCLR.predict(data_test)"
   ]
  },
  {
   "cell_type": "markdown",
   "metadata": {
    "colab_type": "text",
    "id": "fR_iD6kjMl23"
   },
   "source": [
    "## Feature Evaluation"
   ]
  },
  {
   "cell_type": "code",
   "execution_count": 34,
   "metadata": {
    "colab": {},
    "colab_type": "code",
    "id": "HfCtfu-FMl24"
   },
   "outputs": [],
   "source": [
    "base_model = SimCLR.base_model"
   ]
  },
  {
   "cell_type": "code",
   "execution_count": 35,
   "metadata": {
    "colab": {
     "base_uri": "https://localhost:8080/",
     "height": 35
    },
    "colab_type": "code",
    "id": "QCVop5DtMl26",
    "outputId": "7c908f6c-d027-4386-adc0-7523d141beed"
   },
   "outputs": [
    {
     "data": {
      "text/plain": [
       "846"
      ]
     },
     "execution_count": 35,
     "metadata": {
      "tags": []
     },
     "output_type": "execute_result"
    }
   ],
   "source": [
    "features_train, y_train, feats = get_features(base_model, df_train, class_labels)\n",
    "features_test, y_test, feats = get_features(base_model, df_test, class_labels)\n",
    "np.count_nonzero(features_train[0])"
   ]
  },
  {
   "cell_type": "code",
   "execution_count": 36,
   "metadata": {
    "colab": {
     "base_uri": "https://localhost:8080/",
     "height": 899
    },
    "colab_type": "code",
    "id": "t8ufdXeRMl28",
    "outputId": "14350f23-4d34-4859-d1dc-b8ee6998603a"
   },
   "outputs": [
    {
     "name": "stdout",
     "output_type": "stream",
     "text": [
      "    ==== 100.0% of the training data used ==== \n",
      "\n",
      "Accuracy on test: 0.84 \n",
      "\n",
      "              precision    recall  f1-score   support\n",
      "\n",
      "   cardboard       0.87      0.93      0.90        57\n",
      "       glass       0.75      0.80      0.77        59\n",
      "       metal       0.83      0.88      0.85        73\n",
      "       paper       0.91      0.88      0.89        89\n",
      "     plastic       0.83      0.74      0.78        81\n",
      "\n",
      "    accuracy                           0.84       359\n",
      "   macro avg       0.84      0.84      0.84       359\n",
      "weighted avg       0.84      0.84      0.84       359\n",
      "\n",
      "    ==== 20.0% of the training data used ==== \n",
      "\n",
      "Accuracy on test: 0.83 \n",
      "\n",
      "              precision    recall  f1-score   support\n",
      "\n",
      "   cardboard       0.87      0.93      0.90        57\n",
      "       glass       0.73      0.80      0.76        59\n",
      "       metal       0.80      0.82      0.81        73\n",
      "       paper       0.88      0.88      0.88        89\n",
      "     plastic       0.84      0.73      0.78        81\n",
      "\n",
      "    accuracy                           0.83       359\n",
      "   macro avg       0.82      0.83      0.83       359\n",
      "weighted avg       0.83      0.83      0.83       359\n",
      "\n",
      "    ==== 5.0% of the training data used ==== \n",
      "\n",
      "Accuracy on test: 0.82 \n",
      "\n",
      "              precision    recall  f1-score   support\n",
      "\n",
      "   cardboard       0.86      0.95      0.90        57\n",
      "       glass       0.73      0.78      0.75        59\n",
      "       metal       0.79      0.82      0.81        73\n",
      "       paper       0.87      0.87      0.87        89\n",
      "     plastic       0.84      0.70      0.77        81\n",
      "\n",
      "    accuracy                           0.82       359\n",
      "   macro avg       0.82      0.82      0.82       359\n",
      "weighted avg       0.82      0.82      0.82       359\n",
      "\n"
     ]
    }
   ],
   "source": [
    "# Training logistic regression classifier on 3 fractions of the data\n",
    "# Optimal regularization is determined from a 5-fold cross-validation\n",
    "fractions = [1.0, 0.2, 0.05]\n",
    "for fraction in fractions:\n",
    "    print(f\"    ==== {fraction * 100}% of the training data used ==== \\n\")\n",
    "    linear_classifier(features_train, y_train, features_test, y_test, class_labels, fraction = fraction)"
   ]
  },
  {
   "cell_type": "markdown",
   "metadata": {
    "colab_type": "text",
    "id": "5AVOuKXlMl2-"
   },
   "source": [
    "### Fine tuned model"
   ]
  },
  {
   "cell_type": "code",
   "execution_count": 37,
   "metadata": {
    "colab": {},
    "colab_type": "code",
    "id": "ABGWyLgSMl2_"
   },
   "outputs": [],
   "source": [
    "batch_size_classifier = 32\n",
    "params_generator_classifier = {'max_width':width_img,\n",
    "                            'max_height': height_img,\n",
    "                            'num_classes': num_classes,\n",
    "                            'VGG': True\n",
    "                        }"
   ]
  },
  {
   "cell_type": "code",
   "execution_count": 38,
   "metadata": {
    "colab": {
     "base_uri": "https://localhost:8080/",
     "height": 844
    },
    "colab_type": "code",
    "id": "_sHcT6tiMl3B",
    "outputId": "3614c5a8-7c9a-4d73-897e-74b2a6bac914"
   },
   "outputs": [
    {
     "name": "stdout",
     "output_type": "stream",
     "text": [
      "    ==== 100.0% of the training data used ==== \n",
      "\n",
      "Best result from attempt 3\n",
      "              precision    recall  f1-score   support\n",
      "\n",
      "   cardboard       0.96      0.91      0.94        57\n",
      "       glass       0.81      0.85      0.83        59\n",
      "       metal       0.81      0.89      0.85        73\n",
      "       paper       0.87      0.92      0.90        89\n",
      "     plastic       0.87      0.74      0.80        81\n",
      "\n",
      "    accuracy                           0.86       359\n",
      "   macro avg       0.86      0.86      0.86       359\n",
      "weighted avg       0.86      0.86      0.86       359\n",
      "\n",
      "    ==== 20.0% of the training data used ==== \n",
      "\n",
      "Best result from attempt 3\n",
      "              precision    recall  f1-score   support\n",
      "\n",
      "   cardboard       0.88      0.91      0.90        57\n",
      "       glass       0.83      0.83      0.83        59\n",
      "       metal       0.82      0.85      0.83        73\n",
      "       paper       0.91      0.92      0.92        89\n",
      "     plastic       0.87      0.80      0.83        81\n",
      "\n",
      "    accuracy                           0.86       359\n",
      "   macro avg       0.86      0.86      0.86       359\n",
      "weighted avg       0.86      0.86      0.86       359\n",
      "\n",
      "    ==== 5.0% of the training data used ==== \n",
      "\n",
      "Best result from attempt 1\n",
      "              precision    recall  f1-score   support\n",
      "\n",
      "   cardboard       0.89      0.95      0.92        57\n",
      "       glass       0.93      0.69      0.80        59\n",
      "       metal       0.73      0.95      0.83        73\n",
      "       paper       0.94      0.89      0.91        89\n",
      "     plastic       0.88      0.83      0.85        81\n",
      "\n",
      "    accuracy                           0.86       359\n",
      "   macro avg       0.87      0.86      0.86       359\n",
      "weighted avg       0.88      0.86      0.86       359\n",
      "\n"
     ]
    }
   ],
   "source": [
    "for fraction in fractions:\n",
    "    print(f\"    ==== {fraction * 100}% of the training data used ==== \\n\")\n",
    "    SimCLR.train_NL_and_evaluate(dfs = dfs,\n",
    "                                batch_size = batch_size_classifier,\n",
    "                                params_generator = params_generator_classifier,\n",
    "                                fraction = fraction,\n",
    "                                class_labels = class_labels,\n",
    "                                reg_dense = 0.005,\n",
    "                                reg_out = 0.003,\n",
    "                                nums_of_unfrozen_layers = [5, 5, 6, 7],\n",
    "                                lrs = [1e-3, 1e-4, 5e-5, 1e-5],\n",
    "                                epochs = [5, 5, 15, 10],\n",
    "                                verbose_epoch = 0,\n",
    "                                verbose_cycle = 0\n",
    "                                )"
   ]
  },
  {
   "cell_type": "code",
   "execution_count": 39,
   "metadata": {
    "colab": {
     "base_uri": "https://localhost:8080/",
     "height": 380
    },
    "colab_type": "code",
    "id": "TfrOqkyIMl3E",
    "outputId": "0d2c42a4-b280-4212-a31c-98c620e4b8a4"
   },
   "outputs": [
    {
     "data": {
      "image/png": "[encoded data removed]",
      "text/plain": [
       "<Figure size 432x432 with 1 Axes>"
      ]
     },
     "metadata": {
      "needs_background": "light",
      "tags": []
     },
     "output_type": "display_data"
    }
   ],
   "source": [
    "tSNE_vis(df_train, features_train, class_labels)"
   ]
  },
  {
   "cell_type": "markdown",
   "metadata": {
    "colab_type": "text",
    "id": "wgd8co1ZMl3H"
   },
   "source": [
    "# SimCLR - Round 4: Unfreeze 3 last convolutional layer"
   ]
  },
  {
   "cell_type": "code",
   "execution_count": 40,
   "metadata": {
    "colab": {},
    "colab_type": "code",
    "id": "H85sA9-jMl3H"
   },
   "outputs": [],
   "source": [
    "y_predict_test_before = y_predict_test_after"
   ]
  },
  {
   "cell_type": "markdown",
   "metadata": {
    "colab_type": "text",
    "id": "TbTY6SdtMl3K"
   },
   "source": [
    "## Training SimCLR"
   ]
  },
  {
   "cell_type": "code",
   "execution_count": 41,
   "metadata": {
    "colab": {
     "base_uri": "https://localhost:8080/",
     "height": 476
    },
    "colab_type": "code",
    "id": "dbj61XF1Ml3K",
    "outputId": "ee7b28f9-a7a5-4f9a-a05f-6423bf53e61a"
   },
   "outputs": [
    {
     "name": "stdout",
     "output_type": "stream",
     "text": [
      "trainable parameters: 11.54 M.\n",
      "non-trainable parameters: 7.64 M.\n",
      "Train for 53 steps, validate for 12 steps\n",
      "Epoch 1/5\n",
      "52/53 [============================>.] - ETA: 1s - loss: 53.7285\n",
      "Epoch 00001: val_loss improved from inf to 52.67540, saving model to models/trashnet/SimCLR/SimCLR_07_25_10h_23.h5\n",
      "53/53 [==============================] - 90s 2s/step - loss: 53.7145 - val_loss: 52.6754\n",
      "Epoch 2/5\n",
      "52/53 [============================>.] - ETA: 1s - loss: 52.6048\n",
      "Epoch 00002: val_loss improved from 52.67540 to 52.33002, saving model to models/trashnet/SimCLR/SimCLR_07_25_10h_23.h5\n",
      "53/53 [==============================] - 63s 1s/step - loss: 52.6012 - val_loss: 52.3300\n",
      "Epoch 3/5\n",
      "52/53 [============================>.] - ETA: 1s - loss: 52.3287\n",
      "Epoch 00003: val_loss improved from 52.33002 to 52.18499, saving model to models/trashnet/SimCLR/SimCLR_07_25_10h_23.h5\n",
      "53/53 [==============================] - 63s 1s/step - loss: 52.3261 - val_loss: 52.1850\n",
      "Epoch 4/5\n",
      "52/53 [============================>.] - ETA: 1s - loss: 52.1082\n",
      "Epoch 00004: val_loss improved from 52.18499 to 51.98614, saving model to models/trashnet/SimCLR/SimCLR_07_25_10h_23.h5\n",
      "53/53 [==============================] - 64s 1s/step - loss: 52.1090 - val_loss: 51.9861\n",
      "Epoch 5/5\n",
      "52/53 [============================>.] - ETA: 1s - loss: 51.8882\n",
      "Epoch 00005: val_loss improved from 51.98614 to 51.75289, saving model to models/trashnet/SimCLR/SimCLR_07_25_10h_23.h5\n",
      "53/53 [==============================] - 65s 1s/step - loss: 51.8863 - val_loss: 51.7529\n",
      "trainable parameters: 11.54 M.\n",
      "non-trainable parameters: 7.64 M.\n"
     ]
    }
   ],
   "source": [
    "#Unfreeze\n",
    "SimCLR.unfreeze_and_train(data_train, \n",
    "                          data_val, \n",
    "                          num_of_unfrozen_layers = 4, \n",
    "                          r = 4, \n",
    "                          lr = 1e-6, \n",
    "                          epochs = 5)  "
   ]
  },
  {
   "cell_type": "code",
   "execution_count": 42,
   "metadata": {
    "colab": {},
    "colab_type": "code",
    "id": "DWApei37Ml3O"
   },
   "outputs": [],
   "source": [
    "y_predict_test_after = SimCLR.predict(data_test)"
   ]
  },
  {
   "cell_type": "markdown",
   "metadata": {
    "colab_type": "text",
    "id": "IMdwX9kXMl3R"
   },
   "source": [
    "## Feature Evaluation"
   ]
  },
  {
   "cell_type": "markdown",
   "metadata": {
    "colab_type": "text",
    "id": "pO4paMl9Ml3R"
   },
   "source": [
    "### Logistic Regression"
   ]
  },
  {
   "cell_type": "code",
   "execution_count": 43,
   "metadata": {
    "colab": {},
    "colab_type": "code",
    "id": "P-IHH1xVMl3S"
   },
   "outputs": [],
   "source": [
    "base_model = SimCLR.base_model"
   ]
  },
  {
   "cell_type": "code",
   "execution_count": 44,
   "metadata": {
    "colab": {
     "base_uri": "https://localhost:8080/",
     "height": 35
    },
    "colab_type": "code",
    "id": "cnECT4QJMl3T",
    "outputId": "f24df18b-daaa-4ded-9d6e-c9262adf4b0e"
   },
   "outputs": [
    {
     "data": {
      "text/plain": [
       "1103"
      ]
     },
     "execution_count": 44,
     "metadata": {
      "tags": []
     },
     "output_type": "execute_result"
    }
   ],
   "source": [
    "features_train, y_train, feats = get_features(base_model, df_train, class_labels)\n",
    "features_test, y_test, feats = get_features(base_model, df_test, class_labels)\n",
    "np.count_nonzero(features_train[0])"
   ]
  },
  {
   "cell_type": "code",
   "execution_count": 45,
   "metadata": {
    "colab": {
     "base_uri": "https://localhost:8080/",
     "height": 899
    },
    "colab_type": "code",
    "id": "TU8NPJBkMl3X",
    "outputId": "1f39db1c-684b-4b85-e199-1a77c0563abb"
   },
   "outputs": [
    {
     "name": "stdout",
     "output_type": "stream",
     "text": [
      "    ==== 100.0% of the training data used ==== \n",
      "\n",
      "Accuracy on test: 0.83 \n",
      "\n",
      "              precision    recall  f1-score   support\n",
      "\n",
      "   cardboard       0.90      0.82      0.86        57\n",
      "       glass       0.80      0.80      0.80        59\n",
      "       metal       0.79      0.90      0.84        73\n",
      "       paper       0.84      0.89      0.86        89\n",
      "     plastic       0.83      0.72      0.77        81\n",
      "\n",
      "    accuracy                           0.83       359\n",
      "   macro avg       0.83      0.83      0.83       359\n",
      "weighted avg       0.83      0.83      0.83       359\n",
      "\n",
      "    ==== 20.0% of the training data used ==== \n",
      "\n",
      "Accuracy on test: 0.82 \n",
      "\n",
      "              precision    recall  f1-score   support\n",
      "\n",
      "   cardboard       0.92      0.84      0.88        57\n",
      "       glass       0.77      0.80      0.78        59\n",
      "       metal       0.79      0.85      0.82        73\n",
      "       paper       0.81      0.89      0.85        89\n",
      "     plastic       0.83      0.73      0.78        81\n",
      "\n",
      "    accuracy                           0.82       359\n",
      "   macro avg       0.83      0.82      0.82       359\n",
      "weighted avg       0.82      0.82      0.82       359\n",
      "\n",
      "    ==== 5.0% of the training data used ==== \n",
      "\n",
      "Accuracy on test: 0.82 \n",
      "\n",
      "              precision    recall  f1-score   support\n",
      "\n",
      "   cardboard       0.91      0.88      0.89        57\n",
      "       glass       0.75      0.76      0.76        59\n",
      "       metal       0.81      0.88      0.84        73\n",
      "       paper       0.86      0.89      0.87        89\n",
      "     plastic       0.79      0.72      0.75        81\n",
      "\n",
      "    accuracy                           0.82       359\n",
      "   macro avg       0.82      0.82      0.82       359\n",
      "weighted avg       0.82      0.82      0.82       359\n",
      "\n"
     ]
    }
   ],
   "source": [
    "# Training logistic regression classifier on 3 fractions of the data\n",
    "# Optimal regularization is determined from a 5-fold cross-validation\n",
    "fractions = [1.0, 0.2, 0.05]\n",
    "for fraction in fractions:\n",
    "    print(f\"    ==== {fraction * 100}% of the training data used ==== \\n\")\n",
    "    linear_classifier(features_train, y_train, features_test, y_test, class_labels, fraction = fraction)"
   ]
  },
  {
   "cell_type": "markdown",
   "metadata": {
    "colab_type": "text",
    "id": "XlVebWE7Ml3Z"
   },
   "source": [
    "### Fine tuned model"
   ]
  },
  {
   "cell_type": "code",
   "execution_count": 46,
   "metadata": {
    "colab": {},
    "colab_type": "code",
    "id": "vhnYkrhZMl3a"
   },
   "outputs": [],
   "source": [
    "batch_size_classifier = 32\n",
    "params_generator_classifier = {'max_width':width_img,\n",
    "                            'max_height': height_img,\n",
    "                            'num_classes': num_classes,\n",
    "                            'VGG': True\n",
    "                            }\n",
    "params_training_classifier = {'1.0':{\n",
    "                                \"reg_dense\" : 0.005,\n",
    "                                \"reg_out\" : 0.005,\n",
    "                                \"nums_of_unfrozen_layers\" : [5, 5, 6, 7],\n",
    "                                \"lrs\" : [1e-3, 1e-4, 5e-5, 5e-5],\n",
    "                                \"epochs\" : [5, 5, 15, 10]\n",
    "                                },\n",
    "                              '0.2':{\n",
    "                                \"reg_dense\" : 0.075,\n",
    "                                \"reg_out\" : 0.01,\n",
    "                                \"nums_of_unfrozen_layers\" : [5, 5, 6, 7],\n",
    "                                \"lrs\" : [1e-3, 1e-4, 5e-5, 5e-5],\n",
    "                                \"epochs\" : [5, 5, 20, 15]\n",
    "                              },\n",
    "                              '0.05':{\n",
    "                                \"reg_dense\" : 0.01,\n",
    "                                \"reg_out\" : 0.02,\n",
    "                                \"nums_of_unfrozen_layers\" : [5, 5, 6, 7],\n",
    "                                \"lrs\" : [1e-3, 1e-4, 5e-5, 1e-5],\n",
    "                                \"epochs\" : [5, 5, 20, 15]\n",
    "                              }                              \n",
    "                            }"
   ]
  },
  {
   "cell_type": "code",
   "execution_count": 47,
   "metadata": {
    "colab": {
     "base_uri": "https://localhost:8080/",
     "height": 862
    },
    "colab_type": "code",
    "id": "QtoW3bL4Ml3g",
    "outputId": "a985cb18-c039-41cd-e1ad-daca9010c85b"
   },
   "outputs": [
    {
     "name": "stdout",
     "output_type": "stream",
     "text": [
      "    ==== 100.0% of the training data used ==== \n",
      "\n",
      "Best result from attempt 3\n",
      "              precision    recall  f1-score   support\n",
      "\n",
      "   cardboard       0.96      0.91      0.94        57\n",
      "       glass       0.85      0.88      0.87        59\n",
      "       metal       0.81      0.89      0.85        73\n",
      "       paper       0.90      0.94      0.92        89\n",
      "     plastic       0.92      0.80      0.86        81\n",
      "\n",
      "    accuracy                           0.89       359\n",
      "   macro avg       0.89      0.89      0.89       359\n",
      "weighted avg       0.89      0.89      0.89       359\n",
      "\n",
      "    ==== 20.0% of the training data used ==== \n",
      "\n",
      "Best result from attempt 1\n",
      "              precision    recall  f1-score   support\n",
      "\n",
      "   cardboard       0.90      0.95      0.92        57\n",
      "       glass       0.83      0.83      0.83        59\n",
      "       metal       0.81      0.86      0.83        73\n",
      "       paper       0.92      0.92      0.92        89\n",
      "     plastic       0.90      0.81      0.86        81\n",
      "\n",
      "    accuracy                           0.87       359\n",
      "   macro avg       0.87      0.88      0.87       359\n",
      "weighted avg       0.88      0.87      0.87       359\n",
      "\n",
      "    ==== 5.0% of the training data used ==== \n",
      "\n",
      "Learning diverged, stopped.\n",
      "Best result from attempt 1\n",
      "              precision    recall  f1-score   support\n",
      "\n",
      "   cardboard       0.89      0.88      0.88        57\n",
      "       glass       0.81      0.81      0.81        59\n",
      "       metal       0.83      0.81      0.82        73\n",
      "       paper       0.85      0.96      0.90        89\n",
      "     plastic       0.90      0.81      0.86        81\n",
      "\n",
      "    accuracy                           0.86       359\n",
      "   macro avg       0.86      0.85      0.85       359\n",
      "weighted avg       0.86      0.86      0.86       359\n",
      "\n"
     ]
    }
   ],
   "source": [
    "for fraction in fractions:    \n",
    "    print(f\"    ==== {fraction * 100}% of the training data used ==== \\n\")\n",
    "    SimCLR.train_NL_and_evaluate(dfs = dfs,\n",
    "                                batch_size = batch_size_classifier,\n",
    "                                params_generator = params_generator_classifier,\n",
    "                                fraction = fraction,\n",
    "                                class_labels = class_labels,\n",
    "                                reg_dense = params_training_classifier[str(fraction)][\"reg_dense\"],\n",
    "                                reg_out = params_training_classifier[str(fraction)][\"reg_out\"],\n",
    "                                nums_of_unfrozen_layers = params_training_classifier[str(fraction)][\"nums_of_unfrozen_layers\"],\n",
    "                                lrs = params_training_classifier[str(fraction)][\"lrs\"],\n",
    "                                epochs = params_training_classifier[str(fraction)][\"epochs\"],\n",
    "                                verbose_epoch = 0,\n",
    "                                verbose_cycle = 0\n",
    "                                )"
   ]
  },
  {
   "cell_type": "code",
   "execution_count": 48,
   "metadata": {
    "colab": {
     "base_uri": "https://localhost:8080/",
     "height": 380
    },
    "colab_type": "code",
    "id": "PAyCxLZXMl3j",
    "outputId": "0919bb05-c696-4eb5-9ed5-a8a2db6e29cd"
   },
   "outputs": [
    {
     "data": {
      "image/png": "[encoded data removed]",
      "text/plain": [
       "<Figure size 432x432 with 1 Axes>"
      ]
     },
     "metadata": {
      "needs_background": "light",
      "tags": []
     },
     "output_type": "display_data"
    }
   ],
   "source": [
    "tSNE_vis(df_train, features_train, class_labels)"
   ]
  },
  {
   "cell_type": "code",
   "execution_count": 48,
   "metadata": {
    "colab": {},
    "colab_type": "code",
    "id": "RItzibZvMl3l"
   },
   "outputs": [],
   "source": []
  }
 ],
 "metadata": {
  "accelerator": "GPU",
  "colab": {
   "collapsed_sections": [],
   "name": "2_model_SimCLR.ipynb",
   "provenance": []
  },
  "kernelspec": {
   "display_name": "Python 3",
   "language": "python",
   "name": "python3"
  },
  "language_info": {
   "codemirror_mode": {
    "name": "ipython",
    "version": 3
   },
   "file_extension": ".py",
   "mimetype": "text/x-python",
   "name": "python",
   "nbconvert_exporter": "python",
   "pygments_lexer": "ipython3",
   "version": "3.8.8"
  }
 },
 "nbformat": 4,
 "nbformat_minor": 4
}
