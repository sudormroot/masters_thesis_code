{
 "cells": [
  {
   "cell_type": "code",
   "execution_count": 58,
   "id": "b71e54d5-96b8-4816-a874-d30d02856180",
   "metadata": {},
   "outputs": [],
   "source": [
    "import numpy as np\n",
    "import pandas as pd\n",
    "import os\n",
    "import sys \n",
    "\n",
    "libpath = \"lib\"\n",
    "sys.path.append(libpath)"
   ]
  },
  {
   "cell_type": "code",
   "execution_count": 59,
   "id": "c8ea705a-e8f3-4a63-bbae-bd6c78b931f2",
   "metadata": {},
   "outputs": [],
   "source": [
    "import tensorflow as tf\n",
    "from tensorflow import keras"
   ]
  },
  {
   "cell_type": "code",
   "execution_count": 60,
   "id": "be0a12d9-fd87-47ff-8c14-cffe16fbeed9",
   "metadata": {},
   "outputs": [],
   "source": [
    "if \"random_color_affine\" in sys.modules:\n",
    "    del sys.modules[\"random_color_affine\"]\n",
    "    \n",
    "from random_color_affine import CustomisedRandomColorAffineLayer"
   ]
  },
  {
   "cell_type": "code",
   "execution_count": 61,
   "id": "8352aba1-fa84-41dd-a45c-6c2c5de67954",
   "metadata": {},
   "outputs": [],
   "source": [
    "layer = CustomisedRandomColorAffineLayer(brightness = 0.1, jitter = 0.2)"
   ]
  },
  {
   "cell_type": "code",
   "execution_count": 62,
   "id": "c7618264-31af-483c-98ce-2d12cff65f2c",
   "metadata": {},
   "outputs": [],
   "source": [
    "serialized_layer = keras.layers.serialize(layer)"
   ]
  },
  {
   "cell_type": "code",
   "execution_count": 63,
   "id": "bdedf678-7dfa-463e-921f-e141d38121d6",
   "metadata": {},
   "outputs": [],
   "source": [
    "new_layer = keras.layers.deserialize(\n",
    "    serialized_layer, custom_objects={\"CustomisedRandomColorAffineLayer\": CustomisedRandomColorAffineLayer}\n",
    ")"
   ]
  },
  {
   "cell_type": "code",
   "execution_count": 96,
   "id": "48c6dfef-ae1e-491e-8abd-d41e9c7e59cd",
   "metadata": {},
   "outputs": [],
   "source": [
    "if \"imgaug_model\" in sys.modules:\n",
    "    del sys.modules[\"imgaug_model\"]\n",
    "    \n",
    "from imgaug_model import CustomisedTrainImageAugmenter"
   ]
  },
  {
   "cell_type": "code",
   "execution_count": 97,
   "id": "c4992d1e-51c1-4a0a-9f37-d0d9f861e9a0",
   "metadata": {},
   "outputs": [],
   "source": [
    "image_shape = (128, 128,3)\n",
    "contrastive_imgaug_params = {\"image_shape\": image_shape,\n",
    "                             \"min_area\": 0.25, \n",
    "                             \"brightness\": 0.6, \n",
    "                             \"jitter\": 0.2}\n",
    "\n",
    "#layer = CustomisedTrainImageAugmenter(**contrastive_imgaug_params)\n",
    "\n",
    "\n",
    "#inputs = keras.layers.InputLayer(input_shape = image_shape)\n",
    "#outputs = CustomisedTrainImageAugmenter(**contrastive_imgaug_params)(inputs)\n",
    "\n",
    "model = keras.Sequential()\n",
    "model.add(keras.layers.InputLayer(input_shape = image_shape))\n",
    "#model.add(CustomisedRandomColorAffineLayer())\n",
    "model.add(CustomisedTrainImageAugmenter(**contrastive_imgaug_params))\n",
    "#model = keras.model\n",
    "\n",
    "\n",
    "\n",
    "#model.compile()"
   ]
  },
  {
   "cell_type": "code",
   "execution_count": 98,
   "id": "9ac8e39b-7ee2-44ef-95ba-ba8a033cd740",
   "metadata": {},
   "outputs": [
    {
     "name": "stdout",
     "output_type": "stream",
     "text": [
      "Model: \"sequential_21\"\n",
      "_________________________________________________________________\n",
      "Layer (type)                 Output Shape              Param #   \n",
      "=================================================================\n",
      "customised_train_image_augme (None, 128, 128, 3)       0         \n",
      "=================================================================\n",
      "Total params: 0\n",
      "Trainable params: 0\n",
      "Non-trainable params: 0\n",
      "_________________________________________________________________\n"
     ]
    }
   ],
   "source": [
    "model.summary()"
   ]
  },
  {
   "cell_type": "code",
   "execution_count": 99,
   "id": "1dfca567-41ac-4294-8e27-b967baa6c3a3",
   "metadata": {},
   "outputs": [
    {
     "name": "stdout",
     "output_type": "stream",
     "text": [
      "WARNING:tensorflow:Compiled the loaded model, but the compiled metrics have yet to be built. `model.compile_metrics` will be empty until you train or evaluate the model.\n",
      "{'name': 'customised_train_image_augmenter_22', 'trainable': True, 'dtype': 'float32', 'image_shape': (128, 128, 3), 'min_area': 0.25, 'brightness': 0.6, 'jitter': 0.2, 'zoom_factor': 0.5, 'model': <tensorflow.python.keras.engine.sequential.Sequential object at 0x7fad60c72760>}\n",
      "{'name': 'customised_train_image_augmenter_22', 'trainable': True, 'dtype': 'float32', 'image_shape': (128, 128, 3), 'min_area': 0.25, 'brightness': 0.6, 'jitter': 0.2, 'zoom_factor': 0.5, 'model': <tensorflow.python.keras.engine.sequential.Sequential object at 0x7fad60c72760>}\n",
      "{'name': 'customised_train_image_augmenter_22', 'trainable': True, 'dtype': 'float32', 'image_shape': (128, 128, 3), 'min_area': 0.25, 'brightness': 0.6, 'jitter': 0.2, 'zoom_factor': 0.5, 'model': <tensorflow.python.keras.engine.sequential.Sequential object at 0x7fad60c72760>}\n",
      "{'name': 'customised_train_image_augmenter_22', 'trainable': True, 'dtype': 'float32', 'image_shape': (128, 128, 3), 'min_area': 0.25, 'brightness': 0.6, 'jitter': 0.2, 'zoom_factor': 0.5, 'model': <tensorflow.python.keras.engine.sequential.Sequential object at 0x7fad60c72760>}\n",
      "{'name': 'customised_train_image_augmenter_22', 'trainable': True, 'dtype': 'float32', 'image_shape': (128, 128, 3), 'min_area': 0.25, 'brightness': 0.6, 'jitter': 0.2, 'zoom_factor': 0.5, 'model': <tensorflow.python.keras.engine.sequential.Sequential object at 0x7fad60c72760>}\n",
      "{'name': 'customised_train_image_augmenter_22', 'trainable': True, 'dtype': 'float32', 'image_shape': (128, 128, 3), 'min_area': 0.25, 'brightness': 0.6, 'jitter': 0.2, 'zoom_factor': 0.5, 'model': <tensorflow.python.keras.engine.sequential.Sequential object at 0x7fad60c72760>}\n",
      "INFO:tensorflow:Assets written to: models/test.saved_model/assets\n",
      "{'name': 'customised_train_image_augmenter_22', 'trainable': True, 'dtype': 'float32', 'image_shape': (128, 128, 3), 'min_area': 0.25, 'brightness': 0.6, 'jitter': 0.2, 'zoom_factor': 0.5, 'model': <tensorflow.python.keras.engine.sequential.Sequential object at 0x7fad60c72760>}\n",
      "{'name': 'customised_train_image_augmenter_22', 'trainable': True, 'dtype': 'float32', 'image_shape': (128, 128, 3), 'min_area': 0.25, 'brightness': 0.6, 'jitter': 0.2, 'zoom_factor': 0.5, 'model': <tensorflow.python.keras.engine.sequential.Sequential object at 0x7fad60c72760>}\n",
      "{'name': 'customised_train_image_augmenter_22', 'trainable': True, 'dtype': 'float32', 'image_shape': (128, 128, 3), 'min_area': 0.25, 'brightness': 0.6, 'jitter': 0.2, 'zoom_factor': 0.5, 'model': <tensorflow.python.keras.engine.sequential.Sequential object at 0x7fad60c72760>}\n"
     ]
    }
   ],
   "source": [
    "model.save(\"models/test.saved_model\")"
   ]
  },
  {
   "cell_type": "code",
   "execution_count": 42,
   "id": "af7e3486-e980-404f-aed2-cfbd20e85e2a",
   "metadata": {},
   "outputs": [
    {
     "name": "stdout",
     "output_type": "stream",
     "text": [
      "WARNING:tensorflow:No training configuration found in save file, so the model was *not* compiled. Compile it manually.\n"
     ]
    }
   ],
   "source": [
    "model = keras.models.load_model(\"models/test.saved_model\")"
   ]
  },
  {
   "cell_type": "code",
   "execution_count": 38,
   "id": "264626bb-c213-49fb-ab8b-1aaf3e029886",
   "metadata": {},
   "outputs": [],
   "source": [
    "serialized_layer = keras.layers.serialize(layer)"
   ]
  },
  {
   "cell_type": "code",
   "execution_count": 39,
   "id": "e306012d-5a81-46bc-be10-b290ae55be17",
   "metadata": {},
   "outputs": [
    {
     "data": {
      "text/plain": [
       "{'class_name': 'CustomisedTrainImageAugmenter',\n",
       " 'config': {'name': 'customised_train_image_augmenter_4',\n",
       "  'trainable': True,\n",
       "  'dtype': 'float32',\n",
       "  'image_shape': (128, 128, 3),\n",
       "  'min_area': 0.25,\n",
       "  'brightness': 0.6,\n",
       "  'jitter': 0.2,\n",
       "  'zoom_factor': 0.5,\n",
       "  'model': {'class_name': 'Sequential',\n",
       "   'config': {'name': 'train_image_augmenter',\n",
       "    'layers': [{'class_name': 'InputLayer',\n",
       "      'config': {'batch_input_shape': (None, 128, 128, 3),\n",
       "       'dtype': 'float32',\n",
       "       'sparse': False,\n",
       "       'ragged': False,\n",
       "       'name': 'input_6'}},\n",
       "     {'class_name': 'RandomFlip',\n",
       "      'config': {'name': 'random_flip_5',\n",
       "       'trainable': True,\n",
       "       'dtype': 'float32',\n",
       "       'mode': 'horizontal',\n",
       "       'seed': None}},\n",
       "     {'class_name': 'RandomTranslation',\n",
       "      'config': {'name': 'random_translation_4',\n",
       "       'trainable': True,\n",
       "       'dtype': 'float32',\n",
       "       'height_factor': <tf.Tensor: shape=(), dtype=float32, numpy=0.25>,\n",
       "       'width_factor': <tf.Tensor: shape=(), dtype=float32, numpy=0.25>,\n",
       "       'fill_mode': 'reflect',\n",
       "       'fill_value': 0.0,\n",
       "       'interpolation': 'bilinear',\n",
       "       'seed': None}},\n",
       "     {'class_name': 'RandomZoom',\n",
       "      'config': {'name': 'random_zoom_4',\n",
       "       'trainable': True,\n",
       "       'dtype': 'float32',\n",
       "       'height_factor': (<tf.Tensor: shape=(), dtype=float32, numpy=-0.5>,\n",
       "        0.0),\n",
       "       'width_factor': (<tf.Tensor: shape=(), dtype=float32, numpy=-0.5>, 0.0),\n",
       "       'fill_mode': 'reflect',\n",
       "       'fill_value': 0.0,\n",
       "       'interpolation': 'bilinear',\n",
       "       'seed': None}},\n",
       "     {'class_name': 'CustomisedRandomColorAffineLayer',\n",
       "      'config': {'name': 'color_affine_for_train',\n",
       "       'trainable': True,\n",
       "       'dtype': 'float32',\n",
       "       'brightness': 0.6,\n",
       "       'jitter': 0.2}}]},\n",
       "   '__passive_serialization__': True}}}"
      ]
     },
     "execution_count": 39,
     "metadata": {},
     "output_type": "execute_result"
    }
   ],
   "source": [
    "serialized_layer"
   ]
  },
  {
   "cell_type": "code",
   "execution_count": 40,
   "id": "7a8e6fc8-f1a3-4537-b34c-fb27562ccd95",
   "metadata": {},
   "outputs": [
    {
     "ename": "ValueError",
     "evalue": "Unknown layer: CustomisedTrainImageAugmenter. Please ensure this object is passed to the `custom_objects` argument. See https://www.tensorflow.org/guide/keras/save_and_serialize#registering_the_custom_object for details.",
     "output_type": "error",
     "traceback": [
      "\u001b[0;31m---------------------------------------------------------------------------\u001b[0m",
      "\u001b[0;31mValueError\u001b[0m                                Traceback (most recent call last)",
      "\u001b[0;32m<ipython-input-40-49927f96458c>\u001b[0m in \u001b[0;36m<module>\u001b[0;34m\u001b[0m\n\u001b[1;32m      2\u001b[0m \u001b[0;31m#    serialized_layer, custom_objects={\"CustomisedTrainImageAugmenter\": CustomisedTrainImageAugmenter}\u001b[0m\u001b[0;34m\u001b[0m\u001b[0;34m\u001b[0m\u001b[0;34m\u001b[0m\u001b[0m\n\u001b[1;32m      3\u001b[0m \u001b[0;31m#)\u001b[0m\u001b[0;34m\u001b[0m\u001b[0;34m\u001b[0m\u001b[0;34m\u001b[0m\u001b[0m\n\u001b[0;32m----> 4\u001b[0;31m \u001b[0mnew_layer\u001b[0m \u001b[0;34m=\u001b[0m \u001b[0mkeras\u001b[0m\u001b[0;34m.\u001b[0m\u001b[0mlayers\u001b[0m\u001b[0;34m.\u001b[0m\u001b[0mdeserialize\u001b[0m\u001b[0;34m(\u001b[0m\u001b[0mserialized_layer\u001b[0m\u001b[0;34m)\u001b[0m\u001b[0;34m\u001b[0m\u001b[0;34m\u001b[0m\u001b[0m\n\u001b[0m",
      "\u001b[0;32m/usr/local/anaconda3/lib/python3.8/site-packages/tensorflow/python/keras/layers/serialization.py\u001b[0m in \u001b[0;36mdeserialize\u001b[0;34m(config, custom_objects)\u001b[0m\n\u001b[1;32m    157\u001b[0m   \"\"\"\n\u001b[1;32m    158\u001b[0m   \u001b[0mpopulate_deserializable_objects\u001b[0m\u001b[0;34m(\u001b[0m\u001b[0;34m)\u001b[0m\u001b[0;34m\u001b[0m\u001b[0;34m\u001b[0m\u001b[0m\n\u001b[0;32m--> 159\u001b[0;31m   return generic_utils.deserialize_keras_object(\n\u001b[0m\u001b[1;32m    160\u001b[0m       \u001b[0mconfig\u001b[0m\u001b[0;34m,\u001b[0m\u001b[0;34m\u001b[0m\u001b[0;34m\u001b[0m\u001b[0m\n\u001b[1;32m    161\u001b[0m       \u001b[0mmodule_objects\u001b[0m\u001b[0;34m=\u001b[0m\u001b[0mLOCAL\u001b[0m\u001b[0;34m.\u001b[0m\u001b[0mALL_OBJECTS\u001b[0m\u001b[0;34m,\u001b[0m\u001b[0;34m\u001b[0m\u001b[0;34m\u001b[0m\u001b[0m\n",
      "\u001b[0;32m/usr/local/anaconda3/lib/python3.8/site-packages/tensorflow/python/keras/utils/generic_utils.py\u001b[0m in \u001b[0;36mdeserialize_keras_object\u001b[0;34m(identifier, module_objects, custom_objects, printable_module_name)\u001b[0m\n\u001b[1;32m    651\u001b[0m     \u001b[0;31m# In this case we are dealing with a Keras config dictionary.\u001b[0m\u001b[0;34m\u001b[0m\u001b[0;34m\u001b[0m\u001b[0;34m\u001b[0m\u001b[0m\n\u001b[1;32m    652\u001b[0m     \u001b[0mconfig\u001b[0m \u001b[0;34m=\u001b[0m \u001b[0midentifier\u001b[0m\u001b[0;34m\u001b[0m\u001b[0;34m\u001b[0m\u001b[0m\n\u001b[0;32m--> 653\u001b[0;31m     (cls, cls_config) = class_and_config_for_serialized_keras_object(\n\u001b[0m\u001b[1;32m    654\u001b[0m         config, module_objects, custom_objects, printable_module_name)\n\u001b[1;32m    655\u001b[0m \u001b[0;34m\u001b[0m\u001b[0m\n",
      "\u001b[0;32m/usr/local/anaconda3/lib/python3.8/site-packages/tensorflow/python/keras/utils/generic_utils.py\u001b[0m in \u001b[0;36mclass_and_config_for_serialized_keras_object\u001b[0;34m(config, module_objects, custom_objects, printable_module_name)\u001b[0m\n\u001b[1;32m    554\u001b[0m   \u001b[0mcls\u001b[0m \u001b[0;34m=\u001b[0m \u001b[0mget_registered_object\u001b[0m\u001b[0;34m(\u001b[0m\u001b[0mclass_name\u001b[0m\u001b[0;34m,\u001b[0m \u001b[0mcustom_objects\u001b[0m\u001b[0;34m,\u001b[0m \u001b[0mmodule_objects\u001b[0m\u001b[0;34m)\u001b[0m\u001b[0;34m\u001b[0m\u001b[0;34m\u001b[0m\u001b[0m\n\u001b[1;32m    555\u001b[0m   \u001b[0;32mif\u001b[0m \u001b[0mcls\u001b[0m \u001b[0;32mis\u001b[0m \u001b[0;32mNone\u001b[0m\u001b[0;34m:\u001b[0m\u001b[0;34m\u001b[0m\u001b[0;34m\u001b[0m\u001b[0m\n\u001b[0;32m--> 556\u001b[0;31m     raise ValueError(\n\u001b[0m\u001b[1;32m    557\u001b[0m         \u001b[0;34m'Unknown {}: {}. Please ensure this object is '\u001b[0m\u001b[0;34m\u001b[0m\u001b[0;34m\u001b[0m\u001b[0m\n\u001b[1;32m    558\u001b[0m         \u001b[0;34m'passed to the `custom_objects` argument. See '\u001b[0m\u001b[0;34m\u001b[0m\u001b[0;34m\u001b[0m\u001b[0m\n",
      "\u001b[0;31mValueError\u001b[0m: Unknown layer: CustomisedTrainImageAugmenter. Please ensure this object is passed to the `custom_objects` argument. See https://www.tensorflow.org/guide/keras/save_and_serialize#registering_the_custom_object for details."
     ]
    }
   ],
   "source": [
    "#new_layer = keras.layers.deserialize(\n",
    "#    serialized_layer, custom_objects={\"CustomisedTrainImageAugmenter\": CustomisedTrainImageAugmenter}\n",
    "#)\n",
    "new_layer = keras.layers.deserialize(serialized_layer)"
   ]
  },
  {
   "cell_type": "code",
   "execution_count": null,
   "id": "e56ff836-cbae-48aa-92a2-5fe73c3aff6b",
   "metadata": {},
   "outputs": [],
   "source": []
  }
 ],
 "metadata": {
  "kernelspec": {
   "display_name": "Python 3",
   "language": "python",
   "name": "python3"
  },
  "language_info": {
   "codemirror_mode": {
    "name": "ipython",
    "version": 3
   },
   "file_extension": ".py",
   "mimetype": "text/x-python",
   "name": "python",
   "nbconvert_exporter": "python",
   "pygments_lexer": "ipython3",
   "version": "3.8.8"
  }
 },
 "nbformat": 4,
 "nbformat_minor": 5
}
