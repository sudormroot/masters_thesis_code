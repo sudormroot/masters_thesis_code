{
 "cells": [
  {
   "cell_type": "markdown",
   "id": "0ab8f55e-3dbd-4011-83d4-e5b1cab7a311",
   "metadata": {},
   "source": [
    "# Supervised learning based model"
   ]
  },
  {
   "cell_type": "markdown",
   "id": "d090381c-7cf9-4dae-bff4-e37e483d5c94",
   "metadata": {},
   "source": [
    "# Setting environment"
   ]
  },
  {
   "cell_type": "markdown",
   "id": "75aebd00-aee6-47ef-bcd3-d888e4291424",
   "metadata": {},
   "source": [
    "## Configuration"
   ]
  },
  {
   "cell_type": "code",
   "execution_count": 83,
   "id": "7f7b0967-9310-46f8-b5a4-903af8e48c5b",
   "metadata": {},
   "outputs": [],
   "source": [
    "DATASET_IMAGE_SIZE = (512, 512) # the image size in dataset loaded\n",
    "EMBEDDING_INPUT_SHAPE = (128, 128, 3)\n",
    "BATCH_SIZE = 32"
   ]
  },
  {
   "cell_type": "markdown",
   "id": "cade4925-03d8-498a-a9b8-e459ecb9a59d",
   "metadata": {},
   "source": [
    "## Setting library path"
   ]
  },
  {
   "cell_type": "code",
   "execution_count": 84,
   "id": "afe1f99e-310d-4b9f-ac2c-c80bd50f263e",
   "metadata": {},
   "outputs": [],
   "source": [
    "import numpy as np\n",
    "import pandas as pd\n",
    "import os\n",
    "import sys \n",
    "\n",
    "libpath = \"lib\"\n",
    "sys.path.append(libpath)"
   ]
  },
  {
   "cell_type": "markdown",
   "id": "71184aec-927e-41ff-af4b-f9635f02f8b2",
   "metadata": {},
   "source": [
    "# Importing packages"
   ]
  },
  {
   "cell_type": "code",
   "execution_count": 85,
   "id": "e5a7fadd-3449-4804-b9b4-a29c0272572d",
   "metadata": {},
   "outputs": [],
   "source": [
    "if \"texture_dataset\" in sys.modules:\n",
    "    del sys.modules[\"texture_dataset\"]\n",
    "\n",
    "from texture_dataset import load_texture_dataset, load_texture_dataset_as_dataframe\n",
    "\n",
    "if \"dataset_viz\" in sys.modules:\n",
    "    del sys.modules[\"dataset_viz\"]\n",
    "\n",
    "from dataset_viz import plot_dataset_samples\n",
    "\n",
    "if \"split_dataset\" in sys.modules:\n",
    "    del sys.modules[\"split_dataset\"]\n",
    "\n",
    "from split_dataset import split_dataset_by_pixel, split_dataset_by_pixel_as_dataframe\n",
    "\n",
    "if \"imgaug_model\" in sys.modules:\n",
    "    del sys.modules[\"imgaug_model\"]\n",
    "\n",
    "from imgaug_model import build_augmentation_model\n",
    "\n",
    "if \"imgaug_viz\" in sys.modules:\n",
    "    del sys.modules[\"imgaug_viz\"]\n",
    "\n",
    "from imgaug_viz import plot_augmented_samples, plot_augmented_samples_for_one_image\n",
    "\n",
    "if \"supervised_model\" in sys.modules:\n",
    "    del sys.modules[\"supervised_model\"]\n",
    "\n",
    "from supervised_model import build_supervised_model, SupervisedModelDataGeneratorFromXy"
   ]
  },
  {
   "cell_type": "markdown",
   "id": "38ac19e9-e596-4a15-889a-a694369907d9",
   "metadata": {},
   "source": [
    "# Loading MBT dataset"
   ]
  },
  {
   "cell_type": "code",
   "execution_count": 129,
   "id": "fac531ed-ce43-493a-82b9-1ae056cea1ec",
   "metadata": {},
   "outputs": [
    {
     "name": "stdout",
     "output_type": "stream",
     "text": [
      "Found 39424 files belonging to 154 classes.\n"
     ]
    }
   ],
   "source": [
    "from tensorflow.keras import keras\n",
    "\n",
    "dataset = keras.preprocessing.image_dataset_from_directory(\n",
    "                \"datasets_new/Multiband_Brodatz_Texture\", \n",
    "                image_size = (128, 128), \n",
    "                #subset=\"training\",\n",
    "                #validation_split=0.2,\n",
    "                batch_size = BATCH_SIZE,\n",
    "                seed = 1234,\n",
    "                shuffle=True\n",
    "                )"
   ]
  },
  {
   "cell_type": "markdown",
   "id": "ce9e3375-025e-4092-a9a9-cccf6b4cf967",
   "metadata": {},
   "source": [
    "# Splitting dataset"
   ]
  },
  {
   "cell_type": "code",
   "execution_count": 133,
   "id": "d94647b1-3df3-4a11-a89e-9410164212c1",
   "metadata": {},
   "outputs": [
    {
     "name": "stdout",
     "output_type": "stream",
     "text": [
      "n_classes =  154\n",
      "n_samples =  39424\n",
      "n_batches =  1232\n"
     ]
    }
   ],
   "source": [
    "n_classes = len(dataset.class_names)\n",
    "#n_samples = len(dataset.file_paths)\n",
    "n_samples = len(dataset) * BATCH_SIZE\n",
    "n_batches = len(dataset)\n",
    "\n",
    "print(\"n_classes = \", n_classes)\n",
    "print(\"n_samples = \", n_samples)\n",
    "print(\"n_batches = \", n_batches)"
   ]
  },
  {
   "cell_type": "code",
   "execution_count": 134,
   "id": "eb18c149-d5a0-4cc1-945a-ef8da645320b",
   "metadata": {},
   "outputs": [
    {
     "data": {
      "text/plain": [
       "<tf.Tensor: shape=(), dtype=int64, numpy=1232>"
      ]
     },
     "execution_count": 134,
     "metadata": {},
     "output_type": "execute_result"
    }
   ],
   "source": [
    "dataset.cardinality()"
   ]
  },
  {
   "cell_type": "code",
   "execution_count": 119,
   "id": "597df1c0-be5f-4f96-9cc4-cbded98f9683",
   "metadata": {},
   "outputs": [],
   "source": [
    "dataset = dataset.shuffle(buffer_size = n_batches)"
   ]
  },
  {
   "cell_type": "code",
   "execution_count": 153,
   "id": "e226b5fc-7b4f-477b-bbdd-d4e48eeaa0d1",
   "metadata": {},
   "outputs": [
    {
     "name": "stdout",
     "output_type": "stream",
     "text": [
      "n_training_batches =  985\n",
      "n_testing_batches =  247\n"
     ]
    }
   ],
   "source": [
    "#\n",
    "#    80% (training) + 20% (test)\n",
    "#\n",
    "# we keep 80% of the dataset as training\n",
    "n_training_batches = np.int(0.8 * n_batches)\n",
    "dataset_training = dataset.take(n_training_batches)\n",
    "\n",
    "# we keep 10% of the dataset as testing\n",
    "n_testing_batches = n_batches - n_training_batches\n",
    "dataset_testing = dataset.skip(n_training_batches).take(n_testing_batches)\n",
    "\n",
    "print(\"n_training_batches = \", n_training_batches)\n",
    "print(\"n_testing_batches = \", n_testing_batches)"
   ]
  },
  {
   "cell_type": "code",
   "execution_count": 154,
   "id": "c587ec8e-286b-4724-b4bd-a31956436996",
   "metadata": {},
   "outputs": [],
   "source": [
    "from tensorflow.keras.applications.vgg16 import preprocess_input\n",
    "\n",
    "dataset_training = dataset_training.map(\n",
    "              lambda x, y: (preprocess_input(x), y)\n",
    "            )\n",
    "\n",
    "dataset_testing = dataset_training.map(\n",
    "              lambda x, y: (preprocess_input(x), y)\n",
    "            )\n"
   ]
  },
  {
   "cell_type": "code",
   "execution_count": 155,
   "id": "e6881c1a-57b8-4756-b327-7078c62e5ad1",
   "metadata": {},
   "outputs": [
    {
     "name": "stdout",
     "output_type": "stream",
     "text": [
      "(32, 128, 128, 3)\n",
      "(32,)\n"
     ]
    }
   ],
   "source": [
    "for data, labels in dataset_training.take(1):\n",
    "    print(data.shape)\n",
    "    print(labels.shape)"
   ]
  },
  {
   "cell_type": "code",
   "execution_count": 77,
   "id": "fcb8bb2c-5b30-4072-b9f4-ad908c80f41d",
   "metadata": {},
   "outputs": [],
   "source": [
    "import matplotlib.pyplot as plt\n",
    " \n",
    "#class_names = dataset_training.class_names\n",
    "#plt.figure(figsize=(10, 10))\n",
    "#for images, labels in dataset_training.take(1):\n",
    "#    for i in range(9):\n",
    "#        ax = plt.subplot(3, 3, i + 1)\n",
    "#        plt.imshow(images[i].numpy().astype(\"uint8\"))\n",
    "#        plt.title(class_names[labels[i]])\n",
    "#        plt.axis(\"off\")"
   ]
  },
  {
   "cell_type": "markdown",
   "id": "0cef2fbe-1cf1-47c7-bb64-a34a1f851648",
   "metadata": {},
   "source": [
    "# Training"
   ]
  },
  {
   "cell_type": "markdown",
   "id": "6781f20e-0aee-426b-b9aa-73a45239f5d0",
   "metadata": {},
   "source": [
    "## Possible chopping layers at base encoder model"
   ]
  },
  {
   "cell_type": "markdown",
   "id": "0b4d530e-739c-4e3b-8f47-28275123b2fb",
   "metadata": {},
   "source": [
    "- conv2_block1_out\n",
    "- conv2_block2_out\n",
    "- conv2_block3_out\n",
    "\n",
    "- conv3_block1_out\n",
    "- conv3_block2_out\n",
    "- conv3_block3_out\n",
    "- conv3_block4_out\n",
    "\n",
    "- conv4_block1_out\n",
    "- conv4_block2_out\n",
    "- conv4_block3_out\n",
    "- conv4_block4_out\n",
    "- conv4_block5_out\n",
    "- conv4_block6_out\n",
    "\n",
    "- conv5_block1_out\n",
    "- conv5_block2_out\n",
    "- conv5_block3_out"
   ]
  },
  {
   "cell_type": "markdown",
   "id": "fca6cf0c-b938-426f-869b-5ecec052c7fb",
   "metadata": {},
   "source": [
    "## Results"
   ]
  },
  {
   "cell_type": "markdown",
   "id": "f5de939e-ab5b-43f6-8f15-2d5812979d96",
   "metadata": {},
   "source": [
    "ResNet50 (w/ fine-tune):\n",
    "- conv2_block3_out training 86% testing 22%\n",
    "- conv3_block4_out 86% 12%\n",
    "- conv4_block6_out xx%\n",
    "- conv5_block3_out training 70% testing 13%\n",
    "\n",
    "MobileNet (w/ fine-tune):\n",
    "- 51% testing accuracy (100 epochs)\n",
    "- 79% training accuracy (100 epochs)\n",
    "\n",
    "VGG16 (w/o fine-tune)\n",
    "- 69% training\n",
    "- 75% testing\n",
    "\n",
    "Conclusions:\n",
    "- Classifying textures is very hard since:\n",
    "    - The number of classes is huge in MBT (154 classes) and the dataset size limit\n",
    "    - The images are more 'random' than object images.\n",
    "- Without fine-tuning, ResNet50 and MobileNet are less than 5% regarding the accuracy on testing dataset, their accuracy on training dataset can vary from 30% to 40%. (100 epoches)\n",
    "- With fine-tuning, ResNet50 and Mobile, their accuracy on testing dataset can vary from 10% to 40%.\n",
    "    - Network with skipping can easily have overfitting.\n",
    "- Without fine-tuning, VGG16 can achieve 75% on testing dataset and 69% on training.\n",
    "- James' Triplet model can not work good on textures, the measured accuracy is less than 10% with 1-NN predictor on testing dataset."
   ]
  },
  {
   "cell_type": "markdown",
   "id": "d4c72032-b610-4324-9332-ec6fcf1cb691",
   "metadata": {},
   "source": [
    "## Chopping at last layer"
   ]
  },
  {
   "cell_type": "code",
   "execution_count": 156,
   "id": "88f17983-671e-40c5-8e7a-eb6f55e480a0",
   "metadata": {},
   "outputs": [
    {
     "name": "stdout",
     "output_type": "stream",
     "text": [
      "embedding_input_shape =  (128, 128, 3)\n",
      "newhead_input_shape =  (512,)\n",
      "DENSE_DIMS =  (308, 231)\n"
     ]
    }
   ],
   "source": [
    "#n_classes = len(set(dataset_training.class_names))\n",
    "\n",
    "model_1 = build_supervised_model(\n",
    "                               embedding_input_shape = EMBEDDING_INPUT_SHAPE, \n",
    "                               n_classes = n_classes, \n",
    "                               #chopping_layer = \"conv2_block3_out\",\n",
    "                               #learning_rate = 0.001,\n",
    "                               finetune = False,\n",
    "                                )"
   ]
  },
  {
   "cell_type": "code",
   "execution_count": 157,
   "id": "57f6398f-0818-436f-a68a-4e99e1ef5d8f",
   "metadata": {},
   "outputs": [
    {
     "name": "stdout",
     "output_type": "stream",
     "text": [
      "Epoch 1/50\n",
      "10/10 [==============================] - 15s 1s/step - loss: 4.7583 - accuracy: 0.0844\n",
      "Epoch 2/50\n",
      "10/10 [==============================] - 16s 2s/step - loss: 3.5751 - accuracy: 0.2375\n",
      "Epoch 3/50\n",
      "10/10 [==============================] - 15s 1s/step - loss: 3.0982 - accuracy: 0.2562\n",
      "Epoch 4/50\n",
      "10/10 [==============================] - 13s 1s/step - loss: 2.7215 - accuracy: 0.3156\n",
      "Epoch 5/50\n",
      "10/10 [==============================] - 16s 2s/step - loss: 2.4315 - accuracy: 0.3562\n",
      "Epoch 6/50\n",
      "10/10 [==============================] - 17s 2s/step - loss: 2.1572 - accuracy: 0.4000\n",
      "Epoch 7/50\n",
      "10/10 [==============================] - 16s 2s/step - loss: 1.9768 - accuracy: 0.4344\n",
      "Epoch 8/50\n",
      "10/10 [==============================] - 16s 2s/step - loss: 1.8157 - accuracy: 0.4906\n",
      "Epoch 9/50\n",
      "10/10 [==============================] - 17s 2s/step - loss: 1.9429 - accuracy: 0.4563\n",
      "Epoch 10/50\n",
      "10/10 [==============================] - 16s 2s/step - loss: 1.7442 - accuracy: 0.5000\n",
      "Epoch 11/50\n",
      "10/10 [==============================] - 17s 2s/step - loss: 1.8069 - accuracy: 0.5156\n",
      "Epoch 12/50\n",
      "10/10 [==============================] - 16s 2s/step - loss: 1.7102 - accuracy: 0.5031\n",
      "Epoch 13/50\n",
      "10/10 [==============================] - 17s 2s/step - loss: 1.5023 - accuracy: 0.5781\n",
      "Epoch 14/50\n",
      "10/10 [==============================] - 17s 2s/step - loss: 1.4970 - accuracy: 0.5719\n",
      "Epoch 15/50\n",
      "10/10 [==============================] - 17s 2s/step - loss: 1.3678 - accuracy: 0.5875\n",
      "Epoch 16/50\n",
      "10/10 [==============================] - 17s 2s/step - loss: 1.4377 - accuracy: 0.5656\n",
      "Epoch 17/50\n",
      "10/10 [==============================] - 17s 2s/step - loss: 1.5499 - accuracy: 0.5437\n",
      "Epoch 18/50\n",
      "10/10 [==============================] - 18s 2s/step - loss: 1.3000 - accuracy: 0.6000\n",
      "Epoch 19/50\n",
      "10/10 [==============================] - 17s 2s/step - loss: 1.3769 - accuracy: 0.5969\n",
      "Epoch 20/50\n",
      "10/10 [==============================] - 17s 2s/step - loss: 1.4145 - accuracy: 0.5969\n",
      "Epoch 21/50\n",
      "10/10 [==============================] - 18s 2s/step - loss: 1.2666 - accuracy: 0.5969\n",
      "Epoch 22/50\n",
      "10/10 [==============================] - 18s 2s/step - loss: 1.0967 - accuracy: 0.6562\n",
      "Epoch 23/50\n",
      "10/10 [==============================] - 17s 2s/step - loss: 1.2125 - accuracy: 0.6719\n",
      "Epoch 24/50\n",
      "10/10 [==============================] - 17s 2s/step - loss: 1.2857 - accuracy: 0.6000\n",
      "Epoch 25/50\n",
      "10/10 [==============================] - 18s 2s/step - loss: 1.0562 - accuracy: 0.6938\n",
      "Epoch 26/50\n",
      "10/10 [==============================] - 18s 2s/step - loss: 1.1716 - accuracy: 0.6281\n",
      "Epoch 27/50\n",
      "10/10 [==============================] - 21s 2s/step - loss: 1.1054 - accuracy: 0.6594\n",
      "Epoch 28/50\n",
      "10/10 [==============================] - 18s 2s/step - loss: 1.3447 - accuracy: 0.5813\n",
      "Epoch 29/50\n",
      "10/10 [==============================] - 18s 2s/step - loss: 1.0375 - accuracy: 0.6719\n",
      "Epoch 30/50\n",
      "10/10 [==============================] - 17s 2s/step - loss: 1.1273 - accuracy: 0.6500\n",
      "Epoch 31/50\n",
      "10/10 [==============================] - 18s 2s/step - loss: 1.1113 - accuracy: 0.6469\n",
      "Epoch 32/50\n",
      "10/10 [==============================] - 16s 2s/step - loss: 1.1193 - accuracy: 0.6438\n",
      "Epoch 33/50\n",
      "10/10 [==============================] - 17s 2s/step - loss: 1.0033 - accuracy: 0.6719\n",
      "Epoch 34/50\n",
      "10/10 [==============================] - 18s 2s/step - loss: 0.8768 - accuracy: 0.7031\n",
      "Epoch 35/50\n",
      "10/10 [==============================] - 19s 2s/step - loss: 0.9808 - accuracy: 0.7125\n",
      "Epoch 36/50\n",
      "10/10 [==============================] - 19s 2s/step - loss: 0.9374 - accuracy: 0.6969\n",
      "Epoch 37/50\n",
      "10/10 [==============================] - 20s 2s/step - loss: 0.9181 - accuracy: 0.7031\n",
      "Epoch 38/50\n",
      "10/10 [==============================] - 17s 2s/step - loss: 1.0483 - accuracy: 0.6531\n",
      "Epoch 39/50\n",
      "10/10 [==============================] - 17s 2s/step - loss: 0.9207 - accuracy: 0.7063\n",
      "Epoch 40/50\n",
      "10/10 [==============================] - 17s 2s/step - loss: 0.8886 - accuracy: 0.7125\n",
      "Epoch 41/50\n",
      "10/10 [==============================] - 16s 2s/step - loss: 1.0257 - accuracy: 0.7188\n",
      "Epoch 42/50\n",
      "10/10 [==============================] - 20s 2s/step - loss: 0.9640 - accuracy: 0.6781\n",
      "Epoch 43/50\n",
      "10/10 [==============================] - 21s 2s/step - loss: 0.9516 - accuracy: 0.7094\n",
      "Epoch 44/50\n",
      "10/10 [==============================] - 18s 2s/step - loss: 1.0466 - accuracy: 0.6844\n",
      "Epoch 45/50\n",
      "10/10 [==============================] - 20s 2s/step - loss: 0.9950 - accuracy: 0.7125\n",
      "Epoch 46/50\n",
      "10/10 [==============================] - 18s 2s/step - loss: 0.8130 - accuracy: 0.7344\n",
      "Epoch 47/50\n",
      "10/10 [==============================] - 20s 2s/step - loss: 0.7140 - accuracy: 0.7625\n",
      "Epoch 48/50\n",
      "10/10 [==============================] - 19s 2s/step - loss: 0.7796 - accuracy: 0.7563\n",
      "Epoch 49/50\n",
      "10/10 [==============================] - 19s 2s/step - loss: 0.9074 - accuracy: 0.7156\n",
      "Epoch 50/50\n",
      "10/10 [==============================] - 18s 2s/step - loss: 0.8578 - accuracy: 0.7219\n"
     ]
    }
   ],
   "source": [
    "history_1 = model_1.fit(\n",
    "                    dataset_training, \n",
    "                    epochs = 50, \n",
    "                    steps_per_epoch=10,\n",
    "                    verbose = 1,\n",
    "                    #validation_steps = 10 * 5,\n",
    "                    #validation_data = dataset_val,\n",
    "                 ) "
   ]
  },
  {
   "cell_type": "code",
   "execution_count": 158,
   "id": "76dda5f9-d915-4b12-b98c-0d43ae1bf0cc",
   "metadata": {},
   "outputs": [
    {
     "data": {
      "image/png": "[encoded data removed]",
      "text/plain": [
       "<Figure size 432x288 with 1 Axes>"
      ]
     },
     "metadata": {
      "needs_background": "light"
     },
     "output_type": "display_data"
    }
   ],
   "source": [
    "import matplotlib.pyplot as plt\n",
    "\n",
    "loss_hist_1 = history_1.history[\"loss\"]\n",
    "\n",
    "plt.plot(loss_hist_1, c = 'red')\n",
    "plt.show()"
   ]
  },
  {
   "cell_type": "code",
   "execution_count": 159,
   "id": "ccdb778a-5560-4f6f-9c8a-30e10f4b1609",
   "metadata": {},
   "outputs": [
    {
     "data": {
      "image/png": "[encoded data removed]",
      "text/plain": [
       "<Figure size 432x288 with 1 Axes>"
      ]
     },
     "metadata": {
      "needs_background": "light"
     },
     "output_type": "display_data"
    }
   ],
   "source": [
    "acc_hist_1 = history_1.history[\"accuracy\"]\n",
    "plt.plot(acc_hist_1, c = 'blue')\n",
    "plt.show()"
   ]
  },
  {
   "cell_type": "code",
   "execution_count": 160,
   "id": "67b96c09-e261-4310-ba5e-bd576de8e197",
   "metadata": {},
   "outputs": [
    {
     "name": "stdout",
     "output_type": "stream",
     "text": [
      "INFO:tensorflow:Assets written to: models/supervised_model_1.saved_model/assets\n"
     ]
    }
   ],
   "source": [
    "model_1.save(\"models/supervised_model_1.saved_model\")"
   ]
  },
  {
   "cell_type": "code",
   "execution_count": 161,
   "id": "084d8840-cab2-4350-a9e5-af6f6dce89fb",
   "metadata": {},
   "outputs": [
    {
     "name": "stdout",
     "output_type": "stream",
     "text": [
      "124/124 [==============================] - 204s 2s/step - loss: 0.7071 - accuracy: 0.7697\n"
     ]
    }
   ],
   "source": [
    "result_1 = model_1.evaluate(dataset_val)"
   ]
  },
  {
   "cell_type": "markdown",
   "id": "4d93fa10-9839-49a5-a74f-fa8a2066eea0",
   "metadata": {},
   "source": [
    "## Chopping at \"conv2_block3_out\""
   ]
  },
  {
   "cell_type": "code",
   "execution_count": 105,
   "id": "0ed886aa-b017-4561-a089-4bf10090c34f",
   "metadata": {},
   "outputs": [
    {
     "name": "stdout",
     "output_type": "stream",
     "text": [
      "embedding_input_shape =  (128, 128, 3)\n",
      "newhead_input_shape =  (256,)\n",
      "DENSE_DIMS =  (308, 231)\n"
     ]
    }
   ],
   "source": [
    "n_classes = len(y)\n",
    "\n",
    "model_2 = build_supervised_model(\n",
    "                               embedding_input_shape = EMBEDDING_INPUT_SHAPE, \n",
    "                               n_classes = n_classes, \n",
    "                               chopping_layer = \"conv2_block3_out\",\n",
    "                               #learning_rate = 0.001,\n",
    "                               finetune = True,\n",
    "                                )"
   ]
  },
  {
   "cell_type": "code",
   "execution_count": 107,
   "id": "d602247c-3768-4093-bdc4-dc4daa87f243",
   "metadata": {},
   "outputs": [
    {
     "name": "stdout",
     "output_type": "stream",
     "text": [
      "Epoch 1/100\n",
      "10/10 [==============================] - 22s 1s/step - loss: 8.3198 - accuracy: 0.0000e+00\n",
      "Epoch 2/100\n",
      "10/10 [==============================] - 21s 1s/step - loss: 6.0656 - accuracy: 0.0375\n",
      "Epoch 3/100\n",
      "10/10 [==============================] - 23s 2s/step - loss: 5.3288 - accuracy: 0.0375\n",
      "Epoch 4/100\n",
      "10/10 [==============================] - 21s 2s/step - loss: 5.0442 - accuracy: 0.0000e+00\n",
      "Epoch 5/100\n",
      "10/10 [==============================] - 21s 2s/step - loss: 5.0103 - accuracy: 0.0125\n",
      "Epoch 6/100\n",
      "10/10 [==============================] - 21s 2s/step - loss: 4.9974 - accuracy: 0.0500\n",
      "Epoch 7/100\n",
      "10/10 [==============================] - 21s 1s/step - loss: 4.7807 - accuracy: 0.1000\n",
      "Epoch 8/100\n",
      "10/10 [==============================] - 21s 2s/step - loss: 4.8841 - accuracy: 0.0375\n",
      "Epoch 9/100\n",
      "10/10 [==============================] - 21s 1s/step - loss: 4.8308 - accuracy: 0.0500\n",
      "Epoch 10/100\n",
      "10/10 [==============================] - 21s 2s/step - loss: 4.8948 - accuracy: 0.0500\n",
      "Epoch 11/100\n",
      "10/10 [==============================] - 21s 1s/step - loss: 4.8949 - accuracy: 0.0250\n",
      "Epoch 12/100\n",
      "10/10 [==============================] - 21s 2s/step - loss: 4.6691 - accuracy: 0.0500\n",
      "Epoch 13/100\n",
      "10/10 [==============================] - 21s 1s/step - loss: 4.6930 - accuracy: 0.0875\n",
      "Epoch 14/100\n",
      "10/10 [==============================] - 21s 1s/step - loss: 4.4709 - accuracy: 0.0250\n",
      "Epoch 15/100\n",
      "10/10 [==============================] - 21s 1s/step - loss: 4.6109 - accuracy: 0.0500\n",
      "Epoch 16/100\n",
      "10/10 [==============================] - 21s 1s/step - loss: 4.4668 - accuracy: 0.0625\n",
      "Epoch 17/100\n",
      "10/10 [==============================] - 21s 1s/step - loss: 4.5586 - accuracy: 0.0875\n",
      "Epoch 18/100\n",
      "10/10 [==============================] - 21s 1s/step - loss: 4.2725 - accuracy: 0.0875\n",
      "Epoch 19/100\n",
      "10/10 [==============================] - 21s 1s/step - loss: 4.1763 - accuracy: 0.1500\n",
      "Epoch 20/100\n",
      "10/10 [==============================] - 21s 1s/step - loss: 4.1298 - accuracy: 0.1500\n",
      "Epoch 21/100\n",
      "10/10 [==============================] - 21s 1s/step - loss: 3.9672 - accuracy: 0.1500\n",
      "Epoch 22/100\n",
      "10/10 [==============================] - 21s 2s/step - loss: 3.7516 - accuracy: 0.1750\n",
      "Epoch 23/100\n",
      "10/10 [==============================] - 21s 1s/step - loss: 3.6327 - accuracy: 0.2125\n",
      "Epoch 24/100\n",
      "10/10 [==============================] - 21s 1s/step - loss: 3.6693 - accuracy: 0.2250\n",
      "Epoch 25/100\n",
      "10/10 [==============================] - 21s 1s/step - loss: 3.6041 - accuracy: 0.2750\n",
      "Epoch 26/100\n",
      "10/10 [==============================] - 21s 1s/step - loss: 3.7914 - accuracy: 0.1875\n",
      "Epoch 27/100\n",
      "10/10 [==============================] - 21s 1s/step - loss: 3.4212 - accuracy: 0.1875\n",
      "Epoch 28/100\n",
      "10/10 [==============================] - 21s 1s/step - loss: 3.5506 - accuracy: 0.1750\n",
      "Epoch 29/100\n",
      "10/10 [==============================] - 21s 1s/step - loss: 3.4311 - accuracy: 0.2250\n",
      "Epoch 30/100\n",
      "10/10 [==============================] - 21s 1s/step - loss: 3.1007 - accuracy: 0.3250\n",
      "Epoch 31/100\n",
      "10/10 [==============================] - 21s 1s/step - loss: 2.9750 - accuracy: 0.3125\n",
      "Epoch 32/100\n",
      "10/10 [==============================] - 24s 2s/step - loss: 2.9327 - accuracy: 0.2875\n",
      "Epoch 33/100\n",
      "10/10 [==============================] - 22s 2s/step - loss: 2.9165 - accuracy: 0.3375\n",
      "Epoch 34/100\n",
      "10/10 [==============================] - 21s 2s/step - loss: 3.1087 - accuracy: 0.2375\n",
      "Epoch 35/100\n",
      "10/10 [==============================] - 21s 1s/step - loss: 2.8800 - accuracy: 0.3500\n",
      "Epoch 36/100\n",
      "10/10 [==============================] - 21s 1s/step - loss: 2.6429 - accuracy: 0.3500\n",
      "Epoch 37/100\n",
      "10/10 [==============================] - 21s 1s/step - loss: 2.3595 - accuracy: 0.4500\n",
      "Epoch 38/100\n",
      "10/10 [==============================] - 21s 2s/step - loss: 2.5647 - accuracy: 0.4000\n",
      "Epoch 39/100\n",
      "10/10 [==============================] - 21s 1s/step - loss: 2.4793 - accuracy: 0.3250\n",
      "Epoch 40/100\n",
      "10/10 [==============================] - 21s 2s/step - loss: 2.0704 - accuracy: 0.5125\n",
      "Epoch 41/100\n",
      "10/10 [==============================] - 21s 2s/step - loss: 1.9139 - accuracy: 0.4625\n",
      "Epoch 42/100\n",
      "10/10 [==============================] - 22s 2s/step - loss: 2.0410 - accuracy: 0.5000\n",
      "Epoch 43/100\n",
      "10/10 [==============================] - 22s 2s/step - loss: 1.7323 - accuracy: 0.5125\n",
      "Epoch 44/100\n",
      "10/10 [==============================] - 21s 2s/step - loss: 1.7539 - accuracy: 0.5250\n",
      "Epoch 45/100\n",
      "10/10 [==============================] - 21s 2s/step - loss: 1.3931 - accuracy: 0.7000\n",
      "Epoch 46/100\n",
      "10/10 [==============================] - 21s 1s/step - loss: 1.7106 - accuracy: 0.5125\n",
      "Epoch 47/100\n",
      "10/10 [==============================] - 21s 1s/step - loss: 1.3241 - accuracy: 0.6625\n",
      "Epoch 48/100\n",
      "10/10 [==============================] - 21s 2s/step - loss: 1.1911 - accuracy: 0.6125\n",
      "Epoch 49/100\n",
      "10/10 [==============================] - 21s 2s/step - loss: 1.5881 - accuracy: 0.5750\n",
      "Epoch 50/100\n",
      "10/10 [==============================] - 22s 2s/step - loss: 1.4179 - accuracy: 0.6375\n",
      "Epoch 51/100\n",
      "10/10 [==============================] - 21s 2s/step - loss: 1.2568 - accuracy: 0.6625\n",
      "Epoch 52/100\n",
      "10/10 [==============================] - 21s 1s/step - loss: 0.9527 - accuracy: 0.7250\n",
      "Epoch 53/100\n",
      "10/10 [==============================] - 21s 2s/step - loss: 0.8483 - accuracy: 0.7625\n",
      "Epoch 54/100\n",
      "10/10 [==============================] - 21s 2s/step - loss: 1.2915 - accuracy: 0.6125\n",
      "Epoch 55/100\n",
      "10/10 [==============================] - 21s 1s/step - loss: 1.0967 - accuracy: 0.7125\n",
      "Epoch 56/100\n",
      "10/10 [==============================] - 23s 2s/step - loss: 0.6601 - accuracy: 0.7875\n",
      "Epoch 57/100\n",
      "10/10 [==============================] - 22s 1s/step - loss: 0.7451 - accuracy: 0.8125\n",
      "Epoch 58/100\n",
      "10/10 [==============================] - 21s 1s/step - loss: 0.8703 - accuracy: 0.7750\n",
      "Epoch 59/100\n",
      "10/10 [==============================] - 21s 1s/step - loss: 0.8592 - accuracy: 0.7875\n",
      "Epoch 60/100\n",
      "10/10 [==============================] - 21s 1s/step - loss: 0.4245 - accuracy: 0.9125\n",
      "Epoch 61/100\n",
      "10/10 [==============================] - 22s 2s/step - loss: 0.6894 - accuracy: 0.8125\n",
      "Epoch 62/100\n",
      "10/10 [==============================] - 20s 1s/step - loss: 0.6274 - accuracy: 0.8375\n",
      "Epoch 63/100\n",
      "10/10 [==============================] - 24s 2s/step - loss: 0.6136 - accuracy: 0.8375\n",
      "Epoch 64/100\n",
      "10/10 [==============================] - 22s 1s/step - loss: 0.7241 - accuracy: 0.7750\n",
      "Epoch 65/100\n",
      "10/10 [==============================] - 21s 1s/step - loss: 0.6253 - accuracy: 0.8625\n",
      "Epoch 66/100\n",
      "10/10 [==============================] - 21s 1s/step - loss: 0.6654 - accuracy: 0.8125\n",
      "Epoch 67/100\n",
      "10/10 [==============================] - 21s 2s/step - loss: 0.4349 - accuracy: 0.8750\n",
      "Epoch 68/100\n",
      "10/10 [==============================] - 21s 1s/step - loss: 0.5861 - accuracy: 0.8250\n",
      "Epoch 69/100\n",
      "10/10 [==============================] - 22s 1s/step - loss: 0.6087 - accuracy: 0.8000\n",
      "Epoch 70/100\n",
      "10/10 [==============================] - 21s 1s/step - loss: 0.4403 - accuracy: 0.9000\n",
      "Epoch 71/100\n",
      "10/10 [==============================] - 21s 1s/step - loss: 0.5380 - accuracy: 0.8500\n",
      "Epoch 72/100\n",
      "10/10 [==============================] - 21s 1s/step - loss: 0.3584 - accuracy: 0.9250\n",
      "Epoch 73/100\n",
      "10/10 [==============================] - 21s 1s/step - loss: 0.4379 - accuracy: 0.8375\n",
      "Epoch 74/100\n",
      "10/10 [==============================] - 21s 2s/step - loss: 0.3336 - accuracy: 0.8875\n",
      "Epoch 75/100\n",
      "10/10 [==============================] - 22s 1s/step - loss: 0.2886 - accuracy: 0.9375\n",
      "Epoch 76/100\n",
      "10/10 [==============================] - 21s 1s/step - loss: 0.3049 - accuracy: 0.9250\n",
      "Epoch 77/100\n",
      "10/10 [==============================] - 21s 2s/step - loss: 0.2833 - accuracy: 0.9000\n",
      "Epoch 78/100\n",
      "10/10 [==============================] - 22s 1s/step - loss: 0.2143 - accuracy: 0.9375\n",
      "Epoch 79/100\n",
      "10/10 [==============================] - 21s 2s/step - loss: 0.2370 - accuracy: 0.9375\n",
      "Epoch 80/100\n",
      "10/10 [==============================] - 21s 1s/step - loss: 0.2487 - accuracy: 0.9125\n",
      "Epoch 81/100\n",
      "10/10 [==============================] - 21s 2s/step - loss: 0.3787 - accuracy: 0.8875\n",
      "Epoch 82/100\n",
      "10/10 [==============================] - 21s 2s/step - loss: 0.6936 - accuracy: 0.8125\n",
      "Epoch 83/100\n",
      "10/10 [==============================] - 22s 2s/step - loss: 0.6082 - accuracy: 0.7875\n",
      "Epoch 84/100\n",
      "10/10 [==============================] - 21s 2s/step - loss: 0.6446 - accuracy: 0.8250\n",
      "Epoch 85/100\n",
      "10/10 [==============================] - 22s 1s/step - loss: 0.6779 - accuracy: 0.8500\n",
      "Epoch 86/100\n",
      "10/10 [==============================] - 21s 2s/step - loss: 0.7208 - accuracy: 0.7250\n",
      "Epoch 87/100\n",
      "10/10 [==============================] - 22s 1s/step - loss: 0.7344 - accuracy: 0.7750\n",
      "Epoch 88/100\n",
      "10/10 [==============================] - 21s 2s/step - loss: 0.7305 - accuracy: 0.8000\n",
      "Epoch 89/100\n",
      "10/10 [==============================] - 21s 2s/step - loss: 0.3154 - accuracy: 0.8875\n",
      "Epoch 90/100\n",
      "10/10 [==============================] - 21s 2s/step - loss: 0.2094 - accuracy: 0.9500\n",
      "Epoch 91/100\n",
      "10/10 [==============================] - 22s 2s/step - loss: 0.4031 - accuracy: 0.8750\n",
      "Epoch 92/100\n",
      "10/10 [==============================] - 24s 2s/step - loss: 0.3883 - accuracy: 0.9250\n",
      "Epoch 93/100\n",
      "10/10 [==============================] - 21s 1s/step - loss: 0.3556 - accuracy: 0.9000\n",
      "Epoch 94/100\n",
      "10/10 [==============================] - 21s 1s/step - loss: 0.2790 - accuracy: 0.9250\n",
      "Epoch 95/100\n",
      "10/10 [==============================] - 21s 1s/step - loss: 0.1321 - accuracy: 1.0000\n",
      "Epoch 96/100\n",
      "10/10 [==============================] - 22s 2s/step - loss: 0.1467 - accuracy: 0.9625\n",
      "Epoch 97/100\n",
      "10/10 [==============================] - 21s 1s/step - loss: 0.2788 - accuracy: 0.9250\n",
      "Epoch 98/100\n",
      "10/10 [==============================] - 21s 1s/step - loss: 0.2201 - accuracy: 0.9125\n",
      "Epoch 99/100\n",
      "10/10 [==============================] - 21s 1s/step - loss: 0.4559 - accuracy: 0.8750\n",
      "Epoch 100/100\n",
      "10/10 [==============================] - 22s 1s/step - loss: 0.3871 - accuracy: 0.8625\n"
     ]
    }
   ],
   "source": [
    "history_2 = model_2.fit(\n",
    "                    train_generator, \n",
    "                    epochs = 100, \n",
    "                    steps_per_epoch=10,\n",
    "                    verbose = 1,\n",
    "                 ) "
   ]
  },
  {
   "cell_type": "code",
   "execution_count": 108,
   "id": "827537a6-3f7d-4aeb-9e83-5417733b67c9",
   "metadata": {},
   "outputs": [
    {
     "data": {
      "image/png": "[encoded data removed]",
      "text/plain": [
       "<Figure size 432x288 with 1 Axes>"
      ]
     },
     "metadata": {
      "needs_background": "light"
     },
     "output_type": "display_data"
    }
   ],
   "source": [
    "import matplotlib.pyplot as plt\n",
    "\n",
    "loss_hist_2 = history_2.history[\"loss\"]\n",
    "plt.plot(loss_hist_2, c = 'red')\n",
    "plt.show()\n"
   ]
  },
  {
   "cell_type": "code",
   "execution_count": 118,
   "id": "f8ef915f-e233-48de-81d4-f4c83baf1c26",
   "metadata": {},
   "outputs": [
    {
     "data": {
      "image/png": "[encoded data removed]",
      "text/plain": [
       "<Figure size 432x288 with 1 Axes>"
      ]
     },
     "metadata": {
      "needs_background": "light"
     },
     "output_type": "display_data"
    }
   ],
   "source": [
    "acc_hist_2 = history_2.history[\"accuracy\"]\n",
    "plt.plot(acc_hist_2, c = 'blue')\n",
    "plt.show()"
   ]
  },
  {
   "cell_type": "code",
   "execution_count": 109,
   "id": "e24a2b6e-bfea-4763-90cd-d9f8b9aa1adf",
   "metadata": {},
   "outputs": [
    {
     "name": "stderr",
     "output_type": "stream",
     "text": [
      "/usr/local/anaconda3/lib/python3.8/site-packages/tensorflow/python/keras/utils/generic_utils.py:494: CustomMaskWarning: Custom mask layers require a config and must override get_config. When loading, the custom mask layer must be passed to the custom_objects argument.\n",
      "  warnings.warn('Custom mask layers require a config and must override '\n"
     ]
    },
    {
     "name": "stdout",
     "output_type": "stream",
     "text": [
      "INFO:tensorflow:Assets written to: models/supervised_model_2.saved_model/assets\n"
     ]
    }
   ],
   "source": [
    "model_2.save(\"models/supervised_model_2.saved_model\")"
   ]
  },
  {
   "cell_type": "code",
   "execution_count": 110,
   "id": "f0049e03-d820-4250-aab2-ba67aba866cd",
   "metadata": {},
   "outputs": [
    {
     "name": "stdout",
     "output_type": "stream",
     "text": [
      "128/128 [==============================] - 55s 427ms/step - loss: 3.1999 - accuracy: 0.2178\n"
     ]
    }
   ],
   "source": [
    "result_2 = model_2.evaluate(test_generator)"
   ]
  },
  {
   "cell_type": "markdown",
   "id": "417bc7e3-435a-41bd-aa3f-81505bbd4e59",
   "metadata": {},
   "source": [
    "## Chopping at \"conv3_block4_out\""
   ]
  },
  {
   "cell_type": "code",
   "execution_count": 113,
   "id": "6074d12f-a47b-4816-9eb4-63fb672b43cc",
   "metadata": {},
   "outputs": [
    {
     "name": "stdout",
     "output_type": "stream",
     "text": [
      "embedding_input_shape =  (128, 128, 3)\n",
      "newhead_input_shape =  (512,)\n",
      "DENSE_DIMS =  (308, 231)\n"
     ]
    }
   ],
   "source": [
    "\n",
    "n_classes = len(y)\n",
    "\n",
    "model_3 = build_supervised_model(\n",
    "                               embedding_input_shape = EMBEDDING_INPUT_SHAPE, \n",
    "                               n_classes = n_classes, \n",
    "                               chopping_layer = \"conv3_block4_out\",\n",
    "                               #learning_rate = 0.001,\n",
    "                               finetune = True,\n",
    "                                )"
   ]
  },
  {
   "cell_type": "code",
   "execution_count": 114,
   "id": "d8be6e17-f17c-4a63-9d1e-f701fe193333",
   "metadata": {},
   "outputs": [
    {
     "name": "stdout",
     "output_type": "stream",
     "text": [
      "Epoch 1/100\n",
      "10/10 [==============================] - 33s 2s/step - loss: 9.2984 - accuracy: 0.0000e+00\n",
      "Epoch 2/100\n",
      "10/10 [==============================] - 31s 2s/step - loss: 5.9687 - accuracy: 0.0125\n",
      "Epoch 3/100\n",
      "10/10 [==============================] - 34s 3s/step - loss: 5.4108 - accuracy: 0.0250\n",
      "Epoch 4/100\n",
      "10/10 [==============================] - 33s 3s/step - loss: 4.8865 - accuracy: 0.0625\n",
      "Epoch 5/100\n",
      "10/10 [==============================] - 43s 3s/step - loss: 4.7877 - accuracy: 0.1250\n",
      "Epoch 6/100\n",
      "10/10 [==============================] - 36s 3s/step - loss: 4.9147 - accuracy: 0.0500\n",
      "Epoch 7/100\n",
      "10/10 [==============================] - 37s 3s/step - loss: 4.7843 - accuracy: 0.0750\n",
      "Epoch 8/100\n",
      "10/10 [==============================] - 38s 3s/step - loss: 4.6226 - accuracy: 0.1125\n",
      "Epoch 9/100\n",
      "10/10 [==============================] - 32s 3s/step - loss: 4.3123 - accuracy: 0.1500\n",
      "Epoch 10/100\n",
      "10/10 [==============================] - 31s 3s/step - loss: 4.2544 - accuracy: 0.1375\n",
      "Epoch 11/100\n",
      "10/10 [==============================] - 31s 3s/step - loss: 4.2249 - accuracy: 0.1250\n",
      "Epoch 12/100\n",
      "10/10 [==============================] - 31s 3s/step - loss: 4.1589 - accuracy: 0.1500\n",
      "Epoch 13/100\n",
      "10/10 [==============================] - 31s 3s/step - loss: 3.4696 - accuracy: 0.3125\n",
      "Epoch 14/100\n",
      "10/10 [==============================] - 32s 3s/step - loss: 3.5895 - accuracy: 0.3000\n",
      "Epoch 15/100\n",
      "10/10 [==============================] - 31s 3s/step - loss: 3.0646 - accuracy: 0.3625\n",
      "Epoch 16/100\n",
      "10/10 [==============================] - 31s 3s/step - loss: 2.7897 - accuracy: 0.4500\n",
      "Epoch 17/100\n",
      "10/10 [==============================] - 31s 3s/step - loss: 2.8203 - accuracy: 0.3875\n",
      "Epoch 18/100\n",
      "10/10 [==============================] - 31s 3s/step - loss: 2.1994 - accuracy: 0.5125\n",
      "Epoch 19/100\n",
      "10/10 [==============================] - 32s 3s/step - loss: 2.5948 - accuracy: 0.3875\n",
      "Epoch 20/100\n",
      "10/10 [==============================] - 34s 3s/step - loss: 2.3322 - accuracy: 0.5500\n",
      "Epoch 21/100\n",
      "10/10 [==============================] - 33s 3s/step - loss: 2.0616 - accuracy: 0.5750\n",
      "Epoch 22/100\n",
      "10/10 [==============================] - 32s 3s/step - loss: 1.9245 - accuracy: 0.5250\n",
      "Epoch 23/100\n",
      "10/10 [==============================] - 32s 3s/step - loss: 1.8788 - accuracy: 0.5625\n",
      "Epoch 24/100\n",
      "10/10 [==============================] - 32s 3s/step - loss: 1.4876 - accuracy: 0.6375\n",
      "Epoch 25/100\n",
      "10/10 [==============================] - 32s 3s/step - loss: 1.4357 - accuracy: 0.6125\n",
      "Epoch 26/100\n",
      "10/10 [==============================] - 32s 3s/step - loss: 1.3149 - accuracy: 0.6875\n",
      "Epoch 27/100\n",
      "10/10 [==============================] - 32s 3s/step - loss: 0.9619 - accuracy: 0.7250\n",
      "Epoch 28/100\n",
      "10/10 [==============================] - 32s 3s/step - loss: 0.9200 - accuracy: 0.7875\n",
      "Epoch 29/100\n",
      "10/10 [==============================] - 31s 3s/step - loss: 1.1637 - accuracy: 0.7000\n",
      "Epoch 30/100\n",
      "10/10 [==============================] - 31s 3s/step - loss: 1.0592 - accuracy: 0.7500\n",
      "Epoch 31/100\n",
      "10/10 [==============================] - 32s 3s/step - loss: 1.0322 - accuracy: 0.7000\n",
      "Epoch 32/100\n",
      "10/10 [==============================] - 31s 3s/step - loss: 0.9422 - accuracy: 0.7875\n",
      "Epoch 33/100\n",
      "10/10 [==============================] - 31s 3s/step - loss: 0.9731 - accuracy: 0.7500\n",
      "Epoch 34/100\n",
      "10/10 [==============================] - 31s 3s/step - loss: 0.5955 - accuracy: 0.8625\n",
      "Epoch 35/100\n",
      "10/10 [==============================] - 31s 3s/step - loss: 0.8686 - accuracy: 0.7625\n",
      "Epoch 36/100\n",
      "10/10 [==============================] - 31s 3s/step - loss: 0.8478 - accuracy: 0.7625\n",
      "Epoch 37/100\n",
      "10/10 [==============================] - 32s 3s/step - loss: 0.9156 - accuracy: 0.7750\n",
      "Epoch 38/100\n",
      "10/10 [==============================] - 31s 3s/step - loss: 0.9897 - accuracy: 0.6875\n",
      "Epoch 39/100\n",
      "10/10 [==============================] - 31s 3s/step - loss: 0.7575 - accuracy: 0.7500\n",
      "Epoch 40/100\n",
      "10/10 [==============================] - 37s 3s/step - loss: 0.8673 - accuracy: 0.7875\n",
      "Epoch 41/100\n",
      "10/10 [==============================] - 41s 4s/step - loss: 0.6298 - accuracy: 0.8250\n",
      "Epoch 42/100\n",
      "10/10 [==============================] - 35s 3s/step - loss: 0.6068 - accuracy: 0.8750\n",
      "Epoch 43/100\n",
      "10/10 [==============================] - 39s 3s/step - loss: 0.5629 - accuracy: 0.8375\n",
      "Epoch 44/100\n",
      "10/10 [==============================] - 33s 3s/step - loss: 0.4231 - accuracy: 0.9375\n",
      "Epoch 45/100\n",
      "10/10 [==============================] - 32s 3s/step - loss: 0.7058 - accuracy: 0.7750\n",
      "Epoch 46/100\n",
      "10/10 [==============================] - 32s 3s/step - loss: 0.3281 - accuracy: 0.9000\n",
      "Epoch 47/100\n",
      "10/10 [==============================] - 31s 3s/step - loss: 0.3783 - accuracy: 0.9125\n",
      "Epoch 48/100\n",
      "10/10 [==============================] - 32s 3s/step - loss: 0.4972 - accuracy: 0.8375\n",
      "Epoch 49/100\n",
      "10/10 [==============================] - 31s 3s/step - loss: 0.6142 - accuracy: 0.8125\n",
      "Epoch 50/100\n",
      "10/10 [==============================] - 32s 3s/step - loss: 0.6444 - accuracy: 0.8250\n",
      "Epoch 51/100\n",
      "10/10 [==============================] - 32s 3s/step - loss: 0.3495 - accuracy: 0.9000\n",
      "Epoch 52/100\n",
      "10/10 [==============================] - 32s 3s/step - loss: 0.3808 - accuracy: 0.8875\n",
      "Epoch 53/100\n",
      "10/10 [==============================] - 32s 3s/step - loss: 0.3076 - accuracy: 0.9125\n",
      "Epoch 54/100\n",
      "10/10 [==============================] - 32s 3s/step - loss: 0.3579 - accuracy: 0.8750\n",
      "Epoch 55/100\n",
      "10/10 [==============================] - 32s 3s/step - loss: 0.4545 - accuracy: 0.8750\n",
      "Epoch 56/100\n",
      "10/10 [==============================] - 32s 3s/step - loss: 0.3715 - accuracy: 0.8875\n",
      "Epoch 57/100\n",
      "10/10 [==============================] - 32s 3s/step - loss: 0.5422 - accuracy: 0.8750\n",
      "Epoch 58/100\n",
      "10/10 [==============================] - 32s 3s/step - loss: 0.2968 - accuracy: 0.9250\n",
      "Epoch 59/100\n",
      "10/10 [==============================] - 32s 3s/step - loss: 0.2205 - accuracy: 0.9625\n",
      "Epoch 60/100\n",
      "10/10 [==============================] - 32s 3s/step - loss: 0.4039 - accuracy: 0.8500\n",
      "Epoch 61/100\n",
      "10/10 [==============================] - 32s 3s/step - loss: 0.3400 - accuracy: 0.8875\n",
      "Epoch 62/100\n",
      "10/10 [==============================] - 32s 3s/step - loss: 0.5305 - accuracy: 0.8750\n",
      "Epoch 63/100\n",
      "10/10 [==============================] - 107s 11s/step - loss: 0.4670 - accuracy: 0.8500\n",
      "Epoch 64/100\n",
      "10/10 [==============================] - 31s 2s/step - loss: 0.5437 - accuracy: 0.8500\n",
      "Epoch 65/100\n",
      "10/10 [==============================] - 1394s 154s/step - loss: 0.7504 - accuracy: 0.7500\n",
      "Epoch 66/100\n",
      "10/10 [==============================] - 7718s 807s/step - loss: 0.5212 - accuracy: 0.8500\n",
      "Epoch 67/100\n",
      "10/10 [==============================] - 21699s 1609s/step - loss: 0.5559 - accuracy: 0.8750\n",
      "Epoch 68/100\n",
      "10/10 [==============================] - 5475s 607s/step - loss: 0.2675 - accuracy: 0.9375\n",
      "Epoch 69/100\n",
      "10/10 [==============================] - 33s 3s/step - loss: 0.5361 - accuracy: 0.8375\n",
      "Epoch 70/100\n",
      "10/10 [==============================] - 30s 2s/step - loss: 0.5238 - accuracy: 0.8375\n",
      "Epoch 71/100\n",
      "10/10 [==============================] - 30s 2s/step - loss: 0.5997 - accuracy: 0.8000\n",
      "Epoch 72/100\n",
      "10/10 [==============================] - 32s 3s/step - loss: 0.3079 - accuracy: 0.8750\n",
      "Epoch 73/100\n",
      "10/10 [==============================] - 34s 3s/step - loss: 0.3384 - accuracy: 0.9000\n",
      "Epoch 74/100\n",
      "10/10 [==============================] - 30s 2s/step - loss: 0.2539 - accuracy: 0.9125\n",
      "Epoch 75/100\n",
      "10/10 [==============================] - 30s 2s/step - loss: 0.5311 - accuracy: 0.8500\n",
      "Epoch 76/100\n",
      "10/10 [==============================] - 30s 2s/step - loss: 0.6474 - accuracy: 0.7750\n",
      "Epoch 77/100\n",
      "10/10 [==============================] - 30s 2s/step - loss: 0.4951 - accuracy: 0.8875\n",
      "Epoch 78/100\n",
      "10/10 [==============================] - 30s 2s/step - loss: 0.8145 - accuracy: 0.7500\n",
      "Epoch 79/100\n",
      "10/10 [==============================] - 30s 2s/step - loss: 0.5739 - accuracy: 0.8375\n",
      "Epoch 80/100\n",
      "10/10 [==============================] - 30s 2s/step - loss: 0.4291 - accuracy: 0.8375\n",
      "Epoch 81/100\n",
      "10/10 [==============================] - 30s 2s/step - loss: 0.5502 - accuracy: 0.8625\n",
      "Epoch 82/100\n",
      "10/10 [==============================] - 30s 2s/step - loss: 0.5115 - accuracy: 0.8375\n",
      "Epoch 83/100\n",
      "10/10 [==============================] - 30s 2s/step - loss: 0.6521 - accuracy: 0.8500\n",
      "Epoch 84/100\n",
      "10/10 [==============================] - 33s 3s/step - loss: 0.4953 - accuracy: 0.8875\n",
      "Epoch 85/100\n",
      "10/10 [==============================] - 32s 2s/step - loss: 0.5814 - accuracy: 0.8250\n",
      "Epoch 86/100\n",
      "10/10 [==============================] - 32s 3s/step - loss: 0.4377 - accuracy: 0.8875\n",
      "Epoch 87/100\n",
      "10/10 [==============================] - 30s 2s/step - loss: 0.3338 - accuracy: 0.9000\n",
      "Epoch 88/100\n",
      "10/10 [==============================] - 31s 2s/step - loss: 0.6147 - accuracy: 0.8000\n",
      "Epoch 89/100\n",
      "10/10 [==============================] - 31s 2s/step - loss: 0.5641 - accuracy: 0.8250\n",
      "Epoch 90/100\n",
      "10/10 [==============================] - 32s 3s/step - loss: 0.8018 - accuracy: 0.7250\n",
      "Epoch 91/100\n",
      "10/10 [==============================] - 32s 3s/step - loss: 0.4778 - accuracy: 0.8375\n",
      "Epoch 92/100\n",
      "10/10 [==============================] - 32s 2s/step - loss: 0.4966 - accuracy: 0.8625\n",
      "Epoch 93/100\n",
      "10/10 [==============================] - 30s 2s/step - loss: 0.5628 - accuracy: 0.8500\n",
      "Epoch 94/100\n",
      "10/10 [==============================] - 31s 2s/step - loss: 0.6131 - accuracy: 0.8125\n",
      "Epoch 95/100\n",
      "10/10 [==============================] - 35s 3s/step - loss: 0.5916 - accuracy: 0.8875\n",
      "Epoch 96/100\n",
      "10/10 [==============================] - 32s 3s/step - loss: 0.6785 - accuracy: 0.8250\n",
      "Epoch 97/100\n",
      "10/10 [==============================] - 31s 2s/step - loss: 0.4869 - accuracy: 0.8375\n",
      "Epoch 98/100\n",
      "10/10 [==============================] - 33s 3s/step - loss: 0.7121 - accuracy: 0.7500\n",
      "Epoch 99/100\n",
      "10/10 [==============================] - 32s 3s/step - loss: 0.3457 - accuracy: 0.8875\n",
      "Epoch 100/100\n",
      "10/10 [==============================] - 32s 3s/step - loss: 0.4484 - accuracy: 0.8625\n"
     ]
    }
   ],
   "source": [
    "history_3 = model_3.fit(\n",
    "                    train_generator, \n",
    "                    epochs = 100, \n",
    "                    steps_per_epoch=10,\n",
    "                    verbose = 1,\n",
    "                 ) "
   ]
  },
  {
   "cell_type": "code",
   "execution_count": 119,
   "id": "50de84c3-8551-4278-bcc5-91b04dc2a10d",
   "metadata": {},
   "outputs": [
    {
     "data": {
      "image/png": "[encoded data removed]",
      "text/plain": [
       "<Figure size 432x288 with 1 Axes>"
      ]
     },
     "metadata": {
      "needs_background": "light"
     },
     "output_type": "display_data"
    }
   ],
   "source": [
    "import matplotlib.pyplot as plt\n",
    "\n",
    "loss_hist_3 = history_3.history[\"loss\"]\n",
    "plt.plot(loss_hist_3, c = 'red')\n",
    "plt.show()"
   ]
  },
  {
   "cell_type": "code",
   "execution_count": 120,
   "id": "81c20c53-2460-46c5-af6c-346bbe2d65ca",
   "metadata": {},
   "outputs": [
    {
     "data": {
      "image/png": "[encoded data removed]",
      "text/plain": [
       "<Figure size 432x288 with 1 Axes>"
      ]
     },
     "metadata": {
      "needs_background": "light"
     },
     "output_type": "display_data"
    }
   ],
   "source": [
    "acc_hist_3 = history_3.history[\"accuracy\"]\n",
    "plt.plot(acc_hist_3, c = 'blue')\n",
    "plt.show()"
   ]
  },
  {
   "cell_type": "code",
   "execution_count": 121,
   "id": "abeeea10-0053-4e2f-a612-fb02e4dd9a8c",
   "metadata": {},
   "outputs": [
    {
     "name": "stdout",
     "output_type": "stream",
     "text": [
      "128/128 [==============================] - 96s 743ms/step - loss: 5.0272 - accuracy: 0.1221\n"
     ]
    }
   ],
   "source": [
    "result_3 = model_3.evaluate(test_generator)"
   ]
  },
  {
   "cell_type": "markdown",
   "id": "422e8052-1a6a-4b1d-a254-b9df99da5241",
   "metadata": {},
   "source": [
    "## Chopping at \"conv4_block6_out\""
   ]
  },
  {
   "cell_type": "code",
   "execution_count": null,
   "id": "2653e5b3-827d-45d4-81d5-91669d1df029",
   "metadata": {},
   "outputs": [],
   "source": [
    "n_classes = len(y)\n",
    "\n",
    "model_4 = build_supervised_model(\n",
    "                               embedding_input_shape = EMBEDDING_INPUT_SHAPE, \n",
    "                               n_classes = n_classes, \n",
    "                               chopping_layer = \"conv4_block6_out\",\n",
    "                               #learning_rate = 0.001,\n",
    "                               finetune = True,\n",
    "                                )"
   ]
  },
  {
   "cell_type": "code",
   "execution_count": null,
   "id": "f097e727-cfe1-4a01-9f48-21f21cbb0a23",
   "metadata": {},
   "outputs": [],
   "source": [
    "history_4 = model_4.fit(\n",
    "                    train_generator, \n",
    "                    epochs = 100, \n",
    "                    steps_per_epoch=10,\n",
    "                    verbose = 1,\n",
    "                 ) "
   ]
  },
  {
   "cell_type": "code",
   "execution_count": null,
   "id": "a91cf87e-fa85-4db5-b8b0-e29c1eb85903",
   "metadata": {},
   "outputs": [],
   "source": [
    "import matplotlib.pyplot as plt\n",
    "\n",
    "loss_hist_4 = history_4.history[\"loss\"]\n",
    "\n",
    "plt.plot(loss_hist_4, c = 'red')\n",
    "plt.show()"
   ]
  },
  {
   "cell_type": "code",
   "execution_count": null,
   "id": "9c36c49d-7982-4894-a7fc-9ac8f55cdebd",
   "metadata": {},
   "outputs": [],
   "source": [
    "result_4 = model_4.evaluate(test_generator)"
   ]
  },
  {
   "cell_type": "markdown",
   "id": "99c94b07-7417-4ab5-abc9-9a1d7e02ec3d",
   "metadata": {},
   "source": [
    "# Training fine-tuning"
   ]
  },
  {
   "cell_type": "code",
   "execution_count": null,
   "id": "adbc5336-64a8-4a65-b635-331e5f7e1161",
   "metadata": {},
   "outputs": [],
   "source": [
    "train_history_finetuned = model_finetuned.fit(\n",
    "                    train_generator, \n",
    "                    epochs = 100, \n",
    "                    steps_per_epoch=10,\n",
    "                    verbose = 1,\n",
    "                    batch_size = batch_size,\n",
    "                    #validation_data = val_generator,\n",
    "                 ) "
   ]
  },
  {
   "cell_type": "code",
   "execution_count": null,
   "id": "2004d6ef-c16a-4e32-ad63-ae026576faa9",
   "metadata": {},
   "outputs": [],
   "source": [
    "model_finetuned.save(\"models/supervised_model_finetuned.saved_model\")"
   ]
  }
 ],
 "metadata": {
  "kernelspec": {
   "display_name": "Python 3",
   "language": "python",
   "name": "python3"
  },
  "language_info": {
   "codemirror_mode": {
    "name": "ipython",
    "version": 3
   },
   "file_extension": ".py",
   "mimetype": "text/x-python",
   "name": "python",
   "nbconvert_exporter": "python",
   "pygments_lexer": "ipython3",
   "version": "3.8.8"
  }
 },
 "nbformat": 4,
 "nbformat_minor": 5
}
