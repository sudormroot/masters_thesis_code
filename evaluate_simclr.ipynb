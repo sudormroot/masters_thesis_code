{
 "cells": [
  {
   "cell_type": "code",
   "execution_count": 2,
   "id": "d5a3c4ed-44e2-4f67-ac06-56ab56c11059",
   "metadata": {},
   "outputs": [],
   "source": [
    "import numpy as np\n",
    "import pandas as pd\n",
    "import os\n",
    "import sys \n",
    "\n",
    "libpath = \"lib\"\n",
    "sys.path.append(libpath)\n",
    "\n",
    "libpath = \"simclr_impl\"\n",
    "sys.path.append(libpath)"
   ]
  },
  {
   "cell_type": "code",
   "execution_count": 3,
   "id": "c330c0e7-2448-4230-8ab7-5a447566551c",
   "metadata": {},
   "outputs": [],
   "source": [
    "from DataGeneratorSimCLR import DataGeneratorSimCLR as DataGenerator\n",
    "from SimCLR import SimCLR"
   ]
  },
  {
   "cell_type": "code",
   "execution_count": null,
   "id": "b988c8fb-475e-4898-8740-3febaf4d7c9b",
   "metadata": {},
   "outputs": [],
   "source": [
    "batch_size = 32\n",
    "# Projection_head\n",
    "num_layers_ph = 2\n",
    "feat_dims_ph = [2048, 128]\n",
    "num_of_unfrozen_layers = 1 #Note: with 1, all weights of the base_model are still frozen (last layer is max_pool)\n",
    "save_path = 'models/trashnet'"
   ]
  }
 ],
 "metadata": {
  "kernelspec": {
   "display_name": "Python 3",
   "language": "python",
   "name": "python3"
  },
  "language_info": {
   "codemirror_mode": {
    "name": "ipython",
    "version": 3
   },
   "file_extension": ".py",
   "mimetype": "text/x-python",
   "name": "python",
   "nbconvert_exporter": "python",
   "pygments_lexer": "ipython3",
   "version": "3.8.8"
  }
 },
 "nbformat": 4,
 "nbformat_minor": 5
}
